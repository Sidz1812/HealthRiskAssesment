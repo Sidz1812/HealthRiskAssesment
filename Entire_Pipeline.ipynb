{
  "cells": [
    {
      "cell_type": "markdown",
      "source": [
        "# IMPORTING LIBRARIES"
      ],
      "metadata": {
        "id": "dEnZkCykicTA"
      }
    },
    {
      "cell_type": "code",
      "execution_count": 138,
      "metadata": {
        "id": "yR4muQQyKhdM"
      },
      "outputs": [],
      "source": [
        "#import library \n",
        "import numpy as np\n",
        "import pandas as pd\n",
        "import seaborn as sns\n",
        "import matplotlib.pyplot as plt\n",
        "import numpy as np\n",
        "import pandas as pd\n",
        "import seaborn as sns\n",
        "import matplotlib.pyplot as plt\n",
        "from sklearn.linear_model import LogisticRegression\n",
        "from sklearn.ensemble import GradientBoostingClassifier,RandomForestClassifier,AdaBoostClassifier\n",
        "from sklearn.ensemble import RandomForestClassifier\n",
        "from sklearn.tree import DecisionTreeClassifier\n",
        "from sklearn.ensemble import GradientBoostingClassifier\n",
        "from sklearn.neighbors import KNeighborsClassifier\n",
        "from sklearn.neural_network import MLPClassifier\n",
        "from sklearn.preprocessing import StandardScaler\n",
        "from sklearn.naive_bayes import GaussianNB\n",
        "from sklearn.model_selection import cross_val_predict,cross_val_score,train_test_split\n",
        "from sklearn.metrics import classification_report,confusion_matrix,roc_curve,auc,precision_recall_curve,roc_curve\n",
        "from sklearn.metrics import accuracy_score, precision_score, recall_score, f1_score\n",
        "from sklearn.svm import SVC\n",
        "from sklearn.metrics import confusion_matrix\n",
        "from sklearn.metrics import roc_curve, auc\n",
        "from sklearn.metrics import classification_report\n",
        "from sklearn.ensemble import GradientBoostingClassifier\n",
        "import os\n",
        "from sklearn.linear_model import LogisticRegression\n",
        "from sklearn.metrics import classification_report\n",
        "import matplotlib.pyplot as plt\n",
        "from mpl_toolkits.mplot3d import Axes3D\n",
        "import seaborn as sns\n",
        "from imblearn.over_sampling import SMOTE\n",
        "import imblearn\n",
        "from imblearn.under_sampling import RandomUnderSampler\n",
        "from imblearn.over_sampling import RandomOverSampler\n",
        "from imblearn.under_sampling import TomekLinks\n",
        "from imblearn.under_sampling import ClusterCentroids\n",
        "from sklearn.model_selection import GridSearchCV\n",
        "from sklearn.metrics import roc_auc_score\n",
        "%matplotlib inline\n",
        "import warnings\n",
        "warnings.simplefilter(action='ignore')"
      ]
    },
    {
      "cell_type": "markdown",
      "source": [
        "# IMPORTING DATA"
      ],
      "metadata": {
        "id": "hIUXM06kii2q"
      }
    },
    {
      "cell_type": "code",
      "source": [
        "dataset = pd.read_csv('CH.csv')"
      ],
      "metadata": {
        "id": "eIQRao8xLuJE"
      },
      "execution_count": 139,
      "outputs": []
    },
    {
      "cell_type": "markdown",
      "source": [
        "**CONSIDERING ONLY THE SUBSET OF THE GIVEN DATASET i.e DATA COLLECTED IN 2016 & 2017.**"
      ],
      "metadata": {
        "id": "KpWwqXvoCD1U"
      }
    },
    {
      "cell_type": "code",
      "source": [
        "dataset['CreatedDate'] = pd.to_datetime(dataset['CreatedDate'])\n",
        "dataset = dataset.set_index(dataset['CreatedDate'])\n",
        "dataset = dataset.sort_index()"
      ],
      "metadata": {
        "id": "-U0Z1MJIVlpq"
      },
      "execution_count": 140,
      "outputs": []
    },
    {
      "cell_type": "code",
      "source": [
        "data = dataset['2016-01-01':'2018-01-01']"
      ],
      "metadata": {
        "id": "veOIJk5iVl__"
      },
      "execution_count": 141,
      "outputs": []
    },
    {
      "cell_type": "code",
      "source": [
        "data = data.drop('CreatedDate', axis = 1)"
      ],
      "metadata": {
        "id": "lbMaPb5UVrUn"
      },
      "execution_count": 142,
      "outputs": []
    },
    {
      "cell_type": "code",
      "source": [
        "data = data.reset_index('CreatedDate')\n",
        "#data.head(10)"
      ],
      "metadata": {
        "id": "mMxNptLFVs0F"
      },
      "execution_count": 143,
      "outputs": []
    },
    {
      "cell_type": "markdown",
      "source": [
        "# DATA CLEANING + EDA"
      ],
      "metadata": {
        "id": "2tn6sK0Mi_m8"
      }
    },
    {
      "cell_type": "code",
      "source": [
        "#check the lable info\n",
        "print(data['HighRisk'].value_counts())\n",
        "print(data['EmergencyReferral'].value_counts())"
      ],
      "metadata": {
        "colab": {
          "base_uri": "https://localhost:8080/"
        },
        "id": "lMZAadOpMFHs",
        "outputId": "aa891087-68e1-406f-ea46-c47599d4e111"
      },
      "execution_count": 144,
      "outputs": [
        {
          "output_type": "stream",
          "name": "stdout",
          "text": [
            "NO     144903\n",
            "YES      5238\n",
            "Name: HighRisk, dtype: int64\n",
            "NO     149950\n",
            "YES       191\n",
            "Name: EmergencyReferral, dtype: int64\n"
          ]
        }
      ]
    },
    {
      "cell_type": "code",
      "source": [
        "#check how many rows * columns\n",
        "print(data.shape)"
      ],
      "metadata": {
        "colab": {
          "base_uri": "https://localhost:8080/"
        },
        "id": "Q4nwBU1FMNqN",
        "outputId": "34c06905-2eeb-4d22-99f0-5370fed86002"
      },
      "execution_count": 145,
      "outputs": [
        {
          "output_type": "stream",
          "name": "stdout",
          "text": [
            "(151478, 72)\n"
          ]
        }
      ]
    },
    {
      "cell_type": "code",
      "execution_count": 146,
      "metadata": {
        "id": "eLy2uuqhKhdS",
        "outputId": "d488c044-add3-466f-f7b8-91ec91f7e30f",
        "colab": {
          "base_uri": "https://localhost:8080/"
        }
      },
      "outputs": [
        {
          "output_type": "execute_result",
          "data": {
            "text/plain": [
              "EmergencyReferral    1337\n",
              "HighRisk             1337\n",
              "dtype: int64"
            ]
          },
          "metadata": {},
          "execution_count": 146
        }
      ],
      "source": [
        "#remove all the missing value in Highrisk\n",
        "\n",
        "data[['EmergencyReferral','HighRisk']].isnull().sum()"
      ]
    },
    {
      "cell_type": "code",
      "source": [
        "data[['EmergencyReferral','HighRisk']]"
      ],
      "metadata": {
        "colab": {
          "base_uri": "https://localhost:8080/",
          "height": 483
        },
        "id": "zjryrPW2w18i",
        "outputId": "f05d32db-e39c-4c0d-8c52-dc77015fe15d"
      },
      "execution_count": 147,
      "outputs": [
        {
          "output_type": "execute_result",
          "data": {
            "text/html": [
              "\n",
              "  <div id=\"df-80414e0c-d48a-4db5-a05b-c2a30856641a\">\n",
              "    <div class=\"colab-df-container\">\n",
              "      <div>\n",
              "<style scoped>\n",
              "    .dataframe tbody tr th:only-of-type {\n",
              "        vertical-align: middle;\n",
              "    }\n",
              "\n",
              "    .dataframe tbody tr th {\n",
              "        vertical-align: top;\n",
              "    }\n",
              "\n",
              "    .dataframe thead th {\n",
              "        text-align: right;\n",
              "    }\n",
              "</style>\n",
              "<table border=\"1\" class=\"dataframe\">\n",
              "  <thead>\n",
              "    <tr style=\"text-align: right;\">\n",
              "      <th></th>\n",
              "      <th>EmergencyReferral</th>\n",
              "      <th>HighRisk</th>\n",
              "    </tr>\n",
              "  </thead>\n",
              "  <tbody>\n",
              "    <tr>\n",
              "      <th>0</th>\n",
              "      <td>NO</td>\n",
              "      <td>NO</td>\n",
              "    </tr>\n",
              "    <tr>\n",
              "      <th>1</th>\n",
              "      <td>NO</td>\n",
              "      <td>NO</td>\n",
              "    </tr>\n",
              "    <tr>\n",
              "      <th>2</th>\n",
              "      <td>NO</td>\n",
              "      <td>NO</td>\n",
              "    </tr>\n",
              "    <tr>\n",
              "      <th>3</th>\n",
              "      <td>NO</td>\n",
              "      <td>NO</td>\n",
              "    </tr>\n",
              "    <tr>\n",
              "      <th>4</th>\n",
              "      <td>NO</td>\n",
              "      <td>YES</td>\n",
              "    </tr>\n",
              "    <tr>\n",
              "      <th>...</th>\n",
              "      <td>...</td>\n",
              "      <td>...</td>\n",
              "    </tr>\n",
              "    <tr>\n",
              "      <th>151473</th>\n",
              "      <td>NO</td>\n",
              "      <td>NO</td>\n",
              "    </tr>\n",
              "    <tr>\n",
              "      <th>151474</th>\n",
              "      <td>NO</td>\n",
              "      <td>NO</td>\n",
              "    </tr>\n",
              "    <tr>\n",
              "      <th>151475</th>\n",
              "      <td>NO</td>\n",
              "      <td>NO</td>\n",
              "    </tr>\n",
              "    <tr>\n",
              "      <th>151476</th>\n",
              "      <td>NO</td>\n",
              "      <td>NO</td>\n",
              "    </tr>\n",
              "    <tr>\n",
              "      <th>151477</th>\n",
              "      <td>NO</td>\n",
              "      <td>NO</td>\n",
              "    </tr>\n",
              "  </tbody>\n",
              "</table>\n",
              "<p>151478 rows × 2 columns</p>\n",
              "</div>\n",
              "      <button class=\"colab-df-convert\" onclick=\"convertToInteractive('df-80414e0c-d48a-4db5-a05b-c2a30856641a')\"\n",
              "              title=\"Convert this dataframe to an interactive table.\"\n",
              "              style=\"display:none;\">\n",
              "        \n",
              "  <svg xmlns=\"http://www.w3.org/2000/svg\" height=\"24px\"viewBox=\"0 0 24 24\"\n",
              "       width=\"24px\">\n",
              "    <path d=\"M0 0h24v24H0V0z\" fill=\"none\"/>\n",
              "    <path d=\"M18.56 5.44l.94 2.06.94-2.06 2.06-.94-2.06-.94-.94-2.06-.94 2.06-2.06.94zm-11 1L8.5 8.5l.94-2.06 2.06-.94-2.06-.94L8.5 2.5l-.94 2.06-2.06.94zm10 10l.94 2.06.94-2.06 2.06-.94-2.06-.94-.94-2.06-.94 2.06-2.06.94z\"/><path d=\"M17.41 7.96l-1.37-1.37c-.4-.4-.92-.59-1.43-.59-.52 0-1.04.2-1.43.59L10.3 9.45l-7.72 7.72c-.78.78-.78 2.05 0 2.83L4 21.41c.39.39.9.59 1.41.59.51 0 1.02-.2 1.41-.59l7.78-7.78 2.81-2.81c.8-.78.8-2.07 0-2.86zM5.41 20L4 18.59l7.72-7.72 1.47 1.35L5.41 20z\"/>\n",
              "  </svg>\n",
              "      </button>\n",
              "      \n",
              "  <style>\n",
              "    .colab-df-container {\n",
              "      display:flex;\n",
              "      flex-wrap:wrap;\n",
              "      gap: 12px;\n",
              "    }\n",
              "\n",
              "    .colab-df-convert {\n",
              "      background-color: #E8F0FE;\n",
              "      border: none;\n",
              "      border-radius: 50%;\n",
              "      cursor: pointer;\n",
              "      display: none;\n",
              "      fill: #1967D2;\n",
              "      height: 32px;\n",
              "      padding: 0 0 0 0;\n",
              "      width: 32px;\n",
              "    }\n",
              "\n",
              "    .colab-df-convert:hover {\n",
              "      background-color: #E2EBFA;\n",
              "      box-shadow: 0px 1px 2px rgba(60, 64, 67, 0.3), 0px 1px 3px 1px rgba(60, 64, 67, 0.15);\n",
              "      fill: #174EA6;\n",
              "    }\n",
              "\n",
              "    [theme=dark] .colab-df-convert {\n",
              "      background-color: #3B4455;\n",
              "      fill: #D2E3FC;\n",
              "    }\n",
              "\n",
              "    [theme=dark] .colab-df-convert:hover {\n",
              "      background-color: #434B5C;\n",
              "      box-shadow: 0px 1px 3px 1px rgba(0, 0, 0, 0.15);\n",
              "      filter: drop-shadow(0px 1px 2px rgba(0, 0, 0, 0.3));\n",
              "      fill: #FFFFFF;\n",
              "    }\n",
              "  </style>\n",
              "\n",
              "      <script>\n",
              "        const buttonEl =\n",
              "          document.querySelector('#df-80414e0c-d48a-4db5-a05b-c2a30856641a button.colab-df-convert');\n",
              "        buttonEl.style.display =\n",
              "          google.colab.kernel.accessAllowed ? 'block' : 'none';\n",
              "\n",
              "        async function convertToInteractive(key) {\n",
              "          const element = document.querySelector('#df-80414e0c-d48a-4db5-a05b-c2a30856641a');\n",
              "          const dataTable =\n",
              "            await google.colab.kernel.invokeFunction('convertToInteractive',\n",
              "                                                     [key], {});\n",
              "          if (!dataTable) return;\n",
              "\n",
              "          const docLinkHtml = 'Like what you see? Visit the ' +\n",
              "            '<a target=\"_blank\" href=https://colab.research.google.com/notebooks/data_table.ipynb>data table notebook</a>'\n",
              "            + ' to learn more about interactive tables.';\n",
              "          element.innerHTML = '';\n",
              "          dataTable['output_type'] = 'display_data';\n",
              "          await google.colab.output.renderOutput(dataTable, element);\n",
              "          const docLink = document.createElement('div');\n",
              "          docLink.innerHTML = docLinkHtml;\n",
              "          element.appendChild(docLink);\n",
              "        }\n",
              "      </script>\n",
              "    </div>\n",
              "  </div>\n",
              "  "
            ],
            "text/plain": [
              "       EmergencyReferral HighRisk\n",
              "0                     NO       NO\n",
              "1                     NO       NO\n",
              "2                     NO       NO\n",
              "3                     NO       NO\n",
              "4                     NO      YES\n",
              "...                  ...      ...\n",
              "151473                NO       NO\n",
              "151474                NO       NO\n",
              "151475                NO       NO\n",
              "151476                NO       NO\n",
              "151477                NO       NO\n",
              "\n",
              "[151478 rows x 2 columns]"
            ]
          },
          "metadata": {},
          "execution_count": 147
        }
      ]
    },
    {
      "cell_type": "markdown",
      "source": [
        "**NUMBER OF UNIQUE PATIENT ID**"
      ],
      "metadata": {
        "id": "2eQI13Jcja38"
      }
    },
    {
      "cell_type": "code",
      "execution_count": 148,
      "metadata": {
        "id": "zsLOI0nAKhdS",
        "outputId": "a789e65f-4634-4868-bc85-23e17f1c2f10",
        "colab": {
          "base_uri": "https://localhost:8080/"
        }
      },
      "outputs": [
        {
          "output_type": "stream",
          "name": "stdout",
          "text": [
            "The number of unique patient is \n"
          ]
        },
        {
          "output_type": "execute_result",
          "data": {
            "text/plain": [
              "119020"
            ]
          },
          "metadata": {},
          "execution_count": 148
        }
      ],
      "source": [
        "print(\"The number of unique patient is \")\n",
        "len(data[\"PatientID\"].unique())"
      ]
    },
    {
      "cell_type": "code",
      "execution_count": 149,
      "metadata": {
        "id": "Qltd7OIQKhdS",
        "outputId": "8000efaa-98ac-49b1-83a4-5e317ac60881",
        "colab": {
          "base_uri": "https://localhost:8080/"
        }
      },
      "outputs": [
        {
          "output_type": "stream",
          "name": "stdout",
          "text": [
            "0.0536036491394043\n"
          ]
        }
      ],
      "source": [
        "df_temp1=data\n",
        "import time\n",
        "start = time.time()\n",
        "dicts = {}\n",
        "num_keys = range(len(df_temp1[\"PatientID\"].unique()))\n",
        "values =list(df_temp1[\"PatientID\"].unique())\n",
        "for i in num_keys:\n",
        "    #print(values[i])\n",
        "    dicts[i] = values[i]\n",
        "#print(dicts)\n",
        "end = time. time()\n",
        "print(end - start)"
      ]
    },
    {
      "cell_type": "code",
      "execution_count": 150,
      "metadata": {
        "id": "7FYhzuVKKhdT",
        "outputId": "c813e708-2a04-4da0-b698-aea3ff59330f",
        "colab": {
          "base_uri": "https://localhost:8080/",
          "height": 268
        }
      },
      "outputs": [
        {
          "output_type": "execute_result",
          "data": {
            "text/html": [
              "\n",
              "  <div id=\"df-00eb8ee6-a84c-49c6-96e7-ecaaef6c1091\">\n",
              "    <div class=\"colab-df-container\">\n",
              "      <div>\n",
              "<style scoped>\n",
              "    .dataframe tbody tr th:only-of-type {\n",
              "        vertical-align: middle;\n",
              "    }\n",
              "\n",
              "    .dataframe tbody tr th {\n",
              "        vertical-align: top;\n",
              "    }\n",
              "\n",
              "    .dataframe thead th {\n",
              "        text-align: right;\n",
              "    }\n",
              "</style>\n",
              "<table border=\"1\" class=\"dataframe\">\n",
              "  <thead>\n",
              "    <tr style=\"text-align: right;\">\n",
              "      <th></th>\n",
              "      <th>PatientID</th>\n",
              "      <th>AgeGroup</th>\n",
              "      <th>State</th>\n",
              "      <th>ZipCode</th>\n",
              "      <th>Gender</th>\n",
              "      <th>Age</th>\n",
              "      <th>Fasting</th>\n",
              "      <th>GLU</th>\n",
              "      <th>A1c</th>\n",
              "      <th>SBP</th>\n",
              "      <th>DBP</th>\n",
              "      <th>TCHOL</th>\n",
              "      <th>TC:HDL_RATIO</th>\n",
              "      <th>LDL</th>\n",
              "      <th>HDL</th>\n",
              "      <th>TGS</th>\n",
              "      <th>AbdominalCir</th>\n",
              "      <th>HEIGHT</th>\n",
              "      <th>WEIGHT</th>\n",
              "      <th>BMI</th>\n",
              "      <th>ALT</th>\n",
              "    </tr>\n",
              "  </thead>\n",
              "  <tbody>\n",
              "    <tr>\n",
              "      <th>0</th>\n",
              "      <td>119883</td>\n",
              "      <td>60 - 69</td>\n",
              "      <td>OK</td>\n",
              "      <td>74158</td>\n",
              "      <td>F</td>\n",
              "      <td>67</td>\n",
              "      <td>YES</td>\n",
              "      <td>96.0</td>\n",
              "      <td>5.4</td>\n",
              "      <td>133.0</td>\n",
              "      <td>65.0</td>\n",
              "      <td>210.0</td>\n",
              "      <td>2.8</td>\n",
              "      <td>113.0</td>\n",
              "      <td>74.0</td>\n",
              "      <td>116.0</td>\n",
              "      <td>40.0</td>\n",
              "      <td>61.0</td>\n",
              "      <td>205.0</td>\n",
              "      <td>38.4</td>\n",
              "      <td>28.0</td>\n",
              "    </tr>\n",
              "    <tr>\n",
              "      <th>1</th>\n",
              "      <td>119882</td>\n",
              "      <td>18 - 39</td>\n",
              "      <td>OK</td>\n",
              "      <td>74105</td>\n",
              "      <td>F</td>\n",
              "      <td>32</td>\n",
              "      <td>YES</td>\n",
              "      <td>94.0</td>\n",
              "      <td>5.1</td>\n",
              "      <td>126.0</td>\n",
              "      <td>88.0</td>\n",
              "      <td>231.0</td>\n",
              "      <td>3.4</td>\n",
              "      <td>141.0</td>\n",
              "      <td>68.0</td>\n",
              "      <td>108.0</td>\n",
              "      <td>32.0</td>\n",
              "      <td>67.0</td>\n",
              "      <td>171.0</td>\n",
              "      <td>26.8</td>\n",
              "      <td>25.0</td>\n",
              "    </tr>\n",
              "    <tr>\n",
              "      <th>2</th>\n",
              "      <td>119938</td>\n",
              "      <td>18 - 39</td>\n",
              "      <td>OK</td>\n",
              "      <td>74037</td>\n",
              "      <td>M</td>\n",
              "      <td>34</td>\n",
              "      <td>YES</td>\n",
              "      <td>82.0</td>\n",
              "      <td>4.8</td>\n",
              "      <td>134.0</td>\n",
              "      <td>80.0</td>\n",
              "      <td>255.0</td>\n",
              "      <td>3.8</td>\n",
              "      <td>139.0</td>\n",
              "      <td>67.0</td>\n",
              "      <td>242.0</td>\n",
              "      <td>35.0</td>\n",
              "      <td>70.0</td>\n",
              "      <td>177.0</td>\n",
              "      <td>25.2</td>\n",
              "      <td>33.0</td>\n",
              "    </tr>\n",
              "    <tr>\n",
              "      <th>3</th>\n",
              "      <td>120179</td>\n",
              "      <td>40 - 49</td>\n",
              "      <td>OK</td>\n",
              "      <td>74021</td>\n",
              "      <td>F</td>\n",
              "      <td>44</td>\n",
              "      <td>YES</td>\n",
              "      <td>85.0</td>\n",
              "      <td>5.3</td>\n",
              "      <td>138.0</td>\n",
              "      <td>79.0</td>\n",
              "      <td>230.0</td>\n",
              "      <td>3.8</td>\n",
              "      <td>148.0</td>\n",
              "      <td>61.0</td>\n",
              "      <td>104.0</td>\n",
              "      <td>39.0</td>\n",
              "      <td>66.0</td>\n",
              "      <td>186.0</td>\n",
              "      <td>30.0</td>\n",
              "      <td>18.0</td>\n",
              "    </tr>\n",
              "    <tr>\n",
              "      <th>4</th>\n",
              "      <td>119896</td>\n",
              "      <td>40 - 49</td>\n",
              "      <td>OK</td>\n",
              "      <td>74012</td>\n",
              "      <td>M</td>\n",
              "      <td>42</td>\n",
              "      <td>NO</td>\n",
              "      <td>98.0</td>\n",
              "      <td>5.0</td>\n",
              "      <td>142.0</td>\n",
              "      <td>100.0</td>\n",
              "      <td>217.0</td>\n",
              "      <td>3.8</td>\n",
              "      <td>110.0</td>\n",
              "      <td>56.0</td>\n",
              "      <td>252.0</td>\n",
              "      <td>34.0</td>\n",
              "      <td>64.0</td>\n",
              "      <td>137.0</td>\n",
              "      <td>23.3</td>\n",
              "      <td>25.0</td>\n",
              "    </tr>\n",
              "  </tbody>\n",
              "</table>\n",
              "</div>\n",
              "      <button class=\"colab-df-convert\" onclick=\"convertToInteractive('df-00eb8ee6-a84c-49c6-96e7-ecaaef6c1091')\"\n",
              "              title=\"Convert this dataframe to an interactive table.\"\n",
              "              style=\"display:none;\">\n",
              "        \n",
              "  <svg xmlns=\"http://www.w3.org/2000/svg\" height=\"24px\"viewBox=\"0 0 24 24\"\n",
              "       width=\"24px\">\n",
              "    <path d=\"M0 0h24v24H0V0z\" fill=\"none\"/>\n",
              "    <path d=\"M18.56 5.44l.94 2.06.94-2.06 2.06-.94-2.06-.94-.94-2.06-.94 2.06-2.06.94zm-11 1L8.5 8.5l.94-2.06 2.06-.94-2.06-.94L8.5 2.5l-.94 2.06-2.06.94zm10 10l.94 2.06.94-2.06 2.06-.94-2.06-.94-.94-2.06-.94 2.06-2.06.94z\"/><path d=\"M17.41 7.96l-1.37-1.37c-.4-.4-.92-.59-1.43-.59-.52 0-1.04.2-1.43.59L10.3 9.45l-7.72 7.72c-.78.78-.78 2.05 0 2.83L4 21.41c.39.39.9.59 1.41.59.51 0 1.02-.2 1.41-.59l7.78-7.78 2.81-2.81c.8-.78.8-2.07 0-2.86zM5.41 20L4 18.59l7.72-7.72 1.47 1.35L5.41 20z\"/>\n",
              "  </svg>\n",
              "      </button>\n",
              "      \n",
              "  <style>\n",
              "    .colab-df-container {\n",
              "      display:flex;\n",
              "      flex-wrap:wrap;\n",
              "      gap: 12px;\n",
              "    }\n",
              "\n",
              "    .colab-df-convert {\n",
              "      background-color: #E8F0FE;\n",
              "      border: none;\n",
              "      border-radius: 50%;\n",
              "      cursor: pointer;\n",
              "      display: none;\n",
              "      fill: #1967D2;\n",
              "      height: 32px;\n",
              "      padding: 0 0 0 0;\n",
              "      width: 32px;\n",
              "    }\n",
              "\n",
              "    .colab-df-convert:hover {\n",
              "      background-color: #E2EBFA;\n",
              "      box-shadow: 0px 1px 2px rgba(60, 64, 67, 0.3), 0px 1px 3px 1px rgba(60, 64, 67, 0.15);\n",
              "      fill: #174EA6;\n",
              "    }\n",
              "\n",
              "    [theme=dark] .colab-df-convert {\n",
              "      background-color: #3B4455;\n",
              "      fill: #D2E3FC;\n",
              "    }\n",
              "\n",
              "    [theme=dark] .colab-df-convert:hover {\n",
              "      background-color: #434B5C;\n",
              "      box-shadow: 0px 1px 3px 1px rgba(0, 0, 0, 0.15);\n",
              "      filter: drop-shadow(0px 1px 2px rgba(0, 0, 0, 0.3));\n",
              "      fill: #FFFFFF;\n",
              "    }\n",
              "  </style>\n",
              "\n",
              "      <script>\n",
              "        const buttonEl =\n",
              "          document.querySelector('#df-00eb8ee6-a84c-49c6-96e7-ecaaef6c1091 button.colab-df-convert');\n",
              "        buttonEl.style.display =\n",
              "          google.colab.kernel.accessAllowed ? 'block' : 'none';\n",
              "\n",
              "        async function convertToInteractive(key) {\n",
              "          const element = document.querySelector('#df-00eb8ee6-a84c-49c6-96e7-ecaaef6c1091');\n",
              "          const dataTable =\n",
              "            await google.colab.kernel.invokeFunction('convertToInteractive',\n",
              "                                                     [key], {});\n",
              "          if (!dataTable) return;\n",
              "\n",
              "          const docLinkHtml = 'Like what you see? Visit the ' +\n",
              "            '<a target=\"_blank\" href=https://colab.research.google.com/notebooks/data_table.ipynb>data table notebook</a>'\n",
              "            + ' to learn more about interactive tables.';\n",
              "          element.innerHTML = '';\n",
              "          dataTable['output_type'] = 'display_data';\n",
              "          await google.colab.output.renderOutput(dataTable, element);\n",
              "          const docLink = document.createElement('div');\n",
              "          docLink.innerHTML = docLinkHtml;\n",
              "          element.appendChild(docLink);\n",
              "        }\n",
              "      </script>\n",
              "    </div>\n",
              "  </div>\n",
              "  "
            ],
            "text/plain": [
              "   PatientID AgeGroup State ZipCode  ... HEIGHT  WEIGHT   BMI   ALT\n",
              "0     119883  60 - 69    OK   74158  ...   61.0   205.0  38.4  28.0\n",
              "1     119882  18 - 39    OK   74105  ...   67.0   171.0  26.8  25.0\n",
              "2     119938  18 - 39    OK   74037  ...   70.0   177.0  25.2  33.0\n",
              "3     120179  40 - 49    OK   74021  ...   66.0   186.0  30.0  18.0\n",
              "4     119896  40 - 49    OK   74012  ...   64.0   137.0  23.3  25.0\n",
              "\n",
              "[5 rows x 21 columns]"
            ]
          },
          "metadata": {},
          "execution_count": 150
        }
      ],
      "source": [
        "# Check the different for PID\n",
        "#data.iloc[:5,:23]\n",
        "\n",
        "data.iloc[:5, 2:23]"
      ]
    },
    {
      "cell_type": "code",
      "execution_count": 151,
      "metadata": {
        "id": "SNKK7dxSKhdT",
        "outputId": "3bcec82e-82a4-4761-916f-618ebc79be5c",
        "colab": {
          "base_uri": "https://localhost:8080/",
          "height": 336
        }
      },
      "outputs": [
        {
          "output_type": "execute_result",
          "data": {
            "text/html": [
              "\n",
              "  <div id=\"df-23882b1d-7def-4330-9d4f-a14cd9d79eb5\">\n",
              "    <div class=\"colab-df-container\">\n",
              "      <div>\n",
              "<style scoped>\n",
              "    .dataframe tbody tr th:only-of-type {\n",
              "        vertical-align: middle;\n",
              "    }\n",
              "\n",
              "    .dataframe tbody tr th {\n",
              "        vertical-align: top;\n",
              "    }\n",
              "\n",
              "    .dataframe thead th {\n",
              "        text-align: right;\n",
              "    }\n",
              "</style>\n",
              "<table border=\"1\" class=\"dataframe\">\n",
              "  <thead>\n",
              "    <tr style=\"text-align: right;\">\n",
              "      <th></th>\n",
              "      <th>AST</th>\n",
              "      <th>METS_Risks</th>\n",
              "      <th>COTININE</th>\n",
              "      <th>BPAssessment</th>\n",
              "      <th>DyslipidemiaStatus</th>\n",
              "      <th>HDLAssessment</th>\n",
              "      <th>LDLAssessment</th>\n",
              "      <th>TGSAssessment</th>\n",
              "      <th>DMAssessment</th>\n",
              "      <th>DiabetesStatusUsingGlucose</th>\n",
              "      <th>DiabetesStatusUsingA1c</th>\n",
              "      <th>BMIAssessment</th>\n",
              "      <th>AbdominalCircumferenceStatus</th>\n",
              "      <th>PrimaryCareProvider</th>\n",
              "      <th>Smoking</th>\n",
              "      <th>SmokelessTobacco</th>\n",
              "      <th>Activity</th>\n",
              "      <th>Mammography</th>\n",
              "      <th>PapSmear</th>\n",
              "      <th>ClinicalBreastExam</th>\n",
              "    </tr>\n",
              "  </thead>\n",
              "  <tbody>\n",
              "    <tr>\n",
              "      <th>0</th>\n",
              "      <td>27.0</td>\n",
              "      <td>2</td>\n",
              "      <td>NaN</td>\n",
              "      <td>CONTROLLED</td>\n",
              "      <td>2</td>\n",
              "      <td>VERY GOOD</td>\n",
              "      <td>CONTROLLED</td>\n",
              "      <td>NORMAL</td>\n",
              "      <td>NORMAL</td>\n",
              "      <td>NORMAL</td>\n",
              "      <td>NORMAL</td>\n",
              "      <td>OBESITY</td>\n",
              "      <td>HIGH RISK</td>\n",
              "      <td>YES</td>\n",
              "      <td>NEVER</td>\n",
              "      <td>NEVER</td>\n",
              "      <td>YES</td>\n",
              "      <td>YES</td>\n",
              "      <td>YES</td>\n",
              "      <td>YES</td>\n",
              "    </tr>\n",
              "    <tr>\n",
              "      <th>1</th>\n",
              "      <td>21.0</td>\n",
              "      <td>1</td>\n",
              "      <td>NaN</td>\n",
              "      <td>HYPERTENSION STG1</td>\n",
              "      <td>1</td>\n",
              "      <td>VERY GOOD</td>\n",
              "      <td>BORDERLINE HIGH</td>\n",
              "      <td>NORMAL</td>\n",
              "      <td>NORMAL</td>\n",
              "      <td>NORMAL</td>\n",
              "      <td>NORMAL</td>\n",
              "      <td>OVERWEIGHT</td>\n",
              "      <td>NORMAL</td>\n",
              "      <td>YES</td>\n",
              "      <td>NEVER</td>\n",
              "      <td>NEVER</td>\n",
              "      <td>YES</td>\n",
              "      <td>NaN</td>\n",
              "      <td>YES</td>\n",
              "      <td>YES</td>\n",
              "    </tr>\n",
              "    <tr>\n",
              "      <th>2</th>\n",
              "      <td>41.0</td>\n",
              "      <td>2</td>\n",
              "      <td>NaN</td>\n",
              "      <td>CONTROLLED</td>\n",
              "      <td>1</td>\n",
              "      <td>VERY GOOD</td>\n",
              "      <td>BORDERLINE HIGH</td>\n",
              "      <td>HIGH</td>\n",
              "      <td>NORMAL</td>\n",
              "      <td>NORMAL</td>\n",
              "      <td>NORMAL</td>\n",
              "      <td>OVERWEIGHT</td>\n",
              "      <td>NORMAL</td>\n",
              "      <td>YES</td>\n",
              "      <td>QUIT</td>\n",
              "      <td>NEVER</td>\n",
              "      <td>YES</td>\n",
              "      <td>NaN</td>\n",
              "      <td>NaN</td>\n",
              "      <td>NaN</td>\n",
              "    </tr>\n",
              "    <tr>\n",
              "      <th>3</th>\n",
              "      <td>21.0</td>\n",
              "      <td>2</td>\n",
              "      <td>NaN</td>\n",
              "      <td>HYPERTENSION STG1</td>\n",
              "      <td>1</td>\n",
              "      <td>VERY GOOD</td>\n",
              "      <td>BORDERLINE HIGH</td>\n",
              "      <td>NORMAL</td>\n",
              "      <td>NORMAL</td>\n",
              "      <td>NORMAL</td>\n",
              "      <td>NORMAL</td>\n",
              "      <td>OBESITY</td>\n",
              "      <td>HIGH RISK</td>\n",
              "      <td>YES</td>\n",
              "      <td>NEVER</td>\n",
              "      <td>NEVER</td>\n",
              "      <td>NO</td>\n",
              "      <td>YES</td>\n",
              "      <td>NO</td>\n",
              "      <td>NO</td>\n",
              "    </tr>\n",
              "    <tr>\n",
              "      <th>4</th>\n",
              "      <td>32.0</td>\n",
              "      <td>-1</td>\n",
              "      <td>NaN</td>\n",
              "      <td>HYPERTENSION STG2</td>\n",
              "      <td>0</td>\n",
              "      <td>NOT FASTING</td>\n",
              "      <td>NOT FASTING</td>\n",
              "      <td>NOT FASTING</td>\n",
              "      <td>NaN</td>\n",
              "      <td>NOT FASTING</td>\n",
              "      <td>NORMAL</td>\n",
              "      <td>NORMAL</td>\n",
              "      <td>NORMAL</td>\n",
              "      <td>YES</td>\n",
              "      <td>NEVER</td>\n",
              "      <td>NEVER</td>\n",
              "      <td>YES</td>\n",
              "      <td>NaN</td>\n",
              "      <td>NaN</td>\n",
              "      <td>NaN</td>\n",
              "    </tr>\n",
              "  </tbody>\n",
              "</table>\n",
              "</div>\n",
              "      <button class=\"colab-df-convert\" onclick=\"convertToInteractive('df-23882b1d-7def-4330-9d4f-a14cd9d79eb5')\"\n",
              "              title=\"Convert this dataframe to an interactive table.\"\n",
              "              style=\"display:none;\">\n",
              "        \n",
              "  <svg xmlns=\"http://www.w3.org/2000/svg\" height=\"24px\"viewBox=\"0 0 24 24\"\n",
              "       width=\"24px\">\n",
              "    <path d=\"M0 0h24v24H0V0z\" fill=\"none\"/>\n",
              "    <path d=\"M18.56 5.44l.94 2.06.94-2.06 2.06-.94-2.06-.94-.94-2.06-.94 2.06-2.06.94zm-11 1L8.5 8.5l.94-2.06 2.06-.94-2.06-.94L8.5 2.5l-.94 2.06-2.06.94zm10 10l.94 2.06.94-2.06 2.06-.94-2.06-.94-.94-2.06-.94 2.06-2.06.94z\"/><path d=\"M17.41 7.96l-1.37-1.37c-.4-.4-.92-.59-1.43-.59-.52 0-1.04.2-1.43.59L10.3 9.45l-7.72 7.72c-.78.78-.78 2.05 0 2.83L4 21.41c.39.39.9.59 1.41.59.51 0 1.02-.2 1.41-.59l7.78-7.78 2.81-2.81c.8-.78.8-2.07 0-2.86zM5.41 20L4 18.59l7.72-7.72 1.47 1.35L5.41 20z\"/>\n",
              "  </svg>\n",
              "      </button>\n",
              "      \n",
              "  <style>\n",
              "    .colab-df-container {\n",
              "      display:flex;\n",
              "      flex-wrap:wrap;\n",
              "      gap: 12px;\n",
              "    }\n",
              "\n",
              "    .colab-df-convert {\n",
              "      background-color: #E8F0FE;\n",
              "      border: none;\n",
              "      border-radius: 50%;\n",
              "      cursor: pointer;\n",
              "      display: none;\n",
              "      fill: #1967D2;\n",
              "      height: 32px;\n",
              "      padding: 0 0 0 0;\n",
              "      width: 32px;\n",
              "    }\n",
              "\n",
              "    .colab-df-convert:hover {\n",
              "      background-color: #E2EBFA;\n",
              "      box-shadow: 0px 1px 2px rgba(60, 64, 67, 0.3), 0px 1px 3px 1px rgba(60, 64, 67, 0.15);\n",
              "      fill: #174EA6;\n",
              "    }\n",
              "\n",
              "    [theme=dark] .colab-df-convert {\n",
              "      background-color: #3B4455;\n",
              "      fill: #D2E3FC;\n",
              "    }\n",
              "\n",
              "    [theme=dark] .colab-df-convert:hover {\n",
              "      background-color: #434B5C;\n",
              "      box-shadow: 0px 1px 3px 1px rgba(0, 0, 0, 0.15);\n",
              "      filter: drop-shadow(0px 1px 2px rgba(0, 0, 0, 0.3));\n",
              "      fill: #FFFFFF;\n",
              "    }\n",
              "  </style>\n",
              "\n",
              "      <script>\n",
              "        const buttonEl =\n",
              "          document.querySelector('#df-23882b1d-7def-4330-9d4f-a14cd9d79eb5 button.colab-df-convert');\n",
              "        buttonEl.style.display =\n",
              "          google.colab.kernel.accessAllowed ? 'block' : 'none';\n",
              "\n",
              "        async function convertToInteractive(key) {\n",
              "          const element = document.querySelector('#df-23882b1d-7def-4330-9d4f-a14cd9d79eb5');\n",
              "          const dataTable =\n",
              "            await google.colab.kernel.invokeFunction('convertToInteractive',\n",
              "                                                     [key], {});\n",
              "          if (!dataTable) return;\n",
              "\n",
              "          const docLinkHtml = 'Like what you see? Visit the ' +\n",
              "            '<a target=\"_blank\" href=https://colab.research.google.com/notebooks/data_table.ipynb>data table notebook</a>'\n",
              "            + ' to learn more about interactive tables.';\n",
              "          element.innerHTML = '';\n",
              "          dataTable['output_type'] = 'display_data';\n",
              "          await google.colab.output.renderOutput(dataTable, element);\n",
              "          const docLink = document.createElement('div');\n",
              "          docLink.innerHTML = docLinkHtml;\n",
              "          element.appendChild(docLink);\n",
              "        }\n",
              "      </script>\n",
              "    </div>\n",
              "  </div>\n",
              "  "
            ],
            "text/plain": [
              "    AST  METS_Risks COTININE  ... Mammography  PapSmear ClinicalBreastExam\n",
              "0  27.0           2      NaN  ...         YES       YES                YES\n",
              "1  21.0           1      NaN  ...         NaN       YES                YES\n",
              "2  41.0           2      NaN  ...         NaN       NaN                NaN\n",
              "3  21.0           2      NaN  ...         YES        NO                 NO\n",
              "4  32.0          -1      NaN  ...         NaN       NaN                NaN\n",
              "\n",
              "[5 rows x 20 columns]"
            ]
          },
          "metadata": {},
          "execution_count": 151
        }
      ],
      "source": [
        "# Check the different for PID\n",
        "data.iloc[:5,23:43]"
      ]
    },
    {
      "cell_type": "code",
      "execution_count": 152,
      "metadata": {
        "id": "dUrQo29MKhdT"
      },
      "outputs": [],
      "source": [
        "inv_map = {v: k for k, v in dicts.items()}\n",
        "df_temp1[\"PatientID\"]=df_temp1[\"PatientID\"].map(inv_map)"
      ]
    },
    {
      "cell_type": "code",
      "execution_count": 153,
      "metadata": {
        "id": "lp-3QgEVKhdT",
        "outputId": "467ac7b4-e0d2-40ea-ffea-fcb01c279bfa",
        "colab": {
          "base_uri": "https://localhost:8080/",
          "height": 438
        }
      },
      "outputs": [
        {
          "output_type": "execute_result",
          "data": {
            "text/html": [
              "\n",
              "  <div id=\"df-43a298b9-29b6-47dd-81fa-889fe0b23d1d\">\n",
              "    <div class=\"colab-df-container\">\n",
              "      <div>\n",
              "<style scoped>\n",
              "    .dataframe tbody tr th:only-of-type {\n",
              "        vertical-align: middle;\n",
              "    }\n",
              "\n",
              "    .dataframe tbody tr th {\n",
              "        vertical-align: top;\n",
              "    }\n",
              "\n",
              "    .dataframe thead th {\n",
              "        text-align: right;\n",
              "    }\n",
              "</style>\n",
              "<table border=\"1\" class=\"dataframe\">\n",
              "  <thead>\n",
              "    <tr style=\"text-align: right;\">\n",
              "      <th></th>\n",
              "      <th>CreatedDate</th>\n",
              "      <th>CompanyName</th>\n",
              "      <th>PatientID</th>\n",
              "      <th>AgeGroup</th>\n",
              "      <th>State</th>\n",
              "      <th>ZipCode</th>\n",
              "      <th>Gender</th>\n",
              "      <th>Age</th>\n",
              "      <th>Fasting</th>\n",
              "      <th>GLU</th>\n",
              "      <th>A1c</th>\n",
              "      <th>SBP</th>\n",
              "      <th>DBP</th>\n",
              "      <th>TCHOL</th>\n",
              "      <th>TC:HDL_RATIO</th>\n",
              "      <th>LDL</th>\n",
              "      <th>HDL</th>\n",
              "      <th>TGS</th>\n",
              "      <th>AbdominalCir</th>\n",
              "      <th>HEIGHT</th>\n",
              "      <th>WEIGHT</th>\n",
              "      <th>BMI</th>\n",
              "      <th>ALT</th>\n",
              "      <th>AST</th>\n",
              "      <th>METS_Risks</th>\n",
              "      <th>COTININE</th>\n",
              "      <th>BPAssessment</th>\n",
              "      <th>DyslipidemiaStatus</th>\n",
              "      <th>HDLAssessment</th>\n",
              "      <th>LDLAssessment</th>\n",
              "      <th>TGSAssessment</th>\n",
              "      <th>DMAssessment</th>\n",
              "      <th>DiabetesStatusUsingGlucose</th>\n",
              "      <th>DiabetesStatusUsingA1c</th>\n",
              "      <th>BMIAssessment</th>\n",
              "      <th>AbdominalCircumferenceStatus</th>\n",
              "      <th>PrimaryCareProvider</th>\n",
              "      <th>Smoking</th>\n",
              "      <th>SmokelessTobacco</th>\n",
              "      <th>Activity</th>\n",
              "      <th>Mammography</th>\n",
              "      <th>PapSmear</th>\n",
              "      <th>ClinicalBreastExam</th>\n",
              "      <th>ColorectalExam</th>\n",
              "      <th>Alcohol</th>\n",
              "      <th>HypertensionHistory</th>\n",
              "      <th>DiabetesHistory</th>\n",
              "      <th>DiabetesDuringPregnancyHistory</th>\n",
              "      <th>CoronaryArteryHistory</th>\n",
              "      <th>HighCholesterolHistory</th>\n",
              "      <th>DaytimeFatigueHistory</th>\n",
              "      <th>SnoringHistory</th>\n",
              "      <th>AsthmaHistory</th>\n",
              "      <th>HeartFailureHistory</th>\n",
              "      <th>KidneyHistory</th>\n",
              "      <th>StrokeHistory</th>\n",
              "      <th>COPDHistory</th>\n",
              "      <th>HeartDiseaseHistory</th>\n",
              "      <th>HypertensionMedication</th>\n",
              "      <th>DiabetesMedication</th>\n",
              "      <th>CholesterolMedication</th>\n",
              "      <th>NewlyAssessedHypertension</th>\n",
              "      <th>NewlyAssessedDyslipidemia</th>\n",
              "      <th>NewlyAssessedDiabetes</th>\n",
              "      <th>EmergencyReferral</th>\n",
              "      <th>HighRisk</th>\n",
              "      <th>DiabetesPreventionProgram</th>\n",
              "      <th>COPDProgram</th>\n",
              "      <th>CoronaryArteryDiseaseProgram</th>\n",
              "      <th>DiabetesProgram</th>\n",
              "      <th>HeartFailureProgram</th>\n",
              "      <th>AsthmaProgram</th>\n",
              "    </tr>\n",
              "  </thead>\n",
              "  <tbody>\n",
              "    <tr>\n",
              "      <th>0</th>\n",
              "      <td>2016-01-05</td>\n",
              "      <td>PennWell Publishing Company</td>\n",
              "      <td>0</td>\n",
              "      <td>60 - 69</td>\n",
              "      <td>OK</td>\n",
              "      <td>74158</td>\n",
              "      <td>F</td>\n",
              "      <td>67</td>\n",
              "      <td>YES</td>\n",
              "      <td>96.0</td>\n",
              "      <td>5.4</td>\n",
              "      <td>133.0</td>\n",
              "      <td>65.0</td>\n",
              "      <td>210.0</td>\n",
              "      <td>2.8</td>\n",
              "      <td>113.0</td>\n",
              "      <td>74.0</td>\n",
              "      <td>116.0</td>\n",
              "      <td>40.0</td>\n",
              "      <td>61.0</td>\n",
              "      <td>205.0</td>\n",
              "      <td>38.4</td>\n",
              "      <td>28.0</td>\n",
              "      <td>27.0</td>\n",
              "      <td>2</td>\n",
              "      <td>NaN</td>\n",
              "      <td>CONTROLLED</td>\n",
              "      <td>2</td>\n",
              "      <td>VERY GOOD</td>\n",
              "      <td>CONTROLLED</td>\n",
              "      <td>NORMAL</td>\n",
              "      <td>NORMAL</td>\n",
              "      <td>NORMAL</td>\n",
              "      <td>NORMAL</td>\n",
              "      <td>OBESITY</td>\n",
              "      <td>HIGH RISK</td>\n",
              "      <td>YES</td>\n",
              "      <td>NEVER</td>\n",
              "      <td>NEVER</td>\n",
              "      <td>YES</td>\n",
              "      <td>YES</td>\n",
              "      <td>YES</td>\n",
              "      <td>YES</td>\n",
              "      <td>YES</td>\n",
              "      <td>NO</td>\n",
              "      <td>YES</td>\n",
              "      <td>NO</td>\n",
              "      <td>NO</td>\n",
              "      <td>NO</td>\n",
              "      <td>YES</td>\n",
              "      <td>NaN</td>\n",
              "      <td>NO</td>\n",
              "      <td>NO</td>\n",
              "      <td>NO</td>\n",
              "      <td>NO</td>\n",
              "      <td>NaN</td>\n",
              "      <td>NO</td>\n",
              "      <td>NO</td>\n",
              "      <td>YES</td>\n",
              "      <td>NO</td>\n",
              "      <td>YES</td>\n",
              "      <td>0</td>\n",
              "      <td>0</td>\n",
              "      <td>0</td>\n",
              "      <td>NO</td>\n",
              "      <td>NO</td>\n",
              "      <td>NaN</td>\n",
              "      <td>NaN</td>\n",
              "      <td>NaN</td>\n",
              "      <td>NaN</td>\n",
              "      <td>NaN</td>\n",
              "      <td>NaN</td>\n",
              "    </tr>\n",
              "    <tr>\n",
              "      <th>1</th>\n",
              "      <td>2016-01-05</td>\n",
              "      <td>PennWell Publishing Company</td>\n",
              "      <td>1</td>\n",
              "      <td>18 - 39</td>\n",
              "      <td>OK</td>\n",
              "      <td>74105</td>\n",
              "      <td>F</td>\n",
              "      <td>32</td>\n",
              "      <td>YES</td>\n",
              "      <td>94.0</td>\n",
              "      <td>5.1</td>\n",
              "      <td>126.0</td>\n",
              "      <td>88.0</td>\n",
              "      <td>231.0</td>\n",
              "      <td>3.4</td>\n",
              "      <td>141.0</td>\n",
              "      <td>68.0</td>\n",
              "      <td>108.0</td>\n",
              "      <td>32.0</td>\n",
              "      <td>67.0</td>\n",
              "      <td>171.0</td>\n",
              "      <td>26.8</td>\n",
              "      <td>25.0</td>\n",
              "      <td>21.0</td>\n",
              "      <td>1</td>\n",
              "      <td>NaN</td>\n",
              "      <td>HYPERTENSION STG1</td>\n",
              "      <td>1</td>\n",
              "      <td>VERY GOOD</td>\n",
              "      <td>BORDERLINE HIGH</td>\n",
              "      <td>NORMAL</td>\n",
              "      <td>NORMAL</td>\n",
              "      <td>NORMAL</td>\n",
              "      <td>NORMAL</td>\n",
              "      <td>OVERWEIGHT</td>\n",
              "      <td>NORMAL</td>\n",
              "      <td>YES</td>\n",
              "      <td>NEVER</td>\n",
              "      <td>NEVER</td>\n",
              "      <td>YES</td>\n",
              "      <td>NaN</td>\n",
              "      <td>YES</td>\n",
              "      <td>YES</td>\n",
              "      <td>NaN</td>\n",
              "      <td>NO</td>\n",
              "      <td>NO</td>\n",
              "      <td>NO</td>\n",
              "      <td>NO</td>\n",
              "      <td>NO</td>\n",
              "      <td>NO</td>\n",
              "      <td>NaN</td>\n",
              "      <td>NO</td>\n",
              "      <td>YES</td>\n",
              "      <td>NO</td>\n",
              "      <td>NO</td>\n",
              "      <td>NaN</td>\n",
              "      <td>NO</td>\n",
              "      <td>NO</td>\n",
              "      <td>NO</td>\n",
              "      <td>NaN</td>\n",
              "      <td>NaN</td>\n",
              "      <td>1</td>\n",
              "      <td>1</td>\n",
              "      <td>0</td>\n",
              "      <td>NO</td>\n",
              "      <td>NO</td>\n",
              "      <td>NaN</td>\n",
              "      <td>NaN</td>\n",
              "      <td>NaN</td>\n",
              "      <td>NaN</td>\n",
              "      <td>NaN</td>\n",
              "      <td>NaN</td>\n",
              "    </tr>\n",
              "    <tr>\n",
              "      <th>2</th>\n",
              "      <td>2016-01-05</td>\n",
              "      <td>PennWell Publishing Company</td>\n",
              "      <td>2</td>\n",
              "      <td>18 - 39</td>\n",
              "      <td>OK</td>\n",
              "      <td>74037</td>\n",
              "      <td>M</td>\n",
              "      <td>34</td>\n",
              "      <td>YES</td>\n",
              "      <td>82.0</td>\n",
              "      <td>4.8</td>\n",
              "      <td>134.0</td>\n",
              "      <td>80.0</td>\n",
              "      <td>255.0</td>\n",
              "      <td>3.8</td>\n",
              "      <td>139.0</td>\n",
              "      <td>67.0</td>\n",
              "      <td>242.0</td>\n",
              "      <td>35.0</td>\n",
              "      <td>70.0</td>\n",
              "      <td>177.0</td>\n",
              "      <td>25.2</td>\n",
              "      <td>33.0</td>\n",
              "      <td>41.0</td>\n",
              "      <td>2</td>\n",
              "      <td>NaN</td>\n",
              "      <td>CONTROLLED</td>\n",
              "      <td>1</td>\n",
              "      <td>VERY GOOD</td>\n",
              "      <td>BORDERLINE HIGH</td>\n",
              "      <td>HIGH</td>\n",
              "      <td>NORMAL</td>\n",
              "      <td>NORMAL</td>\n",
              "      <td>NORMAL</td>\n",
              "      <td>OVERWEIGHT</td>\n",
              "      <td>NORMAL</td>\n",
              "      <td>YES</td>\n",
              "      <td>QUIT</td>\n",
              "      <td>NEVER</td>\n",
              "      <td>YES</td>\n",
              "      <td>NaN</td>\n",
              "      <td>NaN</td>\n",
              "      <td>NaN</td>\n",
              "      <td>NaN</td>\n",
              "      <td>NO</td>\n",
              "      <td>YES</td>\n",
              "      <td>NO</td>\n",
              "      <td>NaN</td>\n",
              "      <td>NO</td>\n",
              "      <td>YES</td>\n",
              "      <td>NO</td>\n",
              "      <td>YES</td>\n",
              "      <td>NO</td>\n",
              "      <td>NO</td>\n",
              "      <td>NO</td>\n",
              "      <td>NaN</td>\n",
              "      <td>NO</td>\n",
              "      <td>NO</td>\n",
              "      <td>YES</td>\n",
              "      <td>NO</td>\n",
              "      <td>NO</td>\n",
              "      <td>0</td>\n",
              "      <td>0</td>\n",
              "      <td>0</td>\n",
              "      <td>NO</td>\n",
              "      <td>NO</td>\n",
              "      <td>NaN</td>\n",
              "      <td>NaN</td>\n",
              "      <td>NaN</td>\n",
              "      <td>NaN</td>\n",
              "      <td>NaN</td>\n",
              "      <td>NaN</td>\n",
              "    </tr>\n",
              "    <tr>\n",
              "      <th>3</th>\n",
              "      <td>2016-01-05</td>\n",
              "      <td>PennWell Publishing Company</td>\n",
              "      <td>3</td>\n",
              "      <td>40 - 49</td>\n",
              "      <td>OK</td>\n",
              "      <td>74021</td>\n",
              "      <td>F</td>\n",
              "      <td>44</td>\n",
              "      <td>YES</td>\n",
              "      <td>85.0</td>\n",
              "      <td>5.3</td>\n",
              "      <td>138.0</td>\n",
              "      <td>79.0</td>\n",
              "      <td>230.0</td>\n",
              "      <td>3.8</td>\n",
              "      <td>148.0</td>\n",
              "      <td>61.0</td>\n",
              "      <td>104.0</td>\n",
              "      <td>39.0</td>\n",
              "      <td>66.0</td>\n",
              "      <td>186.0</td>\n",
              "      <td>30.0</td>\n",
              "      <td>18.0</td>\n",
              "      <td>21.0</td>\n",
              "      <td>2</td>\n",
              "      <td>NaN</td>\n",
              "      <td>HYPERTENSION STG1</td>\n",
              "      <td>1</td>\n",
              "      <td>VERY GOOD</td>\n",
              "      <td>BORDERLINE HIGH</td>\n",
              "      <td>NORMAL</td>\n",
              "      <td>NORMAL</td>\n",
              "      <td>NORMAL</td>\n",
              "      <td>NORMAL</td>\n",
              "      <td>OBESITY</td>\n",
              "      <td>HIGH RISK</td>\n",
              "      <td>YES</td>\n",
              "      <td>NEVER</td>\n",
              "      <td>NEVER</td>\n",
              "      <td>NO</td>\n",
              "      <td>YES</td>\n",
              "      <td>NO</td>\n",
              "      <td>NO</td>\n",
              "      <td>NaN</td>\n",
              "      <td>NO</td>\n",
              "      <td>NO</td>\n",
              "      <td>NO</td>\n",
              "      <td>NO</td>\n",
              "      <td>NO</td>\n",
              "      <td>NO</td>\n",
              "      <td>NaN</td>\n",
              "      <td>NO</td>\n",
              "      <td>NO</td>\n",
              "      <td>NO</td>\n",
              "      <td>NO</td>\n",
              "      <td>NaN</td>\n",
              "      <td>NO</td>\n",
              "      <td>NO</td>\n",
              "      <td>NO</td>\n",
              "      <td>NO</td>\n",
              "      <td>NO</td>\n",
              "      <td>1</td>\n",
              "      <td>1</td>\n",
              "      <td>0</td>\n",
              "      <td>NO</td>\n",
              "      <td>NO</td>\n",
              "      <td>NaN</td>\n",
              "      <td>NaN</td>\n",
              "      <td>NaN</td>\n",
              "      <td>NaN</td>\n",
              "      <td>NaN</td>\n",
              "      <td>NaN</td>\n",
              "    </tr>\n",
              "    <tr>\n",
              "      <th>4</th>\n",
              "      <td>2016-01-05</td>\n",
              "      <td>PennWell Publishing Company</td>\n",
              "      <td>4</td>\n",
              "      <td>40 - 49</td>\n",
              "      <td>OK</td>\n",
              "      <td>74012</td>\n",
              "      <td>M</td>\n",
              "      <td>42</td>\n",
              "      <td>NO</td>\n",
              "      <td>98.0</td>\n",
              "      <td>5.0</td>\n",
              "      <td>142.0</td>\n",
              "      <td>100.0</td>\n",
              "      <td>217.0</td>\n",
              "      <td>3.8</td>\n",
              "      <td>110.0</td>\n",
              "      <td>56.0</td>\n",
              "      <td>252.0</td>\n",
              "      <td>34.0</td>\n",
              "      <td>64.0</td>\n",
              "      <td>137.0</td>\n",
              "      <td>23.3</td>\n",
              "      <td>25.0</td>\n",
              "      <td>32.0</td>\n",
              "      <td>-1</td>\n",
              "      <td>NaN</td>\n",
              "      <td>HYPERTENSION STG2</td>\n",
              "      <td>0</td>\n",
              "      <td>NOT FASTING</td>\n",
              "      <td>NOT FASTING</td>\n",
              "      <td>NOT FASTING</td>\n",
              "      <td>NaN</td>\n",
              "      <td>NOT FASTING</td>\n",
              "      <td>NORMAL</td>\n",
              "      <td>NORMAL</td>\n",
              "      <td>NORMAL</td>\n",
              "      <td>YES</td>\n",
              "      <td>NEVER</td>\n",
              "      <td>NEVER</td>\n",
              "      <td>YES</td>\n",
              "      <td>NaN</td>\n",
              "      <td>NaN</td>\n",
              "      <td>NaN</td>\n",
              "      <td>NaN</td>\n",
              "      <td>YES</td>\n",
              "      <td>NO</td>\n",
              "      <td>NO</td>\n",
              "      <td>NaN</td>\n",
              "      <td>NO</td>\n",
              "      <td>NO</td>\n",
              "      <td>NaN</td>\n",
              "      <td>NO</td>\n",
              "      <td>YES</td>\n",
              "      <td>NO</td>\n",
              "      <td>NO</td>\n",
              "      <td>NaN</td>\n",
              "      <td>NO</td>\n",
              "      <td>NO</td>\n",
              "      <td>NO</td>\n",
              "      <td>NO</td>\n",
              "      <td>NO</td>\n",
              "      <td>1</td>\n",
              "      <td>0</td>\n",
              "      <td>0</td>\n",
              "      <td>NO</td>\n",
              "      <td>YES</td>\n",
              "      <td>NaN</td>\n",
              "      <td>NaN</td>\n",
              "      <td>NaN</td>\n",
              "      <td>NaN</td>\n",
              "      <td>NaN</td>\n",
              "      <td>NaN</td>\n",
              "    </tr>\n",
              "  </tbody>\n",
              "</table>\n",
              "</div>\n",
              "      <button class=\"colab-df-convert\" onclick=\"convertToInteractive('df-43a298b9-29b6-47dd-81fa-889fe0b23d1d')\"\n",
              "              title=\"Convert this dataframe to an interactive table.\"\n",
              "              style=\"display:none;\">\n",
              "        \n",
              "  <svg xmlns=\"http://www.w3.org/2000/svg\" height=\"24px\"viewBox=\"0 0 24 24\"\n",
              "       width=\"24px\">\n",
              "    <path d=\"M0 0h24v24H0V0z\" fill=\"none\"/>\n",
              "    <path d=\"M18.56 5.44l.94 2.06.94-2.06 2.06-.94-2.06-.94-.94-2.06-.94 2.06-2.06.94zm-11 1L8.5 8.5l.94-2.06 2.06-.94-2.06-.94L8.5 2.5l-.94 2.06-2.06.94zm10 10l.94 2.06.94-2.06 2.06-.94-2.06-.94-.94-2.06-.94 2.06-2.06.94z\"/><path d=\"M17.41 7.96l-1.37-1.37c-.4-.4-.92-.59-1.43-.59-.52 0-1.04.2-1.43.59L10.3 9.45l-7.72 7.72c-.78.78-.78 2.05 0 2.83L4 21.41c.39.39.9.59 1.41.59.51 0 1.02-.2 1.41-.59l7.78-7.78 2.81-2.81c.8-.78.8-2.07 0-2.86zM5.41 20L4 18.59l7.72-7.72 1.47 1.35L5.41 20z\"/>\n",
              "  </svg>\n",
              "      </button>\n",
              "      \n",
              "  <style>\n",
              "    .colab-df-container {\n",
              "      display:flex;\n",
              "      flex-wrap:wrap;\n",
              "      gap: 12px;\n",
              "    }\n",
              "\n",
              "    .colab-df-convert {\n",
              "      background-color: #E8F0FE;\n",
              "      border: none;\n",
              "      border-radius: 50%;\n",
              "      cursor: pointer;\n",
              "      display: none;\n",
              "      fill: #1967D2;\n",
              "      height: 32px;\n",
              "      padding: 0 0 0 0;\n",
              "      width: 32px;\n",
              "    }\n",
              "\n",
              "    .colab-df-convert:hover {\n",
              "      background-color: #E2EBFA;\n",
              "      box-shadow: 0px 1px 2px rgba(60, 64, 67, 0.3), 0px 1px 3px 1px rgba(60, 64, 67, 0.15);\n",
              "      fill: #174EA6;\n",
              "    }\n",
              "\n",
              "    [theme=dark] .colab-df-convert {\n",
              "      background-color: #3B4455;\n",
              "      fill: #D2E3FC;\n",
              "    }\n",
              "\n",
              "    [theme=dark] .colab-df-convert:hover {\n",
              "      background-color: #434B5C;\n",
              "      box-shadow: 0px 1px 3px 1px rgba(0, 0, 0, 0.15);\n",
              "      filter: drop-shadow(0px 1px 2px rgba(0, 0, 0, 0.3));\n",
              "      fill: #FFFFFF;\n",
              "    }\n",
              "  </style>\n",
              "\n",
              "      <script>\n",
              "        const buttonEl =\n",
              "          document.querySelector('#df-43a298b9-29b6-47dd-81fa-889fe0b23d1d button.colab-df-convert');\n",
              "        buttonEl.style.display =\n",
              "          google.colab.kernel.accessAllowed ? 'block' : 'none';\n",
              "\n",
              "        async function convertToInteractive(key) {\n",
              "          const element = document.querySelector('#df-43a298b9-29b6-47dd-81fa-889fe0b23d1d');\n",
              "          const dataTable =\n",
              "            await google.colab.kernel.invokeFunction('convertToInteractive',\n",
              "                                                     [key], {});\n",
              "          if (!dataTable) return;\n",
              "\n",
              "          const docLinkHtml = 'Like what you see? Visit the ' +\n",
              "            '<a target=\"_blank\" href=https://colab.research.google.com/notebooks/data_table.ipynb>data table notebook</a>'\n",
              "            + ' to learn more about interactive tables.';\n",
              "          element.innerHTML = '';\n",
              "          dataTable['output_type'] = 'display_data';\n",
              "          await google.colab.output.renderOutput(dataTable, element);\n",
              "          const docLink = document.createElement('div');\n",
              "          docLink.innerHTML = docLinkHtml;\n",
              "          element.appendChild(docLink);\n",
              "        }\n",
              "      </script>\n",
              "    </div>\n",
              "  </div>\n",
              "  "
            ],
            "text/plain": [
              "  CreatedDate                  CompanyName  ...  HeartFailureProgram AsthmaProgram\n",
              "0  2016-01-05  PennWell Publishing Company  ...                  NaN           NaN\n",
              "1  2016-01-05  PennWell Publishing Company  ...                  NaN           NaN\n",
              "2  2016-01-05  PennWell Publishing Company  ...                  NaN           NaN\n",
              "3  2016-01-05  PennWell Publishing Company  ...                  NaN           NaN\n",
              "4  2016-01-05  PennWell Publishing Company  ...                  NaN           NaN\n",
              "\n",
              "[5 rows x 72 columns]"
            ]
          },
          "metadata": {},
          "execution_count": 153
        }
      ],
      "source": [
        "df_temp1.head()"
      ]
    },
    {
      "cell_type": "markdown",
      "source": [
        "**CHECK THE CHECKUP DISTRIBUTION**"
      ],
      "metadata": {
        "id": "tG3FJ1fYjunw"
      }
    },
    {
      "cell_type": "code",
      "execution_count": 154,
      "metadata": {
        "id": "010syaLWKhdU"
      },
      "outputs": [],
      "source": [
        "ct=pd.DataFrame(df_temp1[\"PatientID\"].value_counts())\n",
        "ct.reset_index(level=0, inplace=True)\n",
        "ct.columns=[\"PatientID\",\"Count\"]"
      ]
    },
    {
      "cell_type": "code",
      "execution_count": 155,
      "metadata": {
        "id": "cdJgTnuTKhdU",
        "outputId": "530b878d-b58b-4f06-8dd3-02dda95b22db",
        "colab": {
          "base_uri": "https://localhost:8080/",
          "height": 299
        }
      },
      "outputs": [
        {
          "output_type": "execute_result",
          "data": {
            "text/html": [
              "\n",
              "  <div id=\"df-0e35d5b6-a6e8-4dd9-82b4-f6ccd409b233\">\n",
              "    <div class=\"colab-df-container\">\n",
              "      <div>\n",
              "<style scoped>\n",
              "    .dataframe tbody tr th:only-of-type {\n",
              "        vertical-align: middle;\n",
              "    }\n",
              "\n",
              "    .dataframe tbody tr th {\n",
              "        vertical-align: top;\n",
              "    }\n",
              "\n",
              "    .dataframe thead th {\n",
              "        text-align: right;\n",
              "    }\n",
              "</style>\n",
              "<table border=\"1\" class=\"dataframe\">\n",
              "  <thead>\n",
              "    <tr style=\"text-align: right;\">\n",
              "      <th></th>\n",
              "      <th>Count</th>\n",
              "    </tr>\n",
              "  </thead>\n",
              "  <tbody>\n",
              "    <tr>\n",
              "      <th>1</th>\n",
              "      <td>88022</td>\n",
              "    </tr>\n",
              "    <tr>\n",
              "      <th>2</th>\n",
              "      <td>29699</td>\n",
              "    </tr>\n",
              "    <tr>\n",
              "      <th>3</th>\n",
              "      <td>1156</td>\n",
              "    </tr>\n",
              "    <tr>\n",
              "      <th>4</th>\n",
              "      <td>128</td>\n",
              "    </tr>\n",
              "    <tr>\n",
              "      <th>5</th>\n",
              "      <td>12</td>\n",
              "    </tr>\n",
              "    <tr>\n",
              "      <th>6</th>\n",
              "      <td>3</td>\n",
              "    </tr>\n",
              "  </tbody>\n",
              "</table>\n",
              "</div>\n",
              "      <button class=\"colab-df-convert\" onclick=\"convertToInteractive('df-0e35d5b6-a6e8-4dd9-82b4-f6ccd409b233')\"\n",
              "              title=\"Convert this dataframe to an interactive table.\"\n",
              "              style=\"display:none;\">\n",
              "        \n",
              "  <svg xmlns=\"http://www.w3.org/2000/svg\" height=\"24px\"viewBox=\"0 0 24 24\"\n",
              "       width=\"24px\">\n",
              "    <path d=\"M0 0h24v24H0V0z\" fill=\"none\"/>\n",
              "    <path d=\"M18.56 5.44l.94 2.06.94-2.06 2.06-.94-2.06-.94-.94-2.06-.94 2.06-2.06.94zm-11 1L8.5 8.5l.94-2.06 2.06-.94-2.06-.94L8.5 2.5l-.94 2.06-2.06.94zm10 10l.94 2.06.94-2.06 2.06-.94-2.06-.94-.94-2.06-.94 2.06-2.06.94z\"/><path d=\"M17.41 7.96l-1.37-1.37c-.4-.4-.92-.59-1.43-.59-.52 0-1.04.2-1.43.59L10.3 9.45l-7.72 7.72c-.78.78-.78 2.05 0 2.83L4 21.41c.39.39.9.59 1.41.59.51 0 1.02-.2 1.41-.59l7.78-7.78 2.81-2.81c.8-.78.8-2.07 0-2.86zM5.41 20L4 18.59l7.72-7.72 1.47 1.35L5.41 20z\"/>\n",
              "  </svg>\n",
              "      </button>\n",
              "      \n",
              "  <style>\n",
              "    .colab-df-container {\n",
              "      display:flex;\n",
              "      flex-wrap:wrap;\n",
              "      gap: 12px;\n",
              "    }\n",
              "\n",
              "    .colab-df-convert {\n",
              "      background-color: #E8F0FE;\n",
              "      border: none;\n",
              "      border-radius: 50%;\n",
              "      cursor: pointer;\n",
              "      display: none;\n",
              "      fill: #1967D2;\n",
              "      height: 32px;\n",
              "      padding: 0 0 0 0;\n",
              "      width: 32px;\n",
              "    }\n",
              "\n",
              "    .colab-df-convert:hover {\n",
              "      background-color: #E2EBFA;\n",
              "      box-shadow: 0px 1px 2px rgba(60, 64, 67, 0.3), 0px 1px 3px 1px rgba(60, 64, 67, 0.15);\n",
              "      fill: #174EA6;\n",
              "    }\n",
              "\n",
              "    [theme=dark] .colab-df-convert {\n",
              "      background-color: #3B4455;\n",
              "      fill: #D2E3FC;\n",
              "    }\n",
              "\n",
              "    [theme=dark] .colab-df-convert:hover {\n",
              "      background-color: #434B5C;\n",
              "      box-shadow: 0px 1px 3px 1px rgba(0, 0, 0, 0.15);\n",
              "      filter: drop-shadow(0px 1px 2px rgba(0, 0, 0, 0.3));\n",
              "      fill: #FFFFFF;\n",
              "    }\n",
              "  </style>\n",
              "\n",
              "      <script>\n",
              "        const buttonEl =\n",
              "          document.querySelector('#df-0e35d5b6-a6e8-4dd9-82b4-f6ccd409b233 button.colab-df-convert');\n",
              "        buttonEl.style.display =\n",
              "          google.colab.kernel.accessAllowed ? 'block' : 'none';\n",
              "\n",
              "        async function convertToInteractive(key) {\n",
              "          const element = document.querySelector('#df-0e35d5b6-a6e8-4dd9-82b4-f6ccd409b233');\n",
              "          const dataTable =\n",
              "            await google.colab.kernel.invokeFunction('convertToInteractive',\n",
              "                                                     [key], {});\n",
              "          if (!dataTable) return;\n",
              "\n",
              "          const docLinkHtml = 'Like what you see? Visit the ' +\n",
              "            '<a target=\"_blank\" href=https://colab.research.google.com/notebooks/data_table.ipynb>data table notebook</a>'\n",
              "            + ' to learn more about interactive tables.';\n",
              "          element.innerHTML = '';\n",
              "          dataTable['output_type'] = 'display_data';\n",
              "          await google.colab.output.renderOutput(dataTable, element);\n",
              "          const docLink = document.createElement('div');\n",
              "          docLink.innerHTML = docLinkHtml;\n",
              "          element.appendChild(docLink);\n",
              "        }\n",
              "      </script>\n",
              "    </div>\n",
              "  </div>\n",
              "  "
            ],
            "text/plain": [
              "   Count\n",
              "1  88022\n",
              "2  29699\n",
              "3   1156\n",
              "4    128\n",
              "5     12\n",
              "6      3"
            ]
          },
          "metadata": {},
          "execution_count": 155
        }
      ],
      "source": [
        "num_checkup=pd.DataFrame(ct[\"Count\"].value_counts())\n",
        "num_checkup"
      ]
    },
    {
      "cell_type": "markdown",
      "source": [
        "**OUTPUT THE CHECKUP DISTRIBUTION**"
      ],
      "metadata": {
        "id": "0ZVTgYMNj1kI"
      }
    },
    {
      "cell_type": "code",
      "execution_count": 156,
      "metadata": {
        "id": "C0MCSZJgKhdU"
      },
      "outputs": [],
      "source": [
        "num_checkup.to_csv('num_checkup_distribution.csv')"
      ]
    },
    {
      "cell_type": "markdown",
      "source": [
        "**OUTPUT THE DATASET WITH FAKE PATIENT ID**"
      ],
      "metadata": {
        "id": "g0sD_0moj9dQ"
      }
    },
    {
      "cell_type": "code",
      "execution_count": 157,
      "metadata": {
        "id": "iXd7rlk2KhdU"
      },
      "outputs": [],
      "source": [
        "df_temp1.to_csv('deidentified_pid.csv')"
      ]
    },
    {
      "cell_type": "code",
      "execution_count": 158,
      "metadata": {
        "id": "zc6zSFLAKhdV"
      },
      "outputs": [],
      "source": [
        "data = df_temp1.dropna(axis=0, subset=['EmergencyReferral','HighRisk'])"
      ]
    },
    {
      "cell_type": "code",
      "execution_count": 159,
      "metadata": {
        "id": "jR6QXo9nKhdV"
      },
      "outputs": [],
      "source": [
        "#Deidentified.csv is the file which stored the data without patient personal information \n",
        "#Remove the missing value in HighRisk column because I am going to build the classification model with Highrisk or EmergencyReferral as lable\n",
        "\n",
        "data.to_csv('deidentified.csv')"
      ]
    },
    {
      "cell_type": "markdown",
      "source": [
        "**MAP THE ORIGINAL DATA INTO NUMERICAL DATA**\n",
        "\n",
        "The mapping strategy is that if a feature means high risk, then the feature get high score."
      ],
      "metadata": {
        "id": "AZd1Sv5QkZH6"
      }
    },
    {
      "cell_type": "code",
      "execution_count": 160,
      "metadata": {
        "id": "O_ncSXPEKhdV",
        "outputId": "02a1e90b-d624-4a43-f730-b53aafeadb7f",
        "colab": {
          "base_uri": "https://localhost:8080/"
        }
      },
      "outputs": [
        {
          "output_type": "execute_result",
          "data": {
            "text/plain": [
              "Index(['CreatedDate', 'CompanyName', 'PatientID', 'AgeGroup', 'State',\n",
              "       'ZipCode', 'Gender', 'Age', 'Fasting', 'GLU', 'A1c', 'SBP', 'DBP',\n",
              "       'TCHOL', 'TC:HDL_RATIO', 'LDL', 'HDL', 'TGS', 'AbdominalCir', 'HEIGHT',\n",
              "       'WEIGHT', 'BMI', 'ALT', 'AST', 'METS_Risks', 'COTININE', 'BPAssessment',\n",
              "       'DyslipidemiaStatus', 'HDLAssessment', 'LDLAssessment', 'TGSAssessment',\n",
              "       'DMAssessment', 'DiabetesStatusUsingGlucose', 'DiabetesStatusUsingA1c',\n",
              "       'BMIAssessment', 'AbdominalCircumferenceStatus', 'PrimaryCareProvider',\n",
              "       'Smoking', 'SmokelessTobacco', 'Activity', 'Mammography', 'PapSmear',\n",
              "       'ClinicalBreastExam', 'ColorectalExam', 'Alcohol',\n",
              "       'HypertensionHistory', 'DiabetesHistory',\n",
              "       'DiabetesDuringPregnancyHistory', 'CoronaryArteryHistory',\n",
              "       'HighCholesterolHistory', 'DaytimeFatigueHistory', 'SnoringHistory',\n",
              "       'AsthmaHistory', 'HeartFailureHistory', 'KidneyHistory',\n",
              "       'StrokeHistory', 'COPDHistory', 'HeartDiseaseHistory',\n",
              "       'HypertensionMedication', 'DiabetesMedication', 'CholesterolMedication',\n",
              "       'NewlyAssessedHypertension', 'NewlyAssessedDyslipidemia',\n",
              "       'NewlyAssessedDiabetes', 'EmergencyReferral', 'HighRisk',\n",
              "       'DiabetesPreventionProgram', 'COPDProgram',\n",
              "       'CoronaryArteryDiseaseProgram', 'DiabetesProgram',\n",
              "       'HeartFailureProgram', 'AsthmaProgram'],\n",
              "      dtype='object')"
            ]
          },
          "metadata": {},
          "execution_count": 160
        }
      ],
      "source": [
        "data.columns"
      ]
    },
    {
      "cell_type": "markdown",
      "source": [
        "**REMOVING USELESS COLUMNS FOR CLASSIFICATION**"
      ],
      "metadata": {
        "id": "fcn4AcTykqJ6"
      }
    },
    {
      "cell_type": "code",
      "execution_count": 161,
      "metadata": {
        "id": "WvU8UKBkKhdV"
      },
      "outputs": [],
      "source": [
        "data=data.drop(columns=['CompanyName','CreatedDate','ZipCode','PatientID','AgeGroup','State','PrimaryCareProvider',\n",
        "                  'DiabetesPreventionProgram', 'COPDProgram',\n",
        "       'CoronaryArteryDiseaseProgram', 'DiabetesProgram',\n",
        "       'HeartFailureProgram', 'AsthmaProgram'])"
      ]
    },
    {
      "cell_type": "code",
      "execution_count": 162,
      "metadata": {
        "id": "5ZDHeo8rKhdW",
        "outputId": "860b45c9-b4ba-43fb-b6ce-8b7b9a0bdc1c",
        "colab": {
          "base_uri": "https://localhost:8080/"
        }
      },
      "outputs": [
        {
          "output_type": "execute_result",
          "data": {
            "text/plain": [
              "Index(['Gender', 'Age', 'Fasting', 'GLU', 'A1c', 'SBP', 'DBP', 'TCHOL',\n",
              "       'TC:HDL_RATIO', 'LDL', 'HDL', 'TGS', 'AbdominalCir', 'HEIGHT', 'WEIGHT',\n",
              "       'BMI', 'ALT', 'AST', 'METS_Risks', 'COTININE', 'BPAssessment',\n",
              "       'DyslipidemiaStatus', 'HDLAssessment', 'LDLAssessment', 'TGSAssessment',\n",
              "       'DMAssessment', 'DiabetesStatusUsingGlucose', 'DiabetesStatusUsingA1c',\n",
              "       'BMIAssessment', 'AbdominalCircumferenceStatus', 'Smoking',\n",
              "       'SmokelessTobacco', 'Activity', 'Mammography', 'PapSmear',\n",
              "       'ClinicalBreastExam', 'ColorectalExam', 'Alcohol',\n",
              "       'HypertensionHistory', 'DiabetesHistory',\n",
              "       'DiabetesDuringPregnancyHistory', 'CoronaryArteryHistory',\n",
              "       'HighCholesterolHistory', 'DaytimeFatigueHistory', 'SnoringHistory',\n",
              "       'AsthmaHistory', 'HeartFailureHistory', 'KidneyHistory',\n",
              "       'StrokeHistory', 'COPDHistory', 'HeartDiseaseHistory',\n",
              "       'HypertensionMedication', 'DiabetesMedication', 'CholesterolMedication',\n",
              "       'NewlyAssessedHypertension', 'NewlyAssessedDyslipidemia',\n",
              "       'NewlyAssessedDiabetes', 'EmergencyReferral', 'HighRisk'],\n",
              "      dtype='object')"
            ]
          },
          "metadata": {},
          "execution_count": 162
        }
      ],
      "source": [
        "data.columns"
      ]
    },
    {
      "cell_type": "markdown",
      "source": [
        "**FASTING**"
      ],
      "metadata": {
        "id": "wXHL2JWok7VJ"
      }
    },
    {
      "cell_type": "code",
      "execution_count": 163,
      "metadata": {
        "id": "ZOdDm08UKhdW"
      },
      "outputs": [],
      "source": [
        "# Because if the patient did not fast before the test, the result is not reliable.\n",
        "# Strategy: Remove all rows with the not fasting value instead of mapping it into 1 or 0\n",
        "#data[\"Fasting\"]=data[\"Fasting\"].map({'YES':1, 'NO':0})\n",
        "data = data.drop(data[data[\"Fasting\"]=='NO'].index)"
      ]
    },
    {
      "cell_type": "code",
      "execution_count": 164,
      "metadata": {
        "id": "R4OGXsrzKhdW"
      },
      "outputs": [],
      "source": [
        "# remove the missing value in Fasting.\n",
        "data[\"Fasting\"].value_counts()\n",
        "data = data.drop(data[data[\"Fasting\"].isnull()].index)"
      ]
    },
    {
      "cell_type": "code",
      "execution_count": 165,
      "metadata": {
        "id": "7qmTOddSKhdW",
        "outputId": "a1def807-f30e-4ad3-c863-86ef8fa4ccc8",
        "colab": {
          "base_uri": "https://localhost:8080/"
        }
      },
      "outputs": [
        {
          "output_type": "stream",
          "name": "stdout",
          "text": [
            "0\n"
          ]
        }
      ],
      "source": [
        "print(data[\"Fasting\"].isnull().sum())"
      ]
    },
    {
      "cell_type": "markdown",
      "source": [
        "**SMOKING**"
      ],
      "metadata": {
        "id": "zrl_fJa9lAmc"
      }
    },
    {
      "cell_type": "code",
      "execution_count": 166,
      "metadata": {
        "id": "II99nmHBKhdW"
      },
      "outputs": [],
      "source": [
        "# There is no No option for 'Smoking','SmokelessTobacco'. Those records are anormal.\n",
        "data = data.drop(data[data[\"Smoking\"]=='NO'].index)\n",
        "data = data.drop(data[data['SmokelessTobacco']=='NO'].index)\n",
        "maps={'NEVER':0, 'QUIT':1, 'YES':2}\n",
        "data[\"Smoking\"]=data[\"Smoking\"].map(maps)\n",
        "data['SmokelessTobacco']=data['SmokelessTobacco'].map(maps)"
      ]
    },
    {
      "cell_type": "code",
      "execution_count": 167,
      "metadata": {
        "id": "z8fOyBMNKhdX",
        "outputId": "c1ce94fe-0cb2-4455-c81f-1a3c5dff78cd",
        "colab": {
          "base_uri": "https://localhost:8080/"
        }
      },
      "outputs": [
        {
          "output_type": "stream",
          "name": "stdout",
          "text": [
            "SmokelessTobacco    208\n",
            "Smoking             151\n",
            "dtype: int64\n"
          ]
        }
      ],
      "source": [
        "print(data[['SmokelessTobacco','Smoking']].isnull().sum())"
      ]
    },
    {
      "cell_type": "markdown",
      "source": [
        "**ACTIVITY**"
      ],
      "metadata": {
        "id": "xRh-deKllDia"
      }
    },
    {
      "cell_type": "code",
      "execution_count": 168,
      "metadata": {
        "id": "L5YpU0c9KhdX"
      },
      "outputs": [],
      "source": [
        "#There is no No option for 'Activity','Activity'. Those records are anormal. just remove it\n",
        "#Since Activity is required quesiton for patient. There are only about 500 missing values.\n",
        "\n",
        "data = data.drop(data[data[\"Activity\"].isnull()].index)\n",
        "maps={'YES':1, 'NO':0}\n",
        "data[\"Activity\"]=data[\"Activity\"].map(maps)"
      ]
    },
    {
      "cell_type": "code",
      "execution_count": 169,
      "metadata": {
        "id": "zEe8iwgvKhdX",
        "outputId": "f9ac71f7-5ced-4cee-f956-1b32fbc2654c",
        "colab": {
          "base_uri": "https://localhost:8080/"
        }
      },
      "outputs": [
        {
          "output_type": "stream",
          "name": "stdout",
          "text": [
            "0\n"
          ]
        }
      ],
      "source": [
        "print(data[\"Activity\"].isnull().sum())"
      ]
    },
    {
      "cell_type": "markdown",
      "source": [
        "**ALCOHOL**"
      ],
      "metadata": {
        "id": "3QmVe9RZlKNq"
      }
    },
    {
      "cell_type": "code",
      "execution_count": 170,
      "metadata": {
        "id": "KWDBSXqKKhdY",
        "outputId": "da2db6de-a048-4a24-9603-9fc5de343be7",
        "colab": {
          "base_uri": "https://localhost:8080/"
        }
      },
      "outputs": [
        {
          "output_type": "stream",
          "name": "stdout",
          "text": [
            "0\n"
          ]
        }
      ],
      "source": [
        "# alcohol -There are only about 500 missing value.\n",
        "data = data.drop(data[data[\"Alcohol\"].isnull()].index)\n",
        "maps={'YES':1, 'NO':0}\n",
        "data[\"Alcohol\"]=data[\"Alcohol\"].map(maps)\n",
        "print(data[\"Alcohol\"].isnull().sum())"
      ]
    },
    {
      "cell_type": "markdown",
      "source": [
        "**HYPERTENSION HISTORY**"
      ],
      "metadata": {
        "id": "8Oyx_px_lPlG"
      }
    },
    {
      "cell_type": "code",
      "execution_count": 171,
      "metadata": {
        "id": "M-Jd8yHLKhdY",
        "outputId": "a2df1b66-d8c6-40b6-f5ee-d6a8ca546b1c",
        "colab": {
          "base_uri": "https://localhost:8080/"
        }
      },
      "outputs": [
        {
          "output_type": "stream",
          "name": "stdout",
          "text": [
            "0\n"
          ]
        }
      ],
      "source": [
        "#\"HypertensionHistory\" -There are only about 500 missing values.\n",
        "data = data.drop(data[data[\"HypertensionHistory\"].isnull()].index)\n",
        "data[\"HypertensionHistory\"]=data[\"HypertensionHistory\"].map({'YES':1, 'NO':0})\n",
        "print(data[\"HypertensionHistory\"].isnull().sum())"
      ]
    },
    {
      "cell_type": "markdown",
      "metadata": {
        "id": "_lZZfIkyKhdY"
      },
      "source": [
        "**DIABETES HISTORY**"
      ]
    },
    {
      "cell_type": "code",
      "execution_count": 172,
      "metadata": {
        "id": "h07bXncUKhdY",
        "outputId": "59fe5553-74e1-44d4-c180-780f208a28c7",
        "colab": {
          "base_uri": "https://localhost:8080/"
        }
      },
      "outputs": [
        {
          "output_type": "stream",
          "name": "stdout",
          "text": [
            "0\n"
          ]
        }
      ],
      "source": [
        "#\"DiabetesHistory\"-There are only about 500 missing values.\n",
        "data = data.drop(data[data[\"DiabetesHistory\"].isnull()].index)\n",
        "data[\"DiabetesHistory\"]=data[\"DiabetesHistory\"].map({'YES':1, 'NO':0})\n",
        "print(data[\"DiabetesHistory\"].isnull().sum())"
      ]
    },
    {
      "cell_type": "markdown",
      "metadata": {
        "id": "Iy7ZG7YaKhdY"
      },
      "source": [
        " **CORONARY ARTERY HISTORY**"
      ]
    },
    {
      "cell_type": "code",
      "execution_count": 173,
      "metadata": {
        "id": "hX1_WJjcKhdY",
        "outputId": "171901c3-9b56-4014-b3f6-e81d2340a78b",
        "colab": {
          "base_uri": "https://localhost:8080/"
        }
      },
      "outputs": [
        {
          "output_type": "stream",
          "name": "stdout",
          "text": [
            "0\n"
          ]
        }
      ],
      "source": [
        "#'CoronaryArteryHistory'-There are only about 500 missing values.\n",
        "data = data.drop(data[data[\"CoronaryArteryHistory\"].isnull()].index)\n",
        "data[\"CoronaryArteryHistory\"]=data[\"CoronaryArteryHistory\"].map({'YES':1, 'NO':0})\n",
        "print(data[\"CoronaryArteryHistory\"].isnull().sum())"
      ]
    },
    {
      "cell_type": "markdown",
      "metadata": {
        "id": "UrfkmZOxKhdZ"
      },
      "source": [
        "**HIGH CHOLESTROL HISTORY**"
      ]
    },
    {
      "cell_type": "code",
      "execution_count": 174,
      "metadata": {
        "id": "ORHrErvbKhdZ",
        "outputId": "2b759683-3e10-447e-d522-b2f93dc86fee",
        "colab": {
          "base_uri": "https://localhost:8080/"
        }
      },
      "outputs": [
        {
          "output_type": "stream",
          "name": "stdout",
          "text": [
            "0\n"
          ]
        }
      ],
      "source": [
        "#'HighCholesterolHistory'-There are only about 600 missing values.\n",
        "data = data.drop(data[data['HighCholesterolHistory'].isnull()].index)\n",
        "data['HighCholesterolHistory']=data['HighCholesterolHistory'].map({'YES':1, 'NO':0})\n",
        "print(data['HighCholesterolHistory'].isnull().sum())"
      ]
    },
    {
      "cell_type": "markdown",
      "metadata": {
        "id": "-9vOe6laKhdZ"
      },
      "source": [
        "**DAYTIME FATIGUE HISTORY, KIDNEY HISTORY, STROKE HISTORY**"
      ]
    },
    {
      "cell_type": "code",
      "execution_count": 175,
      "metadata": {
        "id": "T0yq278oKhdZ"
      },
      "outputs": [],
      "source": [
        "# Since there are too many missing values in 'DaytimeFatigueHistory'(300K = nan),'KidneyHistory','StrokeHistory'\n",
        "columns_miss = ['DaytimeFatigueHistory','KidneyHistory','StrokeHistory']\n",
        "data=data.drop(columns=columns_miss)"
      ]
    },
    {
      "cell_type": "code",
      "execution_count": 176,
      "metadata": {
        "scrolled": true,
        "id": "9VH9ZdTtKhdZ",
        "outputId": "925f3635-b588-41ef-bee1-d2eb2d17bfa4",
        "colab": {
          "base_uri": "https://localhost:8080/"
        }
      },
      "outputs": [
        {
          "output_type": "execute_result",
          "data": {
            "text/plain": [
              "Gender                                 0\n",
              "Age                                    0\n",
              "Fasting                                0\n",
              "GLU                                   50\n",
              "A1c                                87540\n",
              "SBP                                   22\n",
              "DBP                                   22\n",
              "TCHOL                                 37\n",
              "TC:HDL_RATIO                        3769\n",
              "LDL                                 2926\n",
              "HDL                                 2632\n",
              "TGS                                  319\n",
              "AbdominalCir                          59\n",
              "HEIGHT                                22\n",
              "WEIGHT                                21\n",
              "BMI                                  340\n",
              "ALT                                 1300\n",
              "AST                                 1344\n",
              "METS_Risks                             0\n",
              "COTININE                          126313\n",
              "BPAssessment                          44\n",
              "DyslipidemiaStatus                     0\n",
              "HDLAssessment                       2652\n",
              "LDLAssessment                       2974\n",
              "TGSAssessment                        323\n",
              "DMAssessment                         135\n",
              "DiabetesStatusUsingGlucose             0\n",
              "DiabetesStatusUsingA1c             87626\n",
              "BMIAssessment                        340\n",
              "AbdominalCircumferenceStatus          64\n",
              "Smoking                               20\n",
              "SmokelessTobacco                      65\n",
              "Activity                               0\n",
              "Mammography                        81210\n",
              "PapSmear                           54053\n",
              "ClinicalBreastExam                 55622\n",
              "ColorectalExam                     80562\n",
              "Alcohol                                0\n",
              "HypertensionHistory                    0\n",
              "DiabetesHistory                        0\n",
              "DiabetesDuringPregnancyHistory     42422\n",
              "CoronaryArteryHistory                  0\n",
              "HighCholesterolHistory                 0\n",
              "SnoringHistory                        52\n",
              "AsthmaHistory                         41\n",
              "HeartFailureHistory                    4\n",
              "COPDHistory                           46\n",
              "HeartDiseaseHistory                    0\n",
              "HypertensionMedication             23313\n",
              "DiabetesMedication                 78814\n",
              "CholesterolMedication              72108\n",
              "NewlyAssessedHypertension              0\n",
              "NewlyAssessedDyslipidemia              0\n",
              "NewlyAssessedDiabetes                  0\n",
              "EmergencyReferral                      0\n",
              "HighRisk                               0\n",
              "dtype: int64"
            ]
          },
          "metadata": {},
          "execution_count": 176
        }
      ],
      "source": [
        "data.isnull().sum()"
      ]
    },
    {
      "cell_type": "markdown",
      "metadata": {
        "id": "mWxqVdtqKhdZ"
      },
      "source": [
        "**NEWLY ASSESED HYPERTENSION, NEWLY ASSESSED DYSLIPIDEMIA, NEWLY ASSESED DIABETES**"
      ]
    },
    {
      "cell_type": "code",
      "execution_count": 177,
      "metadata": {
        "id": "JaWkkbi_KhdZ"
      },
      "outputs": [],
      "source": [
        "# Remove useless columns -NewlyAssessedHypertension,NewlyAssessedDyslipidemia,NewlyAssessedDiabetes\n",
        "columns_newly = ['NewlyAssessedHypertension','NewlyAssessedDyslipidemia','NewlyAssessedDiabetes']\n",
        "data=data.drop(columns=columns_newly)"
      ]
    },
    {
      "cell_type": "code",
      "execution_count": 178,
      "metadata": {
        "id": "ELEKpdfrKhda",
        "outputId": "cd5df4e2-2d81-484f-e775-f746ade3f522",
        "colab": {
          "base_uri": "https://localhost:8080/"
        }
      },
      "outputs": [
        {
          "output_type": "execute_result",
          "data": {
            "text/plain": [
              "Gender                                 0\n",
              "Age                                    0\n",
              "Fasting                                0\n",
              "GLU                                   50\n",
              "A1c                                87540\n",
              "SBP                                   22\n",
              "DBP                                   22\n",
              "TCHOL                                 37\n",
              "TC:HDL_RATIO                        3769\n",
              "LDL                                 2926\n",
              "HDL                                 2632\n",
              "TGS                                  319\n",
              "AbdominalCir                          59\n",
              "HEIGHT                                22\n",
              "WEIGHT                                21\n",
              "BMI                                  340\n",
              "ALT                                 1300\n",
              "AST                                 1344\n",
              "METS_Risks                             0\n",
              "COTININE                          126313\n",
              "BPAssessment                          44\n",
              "DyslipidemiaStatus                     0\n",
              "HDLAssessment                       2652\n",
              "LDLAssessment                       2974\n",
              "TGSAssessment                        323\n",
              "DMAssessment                         135\n",
              "DiabetesStatusUsingGlucose             0\n",
              "DiabetesStatusUsingA1c             87626\n",
              "BMIAssessment                        340\n",
              "AbdominalCircumferenceStatus          64\n",
              "Smoking                               20\n",
              "SmokelessTobacco                      65\n",
              "Activity                               0\n",
              "Mammography                        81210\n",
              "PapSmear                           54053\n",
              "ClinicalBreastExam                 55622\n",
              "ColorectalExam                     80562\n",
              "Alcohol                                0\n",
              "HypertensionHistory                    0\n",
              "DiabetesHistory                        0\n",
              "DiabetesDuringPregnancyHistory     42422\n",
              "CoronaryArteryHistory                  0\n",
              "HighCholesterolHistory                 0\n",
              "SnoringHistory                        52\n",
              "AsthmaHistory                         41\n",
              "HeartFailureHistory                    4\n",
              "COPDHistory                           46\n",
              "HeartDiseaseHistory                    0\n",
              "HypertensionMedication             23313\n",
              "DiabetesMedication                 78814\n",
              "CholesterolMedication              72108\n",
              "EmergencyReferral                      0\n",
              "HighRisk                               0\n",
              "dtype: int64"
            ]
          },
          "metadata": {},
          "execution_count": 178
        }
      ],
      "source": [
        "data.isnull().sum()"
      ]
    },
    {
      "cell_type": "markdown",
      "source": [
        "**HEART DISEASE HISTORY**"
      ],
      "metadata": {
        "id": "eCvy1bJDm4GS"
      }
    },
    {
      "cell_type": "code",
      "execution_count": 179,
      "metadata": {
        "id": "qufJNXZPKhda",
        "outputId": "fb7594f4-ccb7-43c6-98a5-17e6c37b513f",
        "colab": {
          "base_uri": "https://localhost:8080/"
        }
      },
      "outputs": [
        {
          "output_type": "stream",
          "name": "stdout",
          "text": [
            "0\n"
          ]
        }
      ],
      "source": [
        "#'HeartDiseaseHistory'-485=NAN\n",
        "data = data.drop(data[data['HeartDiseaseHistory']==np.nan].index)\n",
        "data['HeartDiseaseHistory']=data['HeartDiseaseHistory'].map({'YES':1, 'NO':0})\n",
        "print(data['HeartDiseaseHistory'].isnull().sum())"
      ]
    },
    {
      "cell_type": "markdown",
      "metadata": {
        "id": "y8UaWkKnKhda"
      },
      "source": [
        "**ASTHMA HISTORY**"
      ]
    },
    {
      "cell_type": "code",
      "execution_count": 180,
      "metadata": {
        "id": "ZMjUoI3-Khda",
        "outputId": "c0cbbdba-928f-4050-b931-01f451fd0cfe",
        "colab": {
          "base_uri": "https://localhost:8080/"
        }
      },
      "outputs": [
        {
          "output_type": "stream",
          "name": "stdout",
          "text": [
            "0\n"
          ]
        }
      ],
      "source": [
        "#'SnoringHistory'-58575 missing since patients may not be able to detect sorning by themself. Remove the column\n",
        "#'AsthmaHistory'-58539 missing since patients are able to detect asthma, heartfailure, and COPDHistory\n",
        "#'HeartFailureHistory'-50K missing \n",
        "#'COPDHistory'-50k missing\n",
        "\n",
        "\n",
        "#df['D'] = np.where((df.A=='blue') & (df.B=='red') & (df.C=='square'), 'succeed')\n",
        "maps={'YES':1, 'NO':0}\n",
        "data['AsthmaHistory']=np.where(data['AsthmaHistory'].isnull(),0,data['AsthmaHistory'].map(maps))\n",
        "print(data['AsthmaHistory'].isnull().sum())"
      ]
    },
    {
      "cell_type": "markdown",
      "metadata": {
        "id": "R9QDR75oKhda"
      },
      "source": [
        "**COPD HISTORY**"
      ]
    },
    {
      "cell_type": "code",
      "execution_count": 181,
      "metadata": {
        "id": "ws6F5Ex9Khdb",
        "outputId": "67c1d685-f138-40e5-9eb7-7504b7caea16",
        "colab": {
          "base_uri": "https://localhost:8080/"
        }
      },
      "outputs": [
        {
          "output_type": "stream",
          "name": "stdout",
          "text": [
            "0\n"
          ]
        }
      ],
      "source": [
        "data['COPDHistory']=np.where(data['COPDHistory'].isnull(),0,data['COPDHistory'].map(maps))\n",
        "print(data['COPDHistory'].isnull().sum())"
      ]
    },
    {
      "cell_type": "markdown",
      "metadata": {
        "id": "GlNTeEZfKhdb"
      },
      "source": [
        "**SNORING HISTORY**"
      ]
    },
    {
      "cell_type": "code",
      "execution_count": 182,
      "metadata": {
        "id": "GrWIu9wOKhdb"
      },
      "outputs": [],
      "source": [
        "data=data.drop(columns='SnoringHistory')"
      ]
    },
    {
      "cell_type": "markdown",
      "metadata": {
        "id": "jfsZoSCIKhdb"
      },
      "source": [
        "**HEART FAILURE HISTORY**"
      ]
    },
    {
      "cell_type": "code",
      "execution_count": 183,
      "metadata": {
        "id": "yijA61T2Khdb",
        "outputId": "35344e15-281e-4c02-d3b6-a15e7271f984",
        "colab": {
          "base_uri": "https://localhost:8080/"
        }
      },
      "outputs": [
        {
          "output_type": "stream",
          "name": "stdout",
          "text": [
            "0\n"
          ]
        }
      ],
      "source": [
        "data['HeartFailureHistory']=np.where(data['HeartFailureHistory'].isnull(),0,data['HeartFailureHistory'].map(maps))\n",
        "print(data['HeartFailureHistory'].isnull().sum())"
      ]
    },
    {
      "cell_type": "code",
      "execution_count": 184,
      "metadata": {
        "id": "thcCLHHXKhdb",
        "outputId": "4529bc28-280b-4bce-9bed-4ecc56e037ad",
        "colab": {
          "base_uri": "https://localhost:8080/"
        }
      },
      "outputs": [
        {
          "output_type": "execute_result",
          "data": {
            "text/plain": [
              "Gender                                 0\n",
              "Age                                    0\n",
              "Fasting                                0\n",
              "GLU                                   50\n",
              "A1c                                87540\n",
              "SBP                                   22\n",
              "DBP                                   22\n",
              "TCHOL                                 37\n",
              "TC:HDL_RATIO                        3769\n",
              "LDL                                 2926\n",
              "HDL                                 2632\n",
              "TGS                                  319\n",
              "AbdominalCir                          59\n",
              "HEIGHT                                22\n",
              "WEIGHT                                21\n",
              "BMI                                  340\n",
              "ALT                                 1300\n",
              "AST                                 1344\n",
              "METS_Risks                             0\n",
              "COTININE                          126313\n",
              "BPAssessment                          44\n",
              "DyslipidemiaStatus                     0\n",
              "HDLAssessment                       2652\n",
              "LDLAssessment                       2974\n",
              "TGSAssessment                        323\n",
              "DMAssessment                         135\n",
              "DiabetesStatusUsingGlucose             0\n",
              "DiabetesStatusUsingA1c             87626\n",
              "BMIAssessment                        340\n",
              "AbdominalCircumferenceStatus          64\n",
              "Smoking                               20\n",
              "SmokelessTobacco                      65\n",
              "Activity                               0\n",
              "Mammography                        81210\n",
              "PapSmear                           54053\n",
              "ClinicalBreastExam                 55622\n",
              "ColorectalExam                     80562\n",
              "Alcohol                                0\n",
              "HypertensionHistory                    0\n",
              "DiabetesHistory                        0\n",
              "DiabetesDuringPregnancyHistory     42422\n",
              "CoronaryArteryHistory                  0\n",
              "HighCholesterolHistory                 0\n",
              "AsthmaHistory                          0\n",
              "HeartFailureHistory                    0\n",
              "COPDHistory                            0\n",
              "HeartDiseaseHistory                    0\n",
              "HypertensionMedication             23313\n",
              "DiabetesMedication                 78814\n",
              "CholesterolMedication              72108\n",
              "EmergencyReferral                      0\n",
              "HighRisk                               0\n",
              "dtype: int64"
            ]
          },
          "metadata": {},
          "execution_count": 184
        }
      ],
      "source": [
        "data.isnull().sum()"
      ]
    },
    {
      "cell_type": "markdown",
      "metadata": {
        "id": "tn-cfeKRKhdb"
      },
      "source": [
        "**HYPERTENSION MEDICATION, CHOLESTROL MEDICATION, DIABETES MEDICATION**"
      ]
    },
    {
      "cell_type": "code",
      "execution_count": 185,
      "metadata": {
        "id": "Pu_2GkodKhdc",
        "outputId": "65e8b7a2-7ac8-4e59-b897-f89ca36b850e",
        "colab": {
          "base_uri": "https://localhost:8080/"
        }
      },
      "outputs": [
        {
          "output_type": "stream",
          "name": "stdout",
          "text": [
            "missing value for HypertensionMedication: is 23313\n",
            "0.0      80724\n",
            "1.0      28477\n",
            "999.0    23313\n",
            "Name: HypertensionMedication, dtype: int64\n",
            "missing value for CholesterolMedication: is 72108\n",
            "999.0    72108\n",
            "0.0      47805\n",
            "1.0      12601\n",
            "Name: CholesterolMedication, dtype: int64\n",
            "missing value for DiabetesMedication: is 78814\n",
            "999.0    78814\n",
            "0.0      47885\n",
            "1.0       5815\n",
            "Name: DiabetesMedication, dtype: int64\n"
          ]
        }
      ],
      "source": [
        "maps={'YES':1, 'NO':0}\n",
        "cols_med=['HypertensionMedication','CholesterolMedication','DiabetesMedication']\n",
        "cols_his=['HypertensionHistory','HighCholesterolHistory','DiabetesHistory']\n",
        "for i in range(3):\n",
        "    print(\"missing value for %s: is %.f\" %(cols_med[i],data[cols_med[i]].isnull().sum()))\n",
        "    #print(data[cols_his[i]].value_counts())\n",
        "    #print(\"missing value for %s: is %.f\" %(cols_his[i],data[cols_his[i]].isnull().sum()))\n",
        "    data[cols_med[i]]=np.where(data[cols_med[i]].isnull(),999,data[cols_med[i]].map(maps))\n",
        "    print(data[cols_med[i]].value_counts())"
      ]
    },
    {
      "cell_type": "markdown",
      "metadata": {
        "id": "bcGjWkL8Khdc"
      },
      "source": [
        "**STRATEGY TO DEAL WITH HYPERTENSION MEDICATION CHOLESTROL MEDICATION and DIABETES MEDICATION**\n",
        "\n",
        "If the history is No, and the medication is Null, then assign 0.\n",
        "\n",
        "If the history is Yes, and the medication is Yes, the disease is under controlled, then assign 1.\n",
        "\n",
        "If the history is Yes, and the medication is Null or No, the disease is not under controlled, then assign 2.\n"
      ]
    },
    {
      "cell_type": "code",
      "execution_count": 186,
      "metadata": {
        "id": "WTy9pP2gKhdc",
        "outputId": "b9583b0f-ffca-4d74-c162-254d97333e4b",
        "colab": {
          "base_uri": "https://localhost:8080/"
        }
      },
      "outputs": [
        {
          "output_type": "stream",
          "name": "stdout",
          "text": [
            "0.0    97947\n",
            "1.0    28477\n",
            "2.0     6090\n",
            "Name: HypertensionMedication, dtype: int64\n",
            "0.0    92395\n",
            "2.0    27518\n",
            "1.0    12601\n",
            "Name: CholesterolMedication, dtype: int64\n",
            "0.0    121976\n",
            "1.0      5815\n",
            "2.0      4723\n",
            "Name: DiabetesMedication, dtype: int64\n"
          ]
        }
      ],
      "source": [
        "#data[cols_med[i]]=data[cols_med[i]].apply(lambda x: 0 if data[cols_his[i]]==0\n",
        "cols_med=['HypertensionMedication','CholesterolMedication','DiabetesMedication']\n",
        "cols_his=['HypertensionHistory','HighCholesterolHistory','DiabetesHistory']\n",
        "for i in range(3):\n",
        "    data.loc[(data[cols_his[i]]==1) & (data[cols_med[i]]==1), cols_med[i]]=1\n",
        "    data.loc[(data[cols_his[i]]==1) & (data[cols_med[i]]==0), cols_med[i]]=2\n",
        "    data.loc[(data[cols_his[i]]==1) & (data[cols_med[i]]==999), cols_med[i]]=2\n",
        "    data.loc[(data[cols_his[i]]==0) & (data[cols_med[i]]==999), cols_med[i]]=0\n",
        "    print(data[cols_med[i]].value_counts())"
      ]
    },
    {
      "cell_type": "code",
      "execution_count": 187,
      "metadata": {
        "scrolled": false,
        "id": "Yoo2cZyyKhdc",
        "outputId": "4725c461-8c8a-4766-a81f-f75c0151be6d",
        "colab": {
          "base_uri": "https://localhost:8080/"
        }
      },
      "outputs": [
        {
          "output_type": "execute_result",
          "data": {
            "text/plain": [
              "Gender                                 0\n",
              "Age                                    0\n",
              "Fasting                                0\n",
              "GLU                                   50\n",
              "A1c                                87540\n",
              "SBP                                   22\n",
              "DBP                                   22\n",
              "TCHOL                                 37\n",
              "TC:HDL_RATIO                        3769\n",
              "LDL                                 2926\n",
              "HDL                                 2632\n",
              "TGS                                  319\n",
              "AbdominalCir                          59\n",
              "HEIGHT                                22\n",
              "WEIGHT                                21\n",
              "BMI                                  340\n",
              "ALT                                 1300\n",
              "AST                                 1344\n",
              "METS_Risks                             0\n",
              "COTININE                          126313\n",
              "BPAssessment                          44\n",
              "DyslipidemiaStatus                     0\n",
              "HDLAssessment                       2652\n",
              "LDLAssessment                       2974\n",
              "TGSAssessment                        323\n",
              "DMAssessment                         135\n",
              "DiabetesStatusUsingGlucose             0\n",
              "DiabetesStatusUsingA1c             87626\n",
              "BMIAssessment                        340\n",
              "AbdominalCircumferenceStatus          64\n",
              "Smoking                               20\n",
              "SmokelessTobacco                      65\n",
              "Activity                               0\n",
              "Mammography                        81210\n",
              "PapSmear                           54053\n",
              "ClinicalBreastExam                 55622\n",
              "ColorectalExam                     80562\n",
              "Alcohol                                0\n",
              "HypertensionHistory                    0\n",
              "DiabetesHistory                        0\n",
              "DiabetesDuringPregnancyHistory     42422\n",
              "CoronaryArteryHistory                  0\n",
              "HighCholesterolHistory                 0\n",
              "AsthmaHistory                          0\n",
              "HeartFailureHistory                    0\n",
              "COPDHistory                            0\n",
              "HeartDiseaseHistory                    0\n",
              "HypertensionMedication                 0\n",
              "DiabetesMedication                     0\n",
              "CholesterolMedication                  0\n",
              "EmergencyReferral                      0\n",
              "HighRisk                               0\n",
              "dtype: int64"
            ]
          },
          "metadata": {},
          "execution_count": 187
        }
      ],
      "source": [
        "data.isnull().sum()"
      ]
    },
    {
      "cell_type": "code",
      "execution_count": 188,
      "metadata": {
        "id": "A92VTRpzKhdc",
        "outputId": "fe7de64b-a84a-4200-d14b-b3c2fba7144b",
        "colab": {
          "base_uri": "https://localhost:8080/"
        }
      },
      "outputs": [
        {
          "output_type": "execute_result",
          "data": {
            "text/plain": [
              "(132514, 52)"
            ]
          },
          "metadata": {},
          "execution_count": 188
        }
      ],
      "source": [
        "data.shape"
      ]
    },
    {
      "cell_type": "markdown",
      "metadata": {
        "id": "ptY19AbOKhdc"
      },
      "source": [
        "**COTININE**"
      ]
    },
    {
      "cell_type": "code",
      "execution_count": 189,
      "metadata": {
        "id": "9eXf1GZNKhdc"
      },
      "outputs": [],
      "source": [
        "# for \"COTININE\"  -291604 missing \n",
        "\n",
        "#data = data.drop(column=COTININE]==\"Invalid\"].index)\n",
        "#data = data.drop(data[data[\"COTININE\"]==\"Signed Waiver\"].index)\n",
        "\n",
        "#data[\"COTININE\"]=data[\"COTININE\"].map({'Negative':0, 'Positive':1})\n",
        "#data[\"COTININE\"].value_counts()\n",
        "data=data.drop(columns=[\"COTININE\"])"
      ]
    },
    {
      "cell_type": "markdown",
      "metadata": {
        "id": "LvvJIG__Khdd"
      },
      "source": [
        "**TEST RESULT** :\n",
        "\n",
        "'GLU','SBP', 'DBP', 'TCHOL','TC:HDL_RATIO', 'LDL', 'HDL', 'TGS', 'AbdominalCir', 'HEIGHT', 'WEIGHT','BMI', 'ALT', 'AST'\n",
        "except for 'A1c'\n",
        "\n",
        "Remove all the rows with missing value"
      ]
    },
    {
      "cell_type": "code",
      "execution_count": 190,
      "metadata": {
        "id": "FDnHecnOKhdd"
      },
      "outputs": [],
      "source": [
        "cols=['GLU', 'SBP', 'DBP', 'TCHOL',\n",
        "       'TC:HDL_RATIO', 'LDL', 'HDL', 'TGS', 'AbdominalCir', 'HEIGHT', 'WEIGHT',\n",
        "       'BMI', 'ALT', 'AST']\n",
        "data = data.dropna(subset=cols)"
      ]
    },
    {
      "cell_type": "code",
      "execution_count": 191,
      "metadata": {
        "id": "AiIDgms8Khdd",
        "outputId": "2515f5e0-07f7-4b46-b7bf-59031a5e8f52",
        "colab": {
          "base_uri": "https://localhost:8080/"
        }
      },
      "outputs": [
        {
          "output_type": "execute_result",
          "data": {
            "text/plain": [
              "(127333, 51)"
            ]
          },
          "metadata": {},
          "execution_count": 191
        }
      ],
      "source": [
        "data.shape"
      ]
    },
    {
      "cell_type": "code",
      "execution_count": 192,
      "metadata": {
        "id": "wbWoTs9UKhdd",
        "outputId": "e7879079-af55-4d80-d420-9a7cd75633ad",
        "colab": {
          "base_uri": "https://localhost:8080/"
        }
      },
      "outputs": [
        {
          "output_type": "execute_result",
          "data": {
            "text/plain": [
              "Gender                                0\n",
              "Age                                   0\n",
              "Fasting                               0\n",
              "GLU                                   0\n",
              "A1c                               83845\n",
              "SBP                                   0\n",
              "DBP                                   0\n",
              "TCHOL                                 0\n",
              "TC:HDL_RATIO                          0\n",
              "LDL                                   0\n",
              "HDL                                   0\n",
              "TGS                                   0\n",
              "AbdominalCir                          0\n",
              "HEIGHT                                0\n",
              "WEIGHT                                0\n",
              "BMI                                   0\n",
              "ALT                                   0\n",
              "AST                                   0\n",
              "METS_Risks                            0\n",
              "BPAssessment                         22\n",
              "DyslipidemiaStatus                    0\n",
              "HDLAssessment                        19\n",
              "LDLAssessment                        46\n",
              "TGSAssessment                         4\n",
              "DMAssessment                         27\n",
              "DiabetesStatusUsingGlucose            0\n",
              "DiabetesStatusUsingA1c            83926\n",
              "BMIAssessment                         0\n",
              "AbdominalCircumferenceStatus          5\n",
              "Smoking                              16\n",
              "SmokelessTobacco                     54\n",
              "Activity                              0\n",
              "Mammography                       78252\n",
              "PapSmear                          51780\n",
              "ClinicalBreastExam                53184\n",
              "ColorectalExam                    77668\n",
              "Alcohol                               0\n",
              "HypertensionHistory                   0\n",
              "DiabetesHistory                       0\n",
              "DiabetesDuringPregnancyHistory    40764\n",
              "CoronaryArteryHistory                 0\n",
              "HighCholesterolHistory                0\n",
              "AsthmaHistory                         0\n",
              "HeartFailureHistory                   0\n",
              "COPDHistory                           0\n",
              "HeartDiseaseHistory                   0\n",
              "HypertensionMedication                0\n",
              "DiabetesMedication                    0\n",
              "CholesterolMedication                 0\n",
              "EmergencyReferral                     0\n",
              "HighRisk                              0\n",
              "dtype: int64"
            ]
          },
          "metadata": {},
          "execution_count": 192
        }
      ],
      "source": [
        "data.isnull().sum()"
      ]
    },
    {
      "cell_type": "markdown",
      "metadata": {
        "id": "Jd9cGFAmKhdd"
      },
      "source": [
        " **ASSESSMENT:**\n",
        "\n",
        "For 'BPAssessment','DyslipidemiaStatus', 'HDLAssessment', 'LDLAssessment', 'TGSAssessment',\n",
        "       'DMAssessment', 'DiabetesStatusUsingGlucose', \n",
        "       'BMIAssessment', 'AbdominalCircumferenceStatus', 'Smoking',\n",
        "       'SmokelessTobacco', 'Activity'\n",
        "       \n",
        "Except for 'DiabetesStatusUsingA1c'\n",
        "\n",
        "Remove the rows with missing value"
      ]
    },
    {
      "cell_type": "code",
      "execution_count": 193,
      "metadata": {
        "id": "pOh8b6t1Khdd"
      },
      "outputs": [],
      "source": [
        "cols=['BPAssessment','DyslipidemiaStatus', 'HDLAssessment', 'LDLAssessment', 'TGSAssessment',\n",
        "       'DMAssessment', 'DiabetesStatusUsingGlucose', 'BMIAssessment', 'AbdominalCircumferenceStatus', 'Smoking',\n",
        "       'SmokelessTobacco', 'Activity']\n",
        "data = data.dropna(subset=cols)"
      ]
    },
    {
      "cell_type": "code",
      "execution_count": 194,
      "metadata": {
        "id": "6604cZ2SKhdd",
        "outputId": "53f5c896-41f0-4bf3-a1af-86cda7c500fa",
        "colab": {
          "base_uri": "https://localhost:8080/"
        }
      },
      "outputs": [
        {
          "output_type": "execute_result",
          "data": {
            "text/plain": [
              "(127179, 51)"
            ]
          },
          "metadata": {},
          "execution_count": 194
        }
      ],
      "source": [
        "data.shape"
      ]
    },
    {
      "cell_type": "code",
      "execution_count": 195,
      "metadata": {
        "id": "BcCA-tb7Khdd",
        "outputId": "837267ef-b6d7-437a-a491-345043457e9c",
        "colab": {
          "base_uri": "https://localhost:8080/"
        }
      },
      "outputs": [
        {
          "output_type": "execute_result",
          "data": {
            "text/plain": [
              "Gender                                0\n",
              "Age                                   0\n",
              "Fasting                               0\n",
              "GLU                                   0\n",
              "A1c                               83755\n",
              "SBP                                   0\n",
              "DBP                                   0\n",
              "TCHOL                                 0\n",
              "TC:HDL_RATIO                          0\n",
              "LDL                                   0\n",
              "HDL                                   0\n",
              "TGS                                   0\n",
              "AbdominalCir                          0\n",
              "HEIGHT                                0\n",
              "WEIGHT                                0\n",
              "BMI                                   0\n",
              "ALT                                   0\n",
              "AST                                   0\n",
              "METS_Risks                            0\n",
              "BPAssessment                          0\n",
              "DyslipidemiaStatus                    0\n",
              "HDLAssessment                         0\n",
              "LDLAssessment                         0\n",
              "TGSAssessment                         0\n",
              "DMAssessment                          0\n",
              "DiabetesStatusUsingGlucose            0\n",
              "DiabetesStatusUsingA1c            83832\n",
              "BMIAssessment                         0\n",
              "AbdominalCircumferenceStatus          0\n",
              "Smoking                               0\n",
              "SmokelessTobacco                      0\n",
              "Activity                              0\n",
              "Mammography                       78161\n",
              "PapSmear                          51713\n",
              "ClinicalBreastExam                53116\n",
              "ColorectalExam                    77579\n",
              "Alcohol                               0\n",
              "HypertensionHistory                   0\n",
              "DiabetesHistory                       0\n",
              "DiabetesDuringPregnancyHistory    40702\n",
              "CoronaryArteryHistory                 0\n",
              "HighCholesterolHistory                0\n",
              "AsthmaHistory                         0\n",
              "HeartFailureHistory                   0\n",
              "COPDHistory                           0\n",
              "HeartDiseaseHistory                   0\n",
              "HypertensionMedication                0\n",
              "DiabetesMedication                    0\n",
              "CholesterolMedication                 0\n",
              "EmergencyReferral                     0\n",
              "HighRisk                              0\n",
              "dtype: int64"
            ]
          },
          "metadata": {},
          "execution_count": 195
        }
      ],
      "source": [
        "data.isnull().sum()"
      ]
    },
    {
      "cell_type": "markdown",
      "metadata": {
        "id": "lv67MvIeKhdd"
      },
      "source": [
        "**MAP THE ASSESSMENT DATA INTO NUMERICAL VALUE ACCORDING TO THE RISK LEVEL.**"
      ]
    },
    {
      "cell_type": "code",
      "execution_count": 196,
      "metadata": {
        "id": "0sBEWPY_Khde"
      },
      "outputs": [],
      "source": [
        "#\"BPAssessment\"\n",
        "data[\"BPAssessment\"]=data[\"BPAssessment\"].map({'CONTROLLED':3, 'NORMAL':0, 'HYPERTENSION STG1':2, 'HYPERTENSION STG2':4, 'ELEVATED':1, 'HYPERTENSIVE CRISIS':5})\n"
      ]
    },
    {
      "cell_type": "code",
      "execution_count": 197,
      "metadata": {
        "id": "5Piok9KEKhdf"
      },
      "outputs": [],
      "source": [
        "#\"HDLAssessment\"\n",
        "data = data.drop(data[data[\"HDLAssessment\"]=='NOT FASTING'].index)\n",
        "data[\"HDLAssessment\"]=data[\"HDLAssessment\"].map({'VERY GOOD':0, 'ACCEPTABLE':1, 'LOW':2})"
      ]
    },
    {
      "cell_type": "code",
      "execution_count": 198,
      "metadata": {
        "id": "SBNCe4nKKhdf"
      },
      "outputs": [],
      "source": [
        "#\"LDLAssessment\"\n",
        "data = data.drop(data[data[\"LDLAssessment\"]=='NOT FASTING'].index)\n",
        "data[\"LDLAssessment\"]=data[\"LDLAssessment\"].map({'OPTIMAL':0, 'GOOD':1, 'BORDERLINE HIGH':2, 'CONTROLLED':3, 'HIGH':4}) "
      ]
    },
    {
      "cell_type": "code",
      "execution_count": 199,
      "metadata": {
        "id": "82F6ohXAKhdf"
      },
      "outputs": [],
      "source": [
        "#\"TGSAssessment\"\n",
        "#data = data.drop(data[data[\"TGSAssessment\"]=='NOT FASTING'].index)\n",
        "data[\"TGSAssessment\"]=data[\"TGSAssessment\"].map({'NORMAL':0, 'BORDERLINE HIGH':1, 'HIGH':2, 'VERY HIGH':3}) "
      ]
    },
    {
      "cell_type": "code",
      "execution_count": 200,
      "metadata": {
        "id": "cCQWgz89Khdf"
      },
      "outputs": [],
      "source": [
        "#\"DMAssessment\",\"DiabetesStatusUsingGlucose\",\"DiabetesStatusUsingA1c\"\n",
        "maps = {'NORMAL':0, 'PRE-DIABETES':2, 'DIABETES':3, 'MANAGED':1}\n",
        "data = data.drop(data[data[\"DiabetesStatusUsingGlucose\"]=='NOT FASTING'].index)\n",
        "data[\"DMAssessment\"]=data[\"DMAssessment\"].map(maps)\n",
        "data[\"DiabetesStatusUsingGlucose\"]=data[\"DiabetesStatusUsingGlucose\"].map(maps)\n",
        "data[\"DiabetesStatusUsingA1c\"]=data[\"DiabetesStatusUsingA1c\"].map(maps)"
      ]
    },
    {
      "cell_type": "code",
      "execution_count": 201,
      "metadata": {
        "id": "ehiCk3-UKhdf"
      },
      "outputs": [],
      "source": [
        "#BMI\n",
        "maps={'EXTREME OBESITY':4, 'NORMAL':0, 'OBESITY':3, 'OVERWEIGHT':2, 'UNDERWEIGHT':1}\n",
        "data[\"BMIAssessment\"]=data[\"BMIAssessment\"].map(maps)"
      ]
    },
    {
      "cell_type": "code",
      "execution_count": 202,
      "metadata": {
        "id": "hQr117rVKhdf"
      },
      "outputs": [],
      "source": [
        "#\"AbdominalCircumferenceStatus\"\n",
        "maps={'HIGH RISK':1, 'NORMAL':0}\n",
        "data[\"AbdominalCircumferenceStatus\"]=data[\"AbdominalCircumferenceStatus\"].map(maps)"
      ]
    },
    {
      "cell_type": "code",
      "execution_count": 203,
      "metadata": {
        "id": "aEKiLX9NKhdf",
        "outputId": "50c9e890-1717-4a0f-e2d8-1d520fcb6f50",
        "colab": {
          "base_uri": "https://localhost:8080/"
        }
      },
      "outputs": [
        {
          "output_type": "execute_result",
          "data": {
            "text/plain": [
              "0"
            ]
          },
          "metadata": {},
          "execution_count": 203
        }
      ],
      "source": [
        "#\"Gender\"\n",
        "maps_G={'F':1,'M':0}\n",
        "data[\"Gender\"]=data[\"Gender\"].map(maps_G)\n",
        "data[\"Gender\"].isnull().sum()"
      ]
    },
    {
      "cell_type": "code",
      "execution_count": 204,
      "metadata": {
        "id": "KhDuPIbIKhdg"
      },
      "outputs": [],
      "source": [
        "#data.head(4)"
      ]
    },
    {
      "cell_type": "markdown",
      "source": [
        "**CREATE FLAG ACCORDING TO THE RISK LEVEL**"
      ],
      "metadata": {
        "id": "vUu-un7nozUx"
      }
    },
    {
      "cell_type": "code",
      "execution_count": 205,
      "metadata": {
        "id": "OmGgVghOKhdg",
        "outputId": "dec744df-5c84-491a-b124-0f26733366ee",
        "colab": {
          "base_uri": "https://localhost:8080/"
        }
      },
      "outputs": [
        {
          "output_type": "stream",
          "name": "stdout",
          "text": [
            "0.0    123786\n",
            "1.0      3270\n",
            "2.0       106\n",
            "3.0        16\n",
            "Name: Flag_Mix, dtype: int64\n"
          ]
        }
      ],
      "source": [
        "\"\"\"\n",
        "Create a label feature based on the EmergencyReferral and highrisk for the purpose of building multi-classes models\n",
        "\n",
        "strategy: \n",
        "if EmergencyReferral = yes, and the high risk = yes, assig Flag_Mix = 3\n",
        "if EmergencyReferral = yes, and the high risk = no, assign Flag_Mix = 2\n",
        "if EmergencyReferral = no, and the high risk = yes, assign Flag_Mix = 1\n",
        "if EmergencyReferral = no, and the high risk = no, assign Flag_Mix = 0\n",
        "\n",
        "\"\"\"\n",
        "data.loc[(data['EmergencyReferral']=='YES') & (data['HighRisk']=='YES'), 'Flag_Mix']=3\n",
        "data.loc[(data['EmergencyReferral']=='YES') & (data['HighRisk']=='NO'), 'Flag_Mix']=2\n",
        "data.loc[(data['EmergencyReferral']=='NO') & (data['HighRisk']=='YES'), 'Flag_Mix']=1\n",
        "data.loc[(data['EmergencyReferral']=='NO') & (data['HighRisk']=='NO'), 'Flag_Mix']=0\n",
        "print(data['Flag_Mix'].value_counts())"
      ]
    },
    {
      "cell_type": "code",
      "execution_count": 206,
      "metadata": {
        "id": "NcGF_MmHKhdg",
        "outputId": "50210cfe-8592-4908-ccd0-5656766a6195",
        "colab": {
          "base_uri": "https://localhost:8080/"
        }
      },
      "outputs": [
        {
          "output_type": "stream",
          "name": "stdout",
          "text": [
            "0.0    127056\n",
            "1.0       122\n",
            "Name: Flag_E, dtype: int64\n"
          ]
        }
      ],
      "source": [
        "\"\"\"\n",
        "Create a label feature based on the EmergencyReferral only for the purpose of building bi-classes models\n",
        "\n",
        "strategy: \n",
        "if EmergencyReferral = yes  assig Flag_E = 1\n",
        "if EmergencyReferral = no, assign Flag_E = 0\n",
        "\"\"\"\n",
        "data.loc[(data['EmergencyReferral']=='YES'), 'Flag_E']=1\n",
        "data.loc[(data['EmergencyReferral']=='NO'), 'Flag_E']=0\n",
        "print(data['Flag_E'].value_counts())"
      ]
    },
    {
      "cell_type": "code",
      "execution_count": 207,
      "metadata": {
        "id": "TDfC7U9_Khdg",
        "outputId": "fa90b55d-02b1-4fde-a682-fe5de31a3339",
        "colab": {
          "base_uri": "https://localhost:8080/"
        }
      },
      "outputs": [
        {
          "output_type": "stream",
          "name": "stdout",
          "text": [
            "0.0    123786\n",
            "1.0      3392\n",
            "Name: Flag, dtype: int64\n",
            "0\n"
          ]
        }
      ],
      "source": [
        "\"\"\"\n",
        "Create a label feature based on the EmergencyReferral and highrisk for the purpose of building bi-classes models\n",
        "\n",
        "Strategy: \n",
        "if Emergency Referral = yes, or High Risk = yes, assig Flag = 1\n",
        "if Emergency Referral = yes, and High Risk = no, assign Flag = 0\n",
        "if Emergency Referral = no, and High Risk = yes, assign Flag = 0\n",
        "if Emergency Referral = no, and High Risk = no, assign Flag= 0\n",
        "\n",
        "\n",
        "\"\"\"\n",
        "data.loc[(data['EmergencyReferral']=='YES') | (data['HighRisk']=='YES'), 'Flag']=1\n",
        "data.loc[(data['EmergencyReferral']=='NO') & (data['HighRisk']=='NO'), 'Flag']=0\n",
        "print(data['Flag'].value_counts())\n",
        "print(data['Flag'].isnull().sum())\n",
        "#data=data.drop(columns=['Flag_EH'])"
      ]
    },
    {
      "cell_type": "code",
      "execution_count": 208,
      "metadata": {
        "id": "g2HqWos0Khdg",
        "outputId": "4b47ed31-ae49-4cae-c180-9ef2371c8992",
        "colab": {
          "base_uri": "https://localhost:8080/"
        }
      },
      "outputs": [
        {
          "output_type": "execute_result",
          "data": {
            "text/plain": [
              "Gender                                0\n",
              "Age                                   0\n",
              "Fasting                               0\n",
              "GLU                                   0\n",
              "A1c                               83755\n",
              "SBP                                   0\n",
              "DBP                                   0\n",
              "TCHOL                                 0\n",
              "TC:HDL_RATIO                          0\n",
              "LDL                                   0\n",
              "HDL                                   0\n",
              "TGS                                   0\n",
              "AbdominalCir                          0\n",
              "HEIGHT                                0\n",
              "WEIGHT                                0\n",
              "BMI                                   0\n",
              "ALT                                   0\n",
              "AST                                   0\n",
              "METS_Risks                            0\n",
              "BPAssessment                          0\n",
              "DyslipidemiaStatus                    0\n",
              "HDLAssessment                         0\n",
              "LDLAssessment                         0\n",
              "TGSAssessment                         0\n",
              "DMAssessment                          0\n",
              "DiabetesStatusUsingGlucose            0\n",
              "DiabetesStatusUsingA1c            83832\n",
              "BMIAssessment                         0\n",
              "AbdominalCircumferenceStatus          0\n",
              "Smoking                               0\n",
              "SmokelessTobacco                      0\n",
              "Activity                              0\n",
              "Mammography                       78160\n",
              "PapSmear                          51712\n",
              "ClinicalBreastExam                53115\n",
              "ColorectalExam                    77578\n",
              "Alcohol                               0\n",
              "HypertensionHistory                   0\n",
              "DiabetesHistory                       0\n",
              "DiabetesDuringPregnancyHistory    40701\n",
              "CoronaryArteryHistory                 0\n",
              "HighCholesterolHistory                0\n",
              "AsthmaHistory                         0\n",
              "HeartFailureHistory                   0\n",
              "COPDHistory                           0\n",
              "HeartDiseaseHistory                   0\n",
              "HypertensionMedication                0\n",
              "DiabetesMedication                    0\n",
              "CholesterolMedication                 0\n",
              "EmergencyReferral                     0\n",
              "HighRisk                              0\n",
              "Flag_Mix                              0\n",
              "Flag_E                                0\n",
              "Flag                                  0\n",
              "dtype: int64"
            ]
          },
          "metadata": {},
          "execution_count": 208
        }
      ],
      "source": [
        "data.isnull().sum()"
      ]
    },
    {
      "cell_type": "markdown",
      "metadata": {
        "id": "Bplo4MOCKhdh"
      },
      "source": [
        "**WRITE OUT THE CLEANED DATA INTO TWO DATASETS:** \n",
        "\n",
        "1. With the Gender info for further descriptive analysis.\n",
        "\n",
        "2. Remove all gender & age-related features."
      ]
    },
    {
      "cell_type": "code",
      "execution_count": 209,
      "metadata": {
        "id": "qGM4WdvBKhdh"
      },
      "outputs": [],
      "source": [
        "# with ggender & age-related features:\n",
        "data.to_csv('cleaned_G.csv',index=False)"
      ]
    },
    {
      "cell_type": "code",
      "execution_count": 210,
      "metadata": {
        "id": "bZioQQROKhdh",
        "outputId": "c7d248fe-3b5f-4bea-8740-eff5f0764d6a",
        "colab": {
          "base_uri": "https://localhost:8080/"
        }
      },
      "outputs": [
        {
          "output_type": "execute_result",
          "data": {
            "text/plain": [
              "Gender                        0\n",
              "Age                           0\n",
              "GLU                           0\n",
              "SBP                           0\n",
              "DBP                           0\n",
              "TCHOL                         0\n",
              "TC:HDL_RATIO                  0\n",
              "LDL                           0\n",
              "HDL                           0\n",
              "TGS                           0\n",
              "AbdominalCir                  0\n",
              "HEIGHT                        0\n",
              "WEIGHT                        0\n",
              "BMI                           0\n",
              "ALT                           0\n",
              "AST                           0\n",
              "METS_Risks                    0\n",
              "BPAssessment                  0\n",
              "DyslipidemiaStatus            0\n",
              "HDLAssessment                 0\n",
              "LDLAssessment                 0\n",
              "TGSAssessment                 0\n",
              "DMAssessment                  0\n",
              "DiabetesStatusUsingGlucose    0\n",
              "BMIAssessment                 0\n",
              "Smoking                       0\n",
              "SmokelessTobacco              0\n",
              "Activity                      0\n",
              "Alcohol                       0\n",
              "HypertensionHistory           0\n",
              "DiabetesHistory               0\n",
              "CoronaryArteryHistory         0\n",
              "HighCholesterolHistory        0\n",
              "AsthmaHistory                 0\n",
              "HeartFailureHistory           0\n",
              "COPDHistory                   0\n",
              "HeartDiseaseHistory           0\n",
              "HypertensionMedication        0\n",
              "DiabetesMedication            0\n",
              "CholesterolMedication         0\n",
              "EmergencyReferral             0\n",
              "HighRisk                      0\n",
              "Flag_Mix                      0\n",
              "Flag_E                        0\n",
              "Flag                          0\n",
              "dtype: int64"
            ]
          },
          "metadata": {},
          "execution_count": 210
        }
      ],
      "source": [
        "# without gender-related features:\n",
        "cols=[\"Fasting\",\"A1c\",\"DiabetesStatusUsingA1c\",\"AbdominalCircumferenceStatus\",\n",
        "      \"Mammography\",\"PapSmear\",\"ClinicalBreastExam\",\"ColorectalExam\",\"DiabetesDuringPregnancyHistory\"]\n",
        "data_cleaned=data.drop(columns=cols)\n",
        "data_cleaned.isnull().sum()"
      ]
    },
    {
      "cell_type": "code",
      "execution_count": 211,
      "metadata": {
        "id": "wdy7dRD1Khdh"
      },
      "outputs": [],
      "source": [
        "data_cleaned.to_csv('cleaned.csv',index=False)"
      ]
    },
    {
      "cell_type": "code",
      "source": [
        "df = pd.read_csv('cleaned.csv')"
      ],
      "metadata": {
        "id": "6Igq6OgUt5pL"
      },
      "execution_count": 212,
      "outputs": []
    },
    {
      "cell_type": "markdown",
      "source": [
        "# MORE DATA PREPROCESSING"
      ],
      "metadata": {
        "id": "5XKoQse6BMVH"
      }
    },
    {
      "cell_type": "markdown",
      "source": [
        "**SPLITTING DATA SET INTO FEATURES AND LABELS**"
      ],
      "metadata": {
        "id": "7OvaeBwC71b5"
      }
    },
    {
      "cell_type": "code",
      "source": [
        "#split dataset into two sets: 1. feature set 2. class\n",
        "cols=['EmergencyReferral', 'HighRisk', 'Flag_Mix','Flag_E', 'Flag']\n",
        "X=df.drop(columns=cols)\n",
        "#class\n",
        "y=df[\"Flag\"]\n",
        "#X.head()"
      ],
      "metadata": {
        "id": "GdEZKZNqt-U5"
      },
      "execution_count": 213,
      "outputs": []
    },
    {
      "cell_type": "code",
      "source": [
        "X.shape"
      ],
      "metadata": {
        "colab": {
          "base_uri": "https://localhost:8080/"
        },
        "id": "EFlfDsYqt-tQ",
        "outputId": "2d0933e8-2509-409c-d62a-b43994a50ecb"
      },
      "execution_count": 214,
      "outputs": [
        {
          "output_type": "execute_result",
          "data": {
            "text/plain": [
              "(127178, 40)"
            ]
          },
          "metadata": {},
          "execution_count": 214
        }
      ]
    },
    {
      "cell_type": "markdown",
      "source": [
        "**CHECK CLASS DISTRIBUTION--CLASS IMBALANCE**"
      ],
      "metadata": {
        "id": "rerLftr17ewf"
      }
    },
    {
      "cell_type": "code",
      "source": [
        "# detect class imbalance\n",
        "df[\"Flag\"].value_counts()"
      ],
      "metadata": {
        "colab": {
          "base_uri": "https://localhost:8080/"
        },
        "id": "9pnGou6PuCYt",
        "outputId": "bcd86147-db7f-4cdf-bce8-615f0694c8ae"
      },
      "execution_count": 215,
      "outputs": [
        {
          "output_type": "execute_result",
          "data": {
            "text/plain": [
              "0.0    123786\n",
              "1.0      3392\n",
              "Name: Flag, dtype: int64"
            ]
          },
          "metadata": {},
          "execution_count": 215
        }
      ]
    },
    {
      "cell_type": "markdown",
      "source": [
        "**SPLITTING DATASET INTO TRAIN-TEST SPLITS**"
      ],
      "metadata": {
        "id": "jJwJUgYc8dxX"
      }
    },
    {
      "cell_type": "code",
      "source": [
        "from sklearn.model_selection import train_test_split\n",
        "\n",
        "X_train, X_test, y_train, y_test = train_test_split(\n",
        "    X, y, test_size=0.3, random_state=0)"
      ],
      "metadata": {
        "id": "XhqInC-ZuCvu"
      },
      "execution_count": 216,
      "outputs": []
    },
    {
      "cell_type": "markdown",
      "source": [
        "**APPLYING UNDERSAMPLING METHOD FOR IMBALANCED CLASS**"
      ],
      "metadata": {
        "id": "S8_iicyh8n2Z"
      }
    },
    {
      "cell_type": "code",
      "source": [
        "import imblearn\n",
        "from imblearn.under_sampling import RandomUnderSampler\n",
        "rus = RandomUnderSampler(random_state=0)\n",
        "X_resampled, y_resampled = rus.fit_resample(X_train, y_train)"
      ],
      "metadata": {
        "id": "xDvd0zgGuJR-"
      },
      "execution_count": 217,
      "outputs": []
    },
    {
      "cell_type": "code",
      "source": [
        "#check the class distribution\n",
        "import collections\n",
        "print(sorted(collections.Counter(y_resampled).items()))"
      ],
      "metadata": {
        "colab": {
          "base_uri": "https://localhost:8080/"
        },
        "id": "c2qErFxBuPFE",
        "outputId": "3d24c5a7-c091-4d55-a140-324e233057cf"
      },
      "execution_count": 218,
      "outputs": [
        {
          "output_type": "stream",
          "name": "stdout",
          "text": [
            "[(0.0, 2367), (1.0, 2367)]\n"
          ]
        }
      ]
    },
    {
      "cell_type": "markdown",
      "source": [
        "**APPLYING RANDOM FOREST ALGORITHM TO SELECT THE IMPORTANT FEATURES**"
      ],
      "metadata": {
        "id": "pL1x5OKa8yTq"
      }
    },
    {
      "cell_type": "code",
      "source": [
        "from sklearn.ensemble import RandomForestClassifier\n",
        "\n",
        "feat_labels = X.columns[:]\n",
        "\n",
        "forest = RandomForestClassifier(n_estimators=10,\n",
        "                                random_state=0,\n",
        "                                n_jobs=-1)\n",
        "\n",
        "forest.fit(X_resampled, y_resampled)\n",
        "importances = forest.feature_importances_\n",
        "\n",
        "indices = np.argsort(importances)[::-1]\n",
        "\n",
        "for f in range(X_resampled.shape[1]):\n",
        "    print(\"%2d) %-*s %f\" % (f + 1, 41, \n",
        "                            feat_labels[indices[f]], \n",
        "                            importances[indices[f]]))\n",
        "\n",
        "plt.title('Feature Importances')\n",
        "plt.bar(range(X_resampled.shape[1]), \n",
        "        importances[indices],\n",
        "        color='lightblue', \n",
        "        align='center')\n",
        "\n",
        "plt.xticks(range(X_resampled.shape[1]), \n",
        "           feat_labels[indices], rotation=90)\n",
        "plt.xlim([-1, X_resampled.shape[1]])\n",
        "plt.tight_layout()\n",
        "#plt.savefig('./random_forest.png', dpi=300)\n",
        "plt.show()"
      ],
      "metadata": {
        "colab": {
          "base_uri": "https://localhost:8080/",
          "height": 734
        },
        "id": "ke3iTzGiuPXj",
        "outputId": "2db50900-7a34-4fb4-fecc-558d1505b98b"
      },
      "execution_count": 219,
      "outputs": [
        {
          "output_type": "stream",
          "name": "stdout",
          "text": [
            " 1) SBP                                       0.131339\n",
            " 2) DBP                                       0.095699\n",
            " 3) BPAssessment                              0.066102\n",
            " 4) GLU                                       0.052337\n",
            " 5) DiabetesStatusUsingGlucose                0.049556\n",
            " 6) DMAssessment                              0.047938\n",
            " 7) BMI                                       0.039822\n",
            " 8) Age                                       0.036591\n",
            " 9) LDL                                       0.034779\n",
            "10) TCHOL                                     0.034212\n",
            "11) WEIGHT                                    0.034091\n",
            "12) AbdominalCir                              0.033597\n",
            "13) TGS                                       0.033418\n",
            "14) AST                                       0.032835\n",
            "15) ALT                                       0.031192\n",
            "16) DiabetesHistory                           0.029300\n",
            "17) TC:HDL_RATIO                              0.029015\n",
            "18) HEIGHT                                    0.027928\n",
            "19) HDL                                       0.027170\n",
            "20) METS_Risks                                0.014726\n",
            "21) Activity                                  0.013192\n",
            "22) BMIAssessment                             0.012627\n",
            "23) Smoking                                   0.009724\n",
            "24) HypertensionHistory                       0.009194\n",
            "25) LDLAssessment                             0.007798\n",
            "26) DyslipidemiaStatus                        0.007679\n",
            "27) CholesterolMedication                     0.006698\n",
            "28) HypertensionMedication                    0.006583\n",
            "29) HDLAssessment                             0.006493\n",
            "30) Gender                                    0.005816\n",
            "31) AsthmaHistory                             0.005129\n",
            "32) SmokelessTobacco                          0.004861\n",
            "33) TGSAssessment                             0.004846\n",
            "34) Alcohol                                   0.004631\n",
            "35) HeartDiseaseHistory                       0.003788\n",
            "36) HighCholesterolHistory                    0.002813\n",
            "37) DiabetesMedication                        0.002729\n",
            "38) COPDHistory                               0.002142\n",
            "39) HeartFailureHistory                       0.000890\n",
            "40) CoronaryArteryHistory                     0.000722\n"
          ]
        },
        {
          "output_type": "display_data",
          "data": {
            "image/png": "[encoded data removed]",
            "text/plain": [
              "<Figure size 432x288 with 1 Axes>"
            ]
          },
          "metadata": {
            "needs_background": "light"
          }
        }
      ]
    },
    {
      "cell_type": "code",
      "source": [
        "for f in range(16):\n",
        "    print(\"%2d) %-*s %f\" % (f + 1, 16, \n",
        "                            feat_labels[indices[f]], \n",
        "                            importances[indices[f]]))\n",
        "    import_f = []\n",
        "for f in range(16):\n",
        "    import_f.append(feat_labels[indices[f]])\n",
        "\n",
        "    \n",
        "print(\"\\n the top 15 important features are %s\" %import_f)"
      ],
      "metadata": {
        "colab": {
          "base_uri": "https://localhost:8080/"
        },
        "id": "EPlXCzMOvxtA",
        "outputId": "a9d85a4b-8855-44c6-8d63-34ebaa647c33"
      },
      "execution_count": 220,
      "outputs": [
        {
          "output_type": "stream",
          "name": "stdout",
          "text": [
            " 1) SBP              0.131339\n",
            " 2) DBP              0.095699\n",
            " 3) BPAssessment     0.066102\n",
            " 4) GLU              0.052337\n",
            " 5) DiabetesStatusUsingGlucose 0.049556\n",
            " 6) DMAssessment     0.047938\n",
            " 7) BMI              0.039822\n",
            " 8) Age              0.036591\n",
            " 9) LDL              0.034779\n",
            "10) TCHOL            0.034212\n",
            "11) WEIGHT           0.034091\n",
            "12) AbdominalCir     0.033597\n",
            "13) TGS              0.033418\n",
            "14) AST              0.032835\n",
            "15) ALT              0.031192\n",
            "16) DiabetesHistory  0.029300\n",
            "\n",
            " the top 15 important features are ['SBP', 'DBP', 'BPAssessment', 'GLU', 'DiabetesStatusUsingGlucose', 'DMAssessment', 'BMI', 'Age', 'LDL', 'TCHOL', 'WEIGHT', 'AbdominalCir', 'TGS', 'AST', 'ALT', 'DiabetesHistory']\n"
          ]
        }
      ]
    },
    {
      "cell_type": "code",
      "source": [
        "X_resampled=pd.DataFrame(X_resampled,columns=X.columns)\n",
        "X_test=pd.DataFrame(X_test,columns=X.columns)"
      ],
      "metadata": {
        "id": "YsaqRz5TwP9w"
      },
      "execution_count": 221,
      "outputs": []
    },
    {
      "cell_type": "code",
      "source": [
        "cols=['SBP', 'DBP', 'BPAssessment', 'GLU', 'BMI', 'TGS', 'Age', 'TCHOL', 'AST', 'LDL', 'ALT', 'WEIGHT', 'DMAssessment', 'AbdominalCir', 'METS_Risks', 'DiabetesStatusUsingGlucose']\n",
        "X_resampled=X_resampled[cols]\n",
        "X_test=X_test[cols]"
      ],
      "metadata": {
        "id": "5eFNCCpYwQe6"
      },
      "execution_count": 222,
      "outputs": []
    },
    {
      "cell_type": "code",
      "source": [
        "from sklearn.preprocessing import MinMaxScaler\n",
        "mms = MinMaxScaler()\n",
        "X_resampled = mms.fit_transform(X_resampled)\n",
        "X_test = mms.fit_transform(X_test)"
      ],
      "metadata": {
        "id": "j63oxoNhwSxn"
      },
      "execution_count": 223,
      "outputs": []
    },
    {
      "cell_type": "markdown",
      "source": [
        "# MODEL BUILDING "
      ],
      "metadata": {
        "id": "rB3ziGzb9CRZ"
      }
    },
    {
      "cell_type": "markdown",
      "source": [
        "**LOGISTIC REGRESSION**"
      ],
      "metadata": {
        "id": "jE-46AsL9GvM"
      }
    },
    {
      "cell_type": "code",
      "source": [
        "def lr_fit(X_resampled, y_resampled,X_test,y_test):\n",
        "    lr = LogisticRegression(C=100, max_iter= 300,penalty= 'l2')\n",
        "    clf = lr.fit(X_resampled, y_resampled)\n",
        "    clf_predicted = clf.predict(X_test)\n",
        "    ConfusionMatrix_Report(y_test=y_test,y_predicted=clf_predicted)\n",
        "    y_score = lr.decision_function(X_test)\n",
        "    ROC_decison_function(y_test, y_score)"
      ],
      "metadata": {
        "id": "bodA4IYHwWI2"
      },
      "execution_count": 224,
      "outputs": []
    },
    {
      "cell_type": "markdown",
      "source": [
        "**SUPPORT VECTOR MACHINE**"
      ],
      "metadata": {
        "id": "HEwQGtwt9Lfo"
      }
    },
    {
      "cell_type": "code",
      "source": [
        "def svm_rbf_fit(X_resampled, y_resampled,X_test,y_test):\n",
        "    svm_rbf = SVC(kernel='linear', C=10,gamma=0.001,probability=True)\n",
        "    clf = svm_rbf.fit(X_resampled, y_resampled)\n",
        "    clf_predicted = clf.predict(X_test)\n",
        "    ConfusionMatrix_Report(y_test=y_test,y_predicted=clf_predicted)\n",
        "    y_score = svm_rbf.decision_function(X_test)\n",
        "    ROC_decison_function(y_test, y_score)"
      ],
      "metadata": {
        "id": "fQ65U6DswfOB"
      },
      "execution_count": 225,
      "outputs": []
    },
    {
      "cell_type": "markdown",
      "source": [
        "**K NEAREST NEIGHBOURS**"
      ],
      "metadata": {
        "id": "Qb8w6URa9OE-"
      }
    },
    {
      "cell_type": "code",
      "source": [
        "def knn_fit(X_resampled, y_resampled,X_test,y_test):\n",
        "    knn = KNeighborsClassifier(n_neighbors = 5,p=3,weights='distance')\n",
        "    clf = knn.fit(X_resampled, y_resampled)\n",
        "    clf_predicted = clf.predict(X_test)\n",
        "    #y_score = clf.predict_proba(X_test)\n",
        "    ConfusionMatrix_Report(y_test=y_test,y_predicted=clf_predicted)\n",
        "    ROC_No_decision_function(y_test, clf_predicted)"
      ],
      "metadata": {
        "id": "52gBu-bkwgMy"
      },
      "execution_count": 226,
      "outputs": []
    },
    {
      "cell_type": "markdown",
      "source": [
        "**DECISION TREE**"
      ],
      "metadata": {
        "id": "PaqVmvk-9VkJ"
      }
    },
    {
      "cell_type": "code",
      "source": [
        "def dt_fit(X_resampled, y_resampled,X_test,y_test):\n",
        "    dt = DecisionTreeClassifier(criterion='entropy', max_depth=5)\n",
        "    clf = dt.fit(X_resampled, y_resampled)\n",
        "    clf_predicted = clf.predict(X_test)\n",
        "    y_score = clf.predict_proba(X_test)[:, 1]\n",
        "    ConfusionMatrix_Report(y_test=y_test,y_predicted=clf_predicted)\n",
        "    ROC_decison_function(y_test, y_score)"
      ],
      "metadata": {
        "id": "2FNYvpwOwih_"
      },
      "execution_count": 227,
      "outputs": []
    },
    {
      "cell_type": "markdown",
      "source": [
        "**RANDOM FOREST**"
      ],
      "metadata": {
        "id": "cj0yznsY9Y9H"
      }
    },
    {
      "cell_type": "code",
      "source": [
        "def forest_fit(X_resampled, y_resampled,X_test,y_test):\n",
        "    forest = RandomForestClassifier(n_estimators=13,random_state=0,n_jobs=-1)\n",
        "    clf = forest.fit(X_resampled, y_resampled)\n",
        "    clf_predicted = clf.predict(X_test)\n",
        "    y_score = clf.predict_proba(X_test)[:, 1]\n",
        "    ConfusionMatrix_Report(y_test=y_test,y_predicted=clf_predicted)\n",
        "    ROC_decison_function(y_test, y_score)"
      ],
      "metadata": {
        "id": "LtHE0gSmwp7D"
      },
      "execution_count": 228,
      "outputs": []
    },
    {
      "cell_type": "markdown",
      "source": [
        "**GAUSSIAN NAIVE BAYES**"
      ],
      "metadata": {
        "id": "h8c5TvSK9cGf"
      }
    },
    {
      "cell_type": "code",
      "source": [
        "def nb_fit(X_resampled, y_resampled,X_test,y_test):\n",
        "    nb = GaussianNB()\n",
        "    clf = nb.fit(X_resampled, y_resampled)\n",
        "    clf_predicted = clf.predict(X_test)\n",
        "    y_score = clf.predict_proba(X_test)[:, 1]\n",
        "    ConfusionMatrix_Report(y_test=y_test,y_predicted=clf_predicted)\n",
        "    ROC_decison_function(y_test, y_score)"
      ],
      "metadata": {
        "id": "mB0LpTTuwqb2"
      },
      "execution_count": 229,
      "outputs": []
    },
    {
      "cell_type": "markdown",
      "source": [
        "**GRADIENT BOOSTING TREE**"
      ],
      "metadata": {
        "id": "nNzxdJmr9kw0"
      }
    },
    {
      "cell_type": "code",
      "source": [
        "from sklearn.ensemble import GradientBoostingClassifier\n",
        "def Gradient_Boosting_fit(X_resampled, y_resampled,X_test,y_test):\n",
        "    clf = GradientBoostingClassifier().fit(X_resampled, y_resampled)\n",
        "    clf_predicted = clf.predict(X_test)\n",
        "    y_score = clf.predict_proba(X_test)[:, 1]\n",
        "    ConfusionMatrix_Report(y_test=y_test,y_predicted=clf_predicted)\n",
        "    ROC_decison_function(y_test, y_score)"
      ],
      "metadata": {
        "id": "uDzpH-zRw7Ux"
      },
      "execution_count": 230,
      "outputs": []
    },
    {
      "cell_type": "markdown",
      "source": [
        "# MODEL EVALUATION METRICS"
      ],
      "metadata": {
        "id": "DLWTtt3b9pTk"
      }
    },
    {
      "cell_type": "markdown",
      "source": [
        "**CONFUSION MATRIX**"
      ],
      "metadata": {
        "id": "sQ02ITg39s2h"
      }
    },
    {
      "cell_type": "code",
      "source": [
        "def ConfusionMatrix_Report(y_test,y_predicted):  \n",
        "    confusion = confusion_matrix(y_test, y_predicted)\n",
        "    ACC=accuracy_score(y_test, y_predicted)\n",
        "    Precision=precision_score(y_test, y_predicted)\n",
        "    Recall=recall_score(y_test, y_predicted)\n",
        "    F1=f1_score(y_test, y_predicted)\n",
        "    print('---Confusion Matrix---\\n', confusion)\n",
        "    print('\\n   Accuracy: {:.2f}'.format(ACC))\n",
        "    print('\\n   Precision: {:.2f}'.format(Precision))\n",
        "    print('\\n   Recall: {:.2f}'.format(Recall))\n",
        "    print('\\n   F1: {:.2f}'.format(F1))\n",
        "    print('---Classification Report---')\n",
        "    print('\\n   \\n', \n",
        "    classification_report(y_test, y_predicted, target_names = ['not 1', '1']))\n",
        "    print(\"Metric \")\n",
        "    print('% 0.2f' % Recall,'% 0.2f' % F1,'% 0.2f' % Precision,'% 0.2f' % ACC)"
      ],
      "metadata": {
        "id": "-YybDem9xIbR"
      },
      "execution_count": 231,
      "outputs": []
    },
    {
      "cell_type": "markdown",
      "source": [
        "**RECIEVER OPERATING CHARACTERSTIC CURVE**"
      ],
      "metadata": {
        "id": "qkpQ3MKT92_O"
      }
    },
    {
      "cell_type": "code",
      "source": [
        "def ROC_decison_function(y_test, y_score):\n",
        "    fpr, tpr, _ = roc_curve(y_test, y_score)\n",
        "    roc_auc = auc(fpr, tpr)\n",
        "    print('% 0.2f' %roc_auc)\n",
        "    plt.figure()\n",
        "    plt.xlim([-0.01, 1.00])\n",
        "    plt.ylim([-0.01, 1.01])\n",
        "    plt.plot(fpr, tpr, lw=3, label='(AUC = {:0.2f})'.format(roc_auc))\n",
        "    plt.xlabel('False Positive Rate', fontsize=16)\n",
        "    plt.ylabel('True Positive Rate', fontsize=16)\n",
        "    plt.title('classifier ROC curve )', fontsize=16)\n",
        "    plt.legend(loc='riht', fontsize=13)\n",
        "    plt.plot([0, 1], [0, 1], color='navy', lw=3, linestyle='--')\n",
        "    plt.axes().set_aspect('equal')\n",
        "    plt.show()"
      ],
      "metadata": {
        "id": "1r2DdT7XxMOn"
      },
      "execution_count": 232,
      "outputs": []
    },
    {
      "cell_type": "code",
      "source": [
        "def ROC_No_decision_function(y_test, clf_predicted):\n",
        "    false_positive_rate,true_positive_rate,thresholds=roc_curve(y_test,clf_predicted)\n",
        "    roc_auc=auc(false_positive_rate, true_positive_rate)\n",
        "    print('% 0.2f' %roc_auc)\n",
        "    plt.figure()\n",
        "    plt.xlim([-0.01, 1.00])\n",
        "    plt.ylim([-0.01, 1.01])\n",
        "    plt.plot(false_positive_rate, true_positive_rate,lw=3, label='(AUC = {:0.2f})'.format(roc_auc))\n",
        "    plt.xlabel('False Positive Rate', fontsize=16)\n",
        "    plt.ylabel('True Positive Rate', fontsize=16)\n",
        "    plt.title('classifier ROC curve )', fontsize=16)\n",
        "    plt.legend(loc='right', fontsize=13)\n",
        "    plt.plot([0, 1], [0, 1], color='navy', lw=3, linestyle='--')\n",
        "    plt.axes().set_aspect('equal')\n",
        "    plt.show()"
      ],
      "metadata": {
        "id": "IA9wFJyNxPId"
      },
      "execution_count": 233,
      "outputs": []
    },
    {
      "cell_type": "markdown",
      "source": [
        "# MODEL TRAINING / TESTING - BEFORE TUNING"
      ],
      "metadata": {
        "id": "W-uHtTLt-Iie"
      }
    },
    {
      "cell_type": "code",
      "source": [
        "print(\"-------------------------------------------Decision Tree--------------------------------------------\")\n",
        "dt_fit(X_resampled, y_resampled,X_test,y_test)\n",
        "print(\"-------------------------------------------Random Forest--------------------------------------------\")\n",
        "forest_fit(X_resampled, y_resampled,X_test,y_test)\n",
        "print(\"--------------------------------------------Logistic Regression---------------------------------------\")\n",
        "lr_fit(X_resampled, y_resampled,X_test,y_test)\n",
        "print(\"--------------------------------------------Support Vector Machine-------------------------------------\")\n",
        "svm_rbf_fit(X_resampled, y_resampled,X_test,y_test)\n",
        "print(\"-------------------------------------------KNN--------------------------------------------\")\n",
        "knn_fit(X_resampled, y_resampled,X_test,y_test)\n",
        "print(\"-------------------------------------------Naive Bayes--------------------------------------------\")\n",
        "nb_fit(X_resampled, y_resampled,X_test,y_test)\n",
        "print(\"-------------------------------------------Gradient Boosting Tree--------------------------------------------\")\n",
        "Gradient_Boosting_fit(X_resampled, y_resampled,X_test,y_test)"
      ],
      "metadata": {
        "colab": {
          "base_uri": "https://localhost:8080/",
          "height": 1000
        },
        "id": "uJ0iYFyAxU0o",
        "outputId": "08772953-31e2-41ae-82f8-6da6b8c2f073"
      },
      "execution_count": 234,
      "outputs": [
        {
          "output_type": "stream",
          "name": "stdout",
          "text": [
            "-------------------------------------------Decision Tree--------------------------------------------\n",
            "---Confusion Matrix---\n",
            " [[23897 13232]\n",
            " [  229   796]]\n",
            "\n",
            "   Accuracy: 0.65\n",
            "\n",
            "   Precision: 0.06\n",
            "\n",
            "   Recall: 0.78\n",
            "\n",
            "   F1: 0.11\n",
            "---Classification Report---\n",
            "\n",
            "   \n",
            "               precision    recall  f1-score   support\n",
            "\n",
            "       not 1       0.99      0.64      0.78     37129\n",
            "           1       0.06      0.78      0.11      1025\n",
            "\n",
            "    accuracy                           0.65     38154\n",
            "   macro avg       0.52      0.71      0.44     38154\n",
            "weighted avg       0.97      0.65      0.76     38154\n",
            "\n",
            "Metric \n",
            " 0.78  0.11  0.06  0.65\n",
            " 0.71\n"
          ]
        },
        {
          "output_type": "display_data",
          "data": {
            "image/png": "[encoded data removed]",
            "text/plain": [
              "<Figure size 432x288 with 1 Axes>"
            ]
          },
          "metadata": {
            "needs_background": "light"
          }
        },
        {
          "output_type": "stream",
          "name": "stdout",
          "text": [
            "-------------------------------------------Random Forest--------------------------------------------\n",
            "---Confusion Matrix---\n",
            " [[18059 19070]\n",
            " [  165   860]]\n",
            "\n",
            "   Accuracy: 0.50\n",
            "\n",
            "   Precision: 0.04\n",
            "\n",
            "   Recall: 0.84\n",
            "\n",
            "   F1: 0.08\n",
            "---Classification Report---\n",
            "\n",
            "   \n",
            "               precision    recall  f1-score   support\n",
            "\n",
            "       not 1       0.99      0.49      0.65     37129\n",
            "           1       0.04      0.84      0.08      1025\n",
            "\n",
            "    accuracy                           0.50     38154\n",
            "   macro avg       0.52      0.66      0.37     38154\n",
            "weighted avg       0.97      0.50      0.64     38154\n",
            "\n",
            "Metric \n",
            " 0.84  0.08  0.04  0.50\n",
            " 0.80\n"
          ]
        },
        {
          "output_type": "display_data",
          "data": {
            "image/png": "[encoded data removed]",
            "text/plain": [
              "<Figure size 432x288 with 1 Axes>"
            ]
          },
          "metadata": {
            "needs_background": "light"
          }
        },
        {
          "output_type": "stream",
          "name": "stdout",
          "text": [
            "--------------------------------------------Logistic Regression---------------------------------------\n",
            "---Confusion Matrix---\n",
            " [[11725 25404]\n",
            " [   93   932]]\n",
            "\n",
            "   Accuracy: 0.33\n",
            "\n",
            "   Precision: 0.04\n",
            "\n",
            "   Recall: 0.91\n",
            "\n",
            "   F1: 0.07\n",
            "---Classification Report---\n",
            "\n",
            "   \n",
            "               precision    recall  f1-score   support\n",
            "\n",
            "       not 1       0.99      0.32      0.48     37129\n",
            "           1       0.04      0.91      0.07      1025\n",
            "\n",
            "    accuracy                           0.33     38154\n",
            "   macro avg       0.51      0.61      0.27     38154\n",
            "weighted avg       0.97      0.33      0.47     38154\n",
            "\n",
            "Metric \n",
            " 0.91  0.07  0.04  0.33\n",
            " 0.82\n"
          ]
        },
        {
          "output_type": "display_data",
          "data": {
            "image/png": "[encoded data removed]",
            "text/plain": [
              "<Figure size 432x288 with 1 Axes>"
            ]
          },
          "metadata": {
            "needs_background": "light"
          }
        },
        {
          "output_type": "stream",
          "name": "stdout",
          "text": [
            "--------------------------------------------Support Vector Machine-------------------------------------\n",
            "---Confusion Matrix---\n",
            " [[16531 20598]\n",
            " [  143   882]]\n",
            "\n",
            "   Accuracy: 0.46\n",
            "\n",
            "   Precision: 0.04\n",
            "\n",
            "   Recall: 0.86\n",
            "\n",
            "   F1: 0.08\n",
            "---Classification Report---\n",
            "\n",
            "   \n",
            "               precision    recall  f1-score   support\n",
            "\n",
            "       not 1       0.99      0.45      0.61     37129\n",
            "           1       0.04      0.86      0.08      1025\n",
            "\n",
            "    accuracy                           0.46     38154\n",
            "   macro avg       0.52      0.65      0.35     38154\n",
            "weighted avg       0.97      0.46      0.60     38154\n",
            "\n",
            "Metric \n",
            " 0.86  0.08  0.04  0.46\n",
            " 0.82\n"
          ]
        },
        {
          "output_type": "display_data",
          "data": {
            "image/png": "[encoded data removed]",
            "text/plain": [
              "<Figure size 432x288 with 1 Axes>"
            ]
          },
          "metadata": {
            "needs_background": "light"
          }
        },
        {
          "output_type": "stream",
          "name": "stdout",
          "text": [
            "-------------------------------------------KNN--------------------------------------------\n",
            "---Confusion Matrix---\n",
            " [[30174  6955]\n",
            " [  301   724]]\n",
            "\n",
            "   Accuracy: 0.81\n",
            "\n",
            "   Precision: 0.09\n",
            "\n",
            "   Recall: 0.71\n",
            "\n",
            "   F1: 0.17\n",
            "---Classification Report---\n",
            "\n",
            "   \n",
            "               precision    recall  f1-score   support\n",
            "\n",
            "       not 1       0.99      0.81      0.89     37129\n",
            "           1       0.09      0.71      0.17      1025\n",
            "\n",
            "    accuracy                           0.81     38154\n",
            "   macro avg       0.54      0.76      0.53     38154\n",
            "weighted avg       0.97      0.81      0.87     38154\n",
            "\n",
            "Metric \n",
            " 0.71  0.17  0.09  0.81\n",
            " 0.76\n"
          ]
        },
        {
          "output_type": "display_data",
          "data": {
            "image/png": "[encoded data removed]",
            "text/plain": [
              "<Figure size 432x288 with 1 Axes>"
            ]
          },
          "metadata": {
            "needs_background": "light"
          }
        },
        {
          "output_type": "stream",
          "name": "stdout",
          "text": [
            "-------------------------------------------Naive Bayes--------------------------------------------\n",
            "---Confusion Matrix---\n",
            " [[23597 13532]\n",
            " [  210   815]]\n",
            "\n",
            "   Accuracy: 0.64\n",
            "\n",
            "   Precision: 0.06\n",
            "\n",
            "   Recall: 0.80\n",
            "\n",
            "   F1: 0.11\n",
            "---Classification Report---\n",
            "\n",
            "   \n",
            "               precision    recall  f1-score   support\n",
            "\n",
            "       not 1       0.99      0.64      0.77     37129\n",
            "           1       0.06      0.80      0.11      1025\n",
            "\n",
            "    accuracy                           0.64     38154\n",
            "   macro avg       0.52      0.72      0.44     38154\n",
            "weighted avg       0.97      0.64      0.76     38154\n",
            "\n",
            "Metric \n",
            " 0.80  0.11  0.06  0.64\n",
            " 0.82\n"
          ]
        },
        {
          "output_type": "display_data",
          "data": {
            "image/png": "[encoded data removed]",
            "text/plain": [
              "<Figure size 432x288 with 1 Axes>"
            ]
          },
          "metadata": {
            "needs_background": "light"
          }
        },
        {
          "output_type": "stream",
          "name": "stdout",
          "text": [
            "-------------------------------------------Gradient Boosting Tree--------------------------------------------\n",
            "---Confusion Matrix---\n",
            " [[24849 12280]\n",
            " [  233   792]]\n",
            "\n",
            "   Accuracy: 0.67\n",
            "\n",
            "   Precision: 0.06\n",
            "\n",
            "   Recall: 0.77\n",
            "\n",
            "   F1: 0.11\n",
            "---Classification Report---\n",
            "\n",
            "   \n",
            "               precision    recall  f1-score   support\n",
            "\n",
            "       not 1       0.99      0.67      0.80     37129\n",
            "           1       0.06      0.77      0.11      1025\n",
            "\n",
            "    accuracy                           0.67     38154\n",
            "   macro avg       0.53      0.72      0.46     38154\n",
            "weighted avg       0.97      0.67      0.78     38154\n",
            "\n",
            "Metric \n",
            " 0.77  0.11  0.06  0.67\n",
            " 0.81\n"
          ]
        },
        {
          "output_type": "display_data",
          "data": {
            "image/png": "[encoded data removed]",
            "text/plain": [
              "<Figure size 432x288 with 1 Axes>"
            ]
          },
          "metadata": {
            "needs_background": "light"
          }
        }
      ]
    },
    {
      "cell_type": "markdown",
      "source": [
        "# MODEL HYPERPARAMETER TUNING"
      ],
      "metadata": {
        "id": "GgUt7cwW-RiO"
      }
    },
    {
      "cell_type": "markdown",
      "source": [
        "**TUNING SUPPORT VECTOR MACHINE**"
      ],
      "metadata": {
        "id": "431sBbNI-XQO"
      }
    },
    {
      "cell_type": "code",
      "source": [
        "clf = SVC()\n",
        "grid_values = {'gamma': [0.001, 0.01, 0.05, 0.1, 1, 10, 100], 'kernel' : ['linear', 'rbf'],\n",
        "          'C':[0.001, 0.01, 0.05, 0.1, 1, 10, 100]}\n",
        "\n",
        "# default metric to optimize over grid parameters: accuracy\n",
        "grid_clf_acc = GridSearchCV(clf, param_grid = grid_values,cv=3)\n",
        "grid_clf_acc.fit(X_resampled, y_resampled)\n",
        "y_decision_fn_scores_acc = grid_clf_acc.decision_function(X_test) \n",
        "\n",
        "print('Grid best parameter (max. accuracy): ', grid_clf_acc.best_params_)\n",
        "print('Grid best score (accuracy): ', grid_clf_acc.best_score_)\n",
        "\n",
        "# alternative metric to optimize over grid parameters: AUC\n",
        "grid_clf_auc = GridSearchCV(clf, param_grid = grid_values, cv=3,scoring = 'roc_auc')\n",
        "grid_clf_auc.fit(X_resampled, y_resampled)\n",
        "y_decision_fn_scores_auc = grid_clf_auc.decision_function(X_test) \n",
        "\n",
        "print('testing set AUC: ', roc_auc_score(y_test, y_decision_fn_scores_auc))\n",
        "print('Grid best parameter (max. AUC): ', grid_clf_auc.best_params_)\n",
        "print('Grid best score (AUC): ', grid_clf_auc.best_score_)\n",
        "\n",
        "# alternative metric to optimize over grid parameters: F-1 socore\n",
        "grid_clf_f1 = GridSearchCV(clf, param_grid = grid_values, cv=3,scoring = 'f1')\n",
        "grid_clf_f1.fit(X_resampled, y_resampled)\n",
        "y_decision_fn_scores_f1 = grid_clf_f1.decision_function(X_test) \n",
        "\n",
        "\n",
        "print('Grid best parameter (max. F1): ', grid_clf_f1.best_params_)\n",
        "print('Grid best score F1: ', grid_clf_f1.best_score_)\n"
      ],
      "metadata": {
        "colab": {
          "base_uri": "https://localhost:8080/"
        },
        "id": "Gte2zd5qyetX",
        "outputId": "fcd36add-d5f5-489f-96b0-5b1971fa993a"
      },
      "execution_count": 235,
      "outputs": [
        {
          "output_type": "stream",
          "name": "stdout",
          "text": [
            "Grid best parameter (max. accuracy):  {'C': 100, 'gamma': 0.05, 'kernel': 'rbf'}\n",
            "Grid best score (accuracy):  0.7974228981833544\n",
            "testing set AUC:  0.8209748871600595\n",
            "Grid best parameter (max. AUC):  {'C': 1, 'gamma': 10, 'kernel': 'rbf'}\n",
            "Grid best score (AUC):  0.8296202055834261\n",
            "Grid best parameter (max. F1):  {'C': 100, 'gamma': 0.05, 'kernel': 'rbf'}\n",
            "Grid best score F1:  0.7677900805116732\n"
          ]
        }
      ]
    },
    {
      "cell_type": "markdown",
      "source": [
        "**TUNING LOGISTIC REGRESSION**"
      ],
      "metadata": {
        "id": "iASEyOd0-b_d"
      }
    },
    {
      "cell_type": "code",
      "source": [
        "from sklearn.linear_model import LogisticRegression\n",
        "    \n",
        "clf= LogisticRegression()\n",
        "grid_values = {'max_iter': [100, 200, 300, 400,500,600,700,800,900,1000],'C': [0.001,0.01, 0.1, 1, 10, 100,1000], 'penalty': ['l1', 'l2']}\n",
        "\n",
        "# default metric to optimize over grid parameters: accuracy\n",
        "grid_clf_acc = GridSearchCV(clf, param_grid = grid_values,cv=3)\n",
        "grid_clf_acc.fit(X_resampled, y_resampled)\n",
        "y_decision_fn_scores_acc = grid_clf_acc.decision_function(X_test) \n",
        "\n",
        "print('Grid best parameter (max. accuracy): ', grid_clf_acc.best_params_)\n",
        "print('Grid best score (accuracy): ', grid_clf_acc.best_score_)\n",
        "\n",
        "# alternative metric to optimize over grid parameters: AUC\n",
        "grid_clf_auc = GridSearchCV(clf, param_grid = grid_values, cv=3,scoring = 'roc_auc')\n",
        "grid_clf_auc.fit(X_resampled, y_resampled)\n",
        "y_decision_fn_scores_auc = grid_clf_auc.decision_function(X_test) \n",
        "\n",
        "print('Testing set AUC: ', roc_auc_score(y_test, y_decision_fn_scores_auc))\n",
        "print('Grid best parameter (max. AUC): ', grid_clf_auc.best_params_)\n",
        "print('Grid best score (AUC): ', grid_clf_auc.best_score_)\n",
        "\n",
        "# alternative metric to optimize over grid parameters: F-1 socore\n",
        "grid_clf_f1 = GridSearchCV(clf, param_grid = grid_values, cv=3,scoring = 'f1')\n",
        "grid_clf_f1.fit(X_resampled, y_resampled)\n",
        "y_decision_fn_scores_f1 = grid_clf_f1.decision_function(X_test) \n",
        "\n",
        "\n",
        "print('Grid best parameter (max. F1): ', grid_clf_f1.best_params_)\n",
        "print('Grid best score F1: ', grid_clf_f1.best_score_)"
      ],
      "metadata": {
        "colab": {
          "base_uri": "https://localhost:8080/"
        },
        "id": "zRwoIEI2zbqr",
        "outputId": "117def4e-c20c-48d7-aede-4035fb498fd4"
      },
      "execution_count": 236,
      "outputs": [
        {
          "output_type": "stream",
          "name": "stdout",
          "text": [
            "Grid best parameter (max. accuracy):  {'C': 100, 'max_iter': 100, 'penalty': 'l2'}\n",
            "Grid best score (accuracy):  0.7693282636248416\n",
            "Testing set AUC:  0.8226680216437221\n",
            "Grid best parameter (max. AUC):  {'C': 1, 'max_iter': 100, 'penalty': 'l2'}\n",
            "Grid best score (AUC):  0.824443941114704\n",
            "Grid best parameter (max. F1):  {'C': 1, 'max_iter': 100, 'penalty': 'l2'}\n",
            "Grid best score F1:  0.7569255375598659\n"
          ]
        }
      ]
    },
    {
      "cell_type": "markdown",
      "source": [
        "**TUNING K NEAREST NEIGHBOURS**"
      ],
      "metadata": {
        "id": "wZRhSZq8-vHr"
      }
    },
    {
      "cell_type": "code",
      "source": [
        "from sklearn.neighbors import KNeighborsClassifier\n",
        "clf = KNeighborsClassifier()\n",
        "grid_values = {'n_neighbors': [1,2,3,4,5,6,7,8,9,10,11], \n",
        "          'p':[1, 2, 3, 4],'weights':['uniform', 'distance']}\n",
        "\n",
        "# default metric to optimize over grid parameters: accuracy\n",
        "grid_clf_acc = GridSearchCV(clf, param_grid = grid_values,cv=3)\n",
        "grid_clf_acc.fit(X_resampled, y_resampled)\n",
        "y_decision_fn_scores_auc = grid_clf_auc.predict_proba(X_test)[:, 1] \n",
        " \n",
        "\n",
        "print('Grid best parameter (max. accuracy): ', grid_clf_acc.best_params_)\n",
        "print('Grid best score (accuracy): ', grid_clf_acc.best_score_)\n",
        "\n",
        "# alternative metric to optimize over grid parameters: AUC\n",
        "grid_clf_auc = GridSearchCV(clf, param_grid = grid_values, cv=3,scoring = 'roc_auc')\n",
        "grid_clf_auc.fit(X_resampled, y_resampled)\n",
        "y_decision_fn_scores_auc = grid_clf_auc.predict_proba(X_test)[:, 1] \n",
        "\n",
        "print('test set AUC: ', roc_auc_score(y_test, y_decision_fn_scores_auc))\n",
        "print('Grid best parameter (max. AUC): ', grid_clf_auc.best_params_)\n",
        "print('Grid best score (AUC): ', grid_clf_auc.best_score_)\n",
        "\n",
        "# alternative metric to optimize over grid parameters: F-1 socore\n",
        "grid_clf_f1 = GridSearchCV(clf, param_grid = grid_values, cv=3,scoring = 'f1')\n",
        "grid_clf_f1.fit(X_resampled, y_resampled)\n",
        "y_decision_fn_scores_auc = grid_clf_auc.predict_proba(X_test)[:, 1] \n",
        "\n",
        "\n",
        "\n",
        "print('Grid best parameter (max. F1): ', grid_clf_f1.best_params_)\n",
        "print('Grid best score F1: ', grid_clf_f1.best_score_)\n"
      ],
      "metadata": {
        "colab": {
          "base_uri": "https://localhost:8080/"
        },
        "id": "FC7TCfCFzfiK",
        "outputId": "7fa6fc06-7ee7-40dd-a27b-14b9d50d371a"
      },
      "execution_count": 237,
      "outputs": [
        {
          "output_type": "stream",
          "name": "stdout",
          "text": [
            "Grid best parameter (max. accuracy):  {'n_neighbors': 10, 'p': 1, 'weights': 'uniform'}\n",
            "Grid best score (accuracy):  0.7853823405154202\n",
            "test set AUC:  0.820973363139325\n",
            "Grid best parameter (max. AUC):  {'n_neighbors': 11, 'p': 1, 'weights': 'distance'}\n",
            "Grid best score (AUC):  0.8220766849632382\n",
            "Grid best parameter (max. F1):  {'n_neighbors': 11, 'p': 3, 'weights': 'uniform'}\n",
            "Grid best score F1:  0.7581547958835179\n"
          ]
        }
      ]
    },
    {
      "cell_type": "markdown",
      "source": [
        "**TUNING DECISION TREE**"
      ],
      "metadata": {
        "id": "jdwZCz6T-3DP"
      }
    },
    {
      "cell_type": "code",
      "source": [
        "from sklearn.tree import DecisionTreeClassifier\n",
        "\n",
        "depth= np.arange(1,20,1)\n",
        "clf = DecisionTreeClassifier()\n",
        "grid_values = {'criterion':['entropy','gini'],'max_depth': depth}\n",
        "# default metric to optimize over grid parameters: accuracy\n",
        "grid_clf_acc = GridSearchCV(clf, param_grid = grid_values,cv=3)\n",
        "grid_clf_acc.fit(X_resampled, y_resampled)\n",
        "y_decision_fn_scores_auc = grid_clf_auc.predict_proba(X_test)[:, 1] \n",
        "\n",
        "\n",
        "print('Grid best parameter (max. accuracy): ', grid_clf_acc.best_params_)\n",
        "print('Grid best score (accuracy): ', grid_clf_acc.best_score_)\n",
        "\n",
        "# alternative metric to optimize over grid parameters: AUC\n",
        "grid_clf_auc = GridSearchCV(clf, param_grid = grid_values, cv=3,scoring = 'roc_auc')\n",
        "grid_clf_auc.fit(X_resampled, y_resampled)\n",
        "y_decision_fn_scores_auc = grid_clf_auc.predict_proba(X_test)[:, 1] \n",
        "\n",
        "\n",
        "print('Test set AUC: ', roc_auc_score(y_test, y_decision_fn_scores_auc))\n",
        "print('Grid best parameter (max. AUC): ', grid_clf_auc.best_params_)\n",
        "print('Grid best score (AUC): ', grid_clf_auc.best_score_)\n",
        "\n",
        "# alternative metric to optimize over grid parameters: F-1 socore\n",
        "grid_clf_f1 = GridSearchCV(clf, param_grid = grid_values, cv=3,scoring = 'f1')\n",
        "grid_clf_f1.fit(X_resampled, y_resampled)\n",
        "y_decision_fn_scores_auc = grid_clf_auc.predict_proba(X_test)[:, 1] \n",
        "\n",
        "\n",
        "\n",
        "print('Grid best parameter (max. F1): ', grid_clf_f1.best_params_)\n",
        "print('Grid best score F1: ', grid_clf_f1.best_score_)"
      ],
      "metadata": {
        "colab": {
          "base_uri": "https://localhost:8080/"
        },
        "id": "7tWEnUeezlZ5",
        "outputId": "82b8f7c9-f3fb-4764-e7ff-768c3e694e77"
      },
      "execution_count": 238,
      "outputs": [
        {
          "output_type": "stream",
          "name": "stdout",
          "text": [
            "Grid best parameter (max. accuracy):  {'criterion': 'gini', 'max_depth': 3}\n",
            "Grid best score (accuracy):  0.7976341360371779\n",
            "Test set AUC:  0.7977536328515806\n",
            "Grid best parameter (max. AUC):  {'criterion': 'entropy', 'max_depth': 3}\n",
            "Grid best score (AUC):  0.8329804670578715\n",
            "Grid best parameter (max. F1):  {'criterion': 'gini', 'max_depth': 3}\n",
            "Grid best score F1:  0.76891806306634\n"
          ]
        }
      ]
    },
    {
      "cell_type": "markdown",
      "source": [
        "**TUNING RANDOM FOREST**"
      ],
      "metadata": {
        "id": "p4jnui4O-9tU"
      }
    },
    {
      "cell_type": "code",
      "source": [
        "clf =  RandomForestClassifier()\n",
        "n_estimators = [int(x) for x in np.linspace(start = 10, stop = 40, num=20)]\n",
        "max_features = ['auto', 'sqrt']\n",
        "max_depth = [int(x) for x in np.linspace(10, 20, num = 10)]\n",
        "bootstrap = [True, False]\n",
        "random_grid = {'n_estimators': n_estimators,\n",
        "               'max_features': max_features,\n",
        "               'max_depth': max_depth,\n",
        "               'bootstrap': bootstrap}\n",
        "grid_values = random_grid\n",
        "# default metric to optimize over grid parameters: accuracy\n",
        "grid_clf_acc = GridSearchCV(clf, param_grid = grid_values,cv=3)\n",
        "grid_clf_acc.fit(X_resampled, y_resampled)\n",
        "#y_decision_fn_scores_auc = grid_clf_auc.predict_proba(X_test)[:, 1] \n",
        "\n",
        "\n",
        "print('Grid best parameter (max. accuracy): ', grid_clf_acc.best_params_)\n",
        "print('Grid best score (accuracy): ', grid_clf_acc.best_score_)\n",
        "\n",
        "# alternative metric to optimize over grid parameters: AUC\n",
        "grid_clf_auc = GridSearchCV(clf, param_grid = grid_values, cv=3,scoring = 'roc_auc')\n",
        "grid_clf_auc.fit(X_resampled, y_resampled)\n",
        "#y_decision_fn_scores_auc = grid_clf_auc.predict_proba(X_test)[:, 1] \n",
        "\n",
        "\n",
        "#print('Test set AUC: ', roc_auc_score(y_test, y_decision_fn_scores_auc))\n",
        "print('Grid best parameter (max. AUC): ', grid_clf_auc.best_params_)\n",
        "print('Grid best score (AUC): ', grid_clf_auc.best_score_)\n"
      ],
      "metadata": {
        "colab": {
          "base_uri": "https://localhost:8080/"
        },
        "id": "ttQLk9F7zrj3",
        "outputId": "3c0e78e5-3ec8-4069-f331-c7cb80247526"
      },
      "execution_count": 239,
      "outputs": [
        {
          "output_type": "stream",
          "name": "stdout",
          "text": [
            "Grid best parameter (max. accuracy):  {'bootstrap': True, 'max_depth': 10, 'max_features': 'auto', 'n_estimators': 27}\n",
            "Grid best score (accuracy):  0.7989015631601183\n",
            "Grid best parameter (max. AUC):  {'bootstrap': True, 'max_depth': 10, 'max_features': 'sqrt', 'n_estimators': 28}\n",
            "Grid best score (AUC):  0.8426775964184342\n"
          ]
        }
      ]
    },
    {
      "cell_type": "markdown",
      "source": [
        "**TUNING GRADIENT BOOSTING TREE**"
      ],
      "metadata": {
        "id": "8NInBEKI_CuW"
      }
    },
    {
      "cell_type": "code",
      "source": [
        "#'min_samples_leaf':range(100,1000,10),'max_features':range(2,16,2),\\'min_samples_split':range(1000,2000,10),\\learning rate:\n",
        "clf =  GradientBoostingClassifier()\n",
        "grid_values={'n_estimators':range(10,100,10),'max_depth':range(3,10,2),\\\n",
        "        'learning_rate':[0.001,0.01,0.1,0.2,0.3,0.4,0.5]}\n",
        "# default metric to optimize over grid parameters: accuracy\n",
        "grid_clf_acc = GridSearchCV(clf, param_grid = grid_values,cv=3)\n",
        "grid_clf_acc.fit(X_resampled, y_resampled)\n",
        "y_decision_fn_scores_auc = grid_clf_auc.predict_proba(X_test)[:, 1] \n",
        "print('Grid best parameter (max. accuracy): ', grid_clf_acc.best_params_)\n",
        "print('Grid best score (accuracy): ', grid_clf_acc.best_score_)\n",
        "# alternative metric to optimize over grid parameters: AUC\n",
        "grid_clf_auc = GridSearchCV(clf, param_grid = grid_values, cv=3,scoring = 'roc_auc')\n",
        "grid_clf_auc.fit(X_resampled, y_resampled)\n",
        "y_decision_fn_scores_auc = grid_clf_auc.predict_proba(X_test)[:, 1] \n",
        "\n",
        "\n",
        "print('Test set AUC: ', roc_auc_score(y_test, y_decision_fn_scores_auc))\n",
        "print('Grid best parameter (max. AUC): ', grid_clf_auc.best_params_)\n",
        "print('Grid best score (AUC): ', grid_clf_auc.best_score_)\n"
      ],
      "metadata": {
        "colab": {
          "base_uri": "https://localhost:8080/"
        },
        "id": "OBdupeegzuXC",
        "outputId": "57c14dea-65b0-4bb2-e68e-9c7be7cf0305"
      },
      "execution_count": 240,
      "outputs": [
        {
          "output_type": "stream",
          "name": "stdout",
          "text": [
            "Grid best parameter (max. accuracy):  {'learning_rate': 0.1, 'max_depth': 3, 'n_estimators': 20}\n",
            "Grid best score (accuracy):  0.7991128010139418\n",
            "Test set AUC:  0.8217729090862511\n",
            "Grid best parameter (max. AUC):  {'learning_rate': 0.1, 'max_depth': 3, 'n_estimators': 50}\n",
            "Grid best score (AUC):  0.8449037596054323\n"
          ]
        }
      ]
    },
    {
      "cell_type": "markdown",
      "source": [
        "# MODEL TRAINING / TESTING - AFTER HYPERPARAMETER TUNING"
      ],
      "metadata": {
        "id": "fl45Xv1B_R5G"
      }
    },
    {
      "cell_type": "markdown",
      "source": [
        "**FITTING LOGISTIC REGRESSION**"
      ],
      "metadata": {
        "id": "Uxjjq6lg_YuW"
      }
    },
    {
      "cell_type": "code",
      "source": [
        "def lr_fit(X_resampled, y_resampled,X_test,y_test):\n",
        "    lr = LogisticRegression(C=1000, max_iter= 600,penalty= 'l2')\n",
        "    clf = lr.fit(X_resampled, y_resampled)\n",
        "    clf_predicted = clf.predict(X_test)\n",
        "    ConfusionMatrix_Report(y_test=y_test,y_predicted=clf_predicted)\n",
        "    y_score_lr = lr.decision_function(X_test)\n",
        "    ROC_decison_function(y_test, y_score=y_score_lr)\n",
        "    X_resampled=pd.DataFrame(X_resampled,columns=cols)\n",
        "    print(\"no inverse scaled coefficient for lr:\",clf.coef_)\n",
        "    feature_importance = abs(clf.coef_[0])\n",
        "    feature_importance = 100.0 * (feature_importance / feature_importance.max())\n",
        "    sorted_idx = np.argsort(feature_importance)\n",
        "    pos = np.arange(sorted_idx.shape[0]) + .5\n",
        "    featfig = plt.figure()\n",
        "    featax = featfig.add_subplot(1, 1, 1)\n",
        "    featax.barh(pos, feature_importance[sorted_idx], align='center')\n",
        "    featax.set_yticks(pos)\n",
        "    featax.set_yticklabels(np.array(X_resampled.columns)[sorted_idx], fontsize=8)\n",
        "    featax.set_xlabel('Relative Feature Importance')\n",
        "    plt.tight_layout()   \n",
        "    plt.show()"
      ],
      "metadata": {
        "id": "4iXMfRhIzvM7"
      },
      "execution_count": 241,
      "outputs": []
    },
    {
      "cell_type": "code",
      "source": [
        "lr_fit(X_resampled, y_resampled,X_test,y_test)"
      ],
      "metadata": {
        "colab": {
          "base_uri": "https://localhost:8080/",
          "height": 564
        },
        "id": "YLPmsdN0z0UA",
        "outputId": "b919c94a-5ca3-411c-d7a4-7cfc765add67"
      },
      "execution_count": 242,
      "outputs": [
        {
          "output_type": "stream",
          "name": "stdout",
          "text": [
            "---Confusion Matrix---\n",
            " [[11605 25524]\n",
            " [   93   932]]\n",
            "\n",
            "   Accuracy: 0.33\n",
            "\n",
            "   Precision: 0.04\n",
            "\n",
            "   Recall: 0.91\n",
            "\n",
            "   F1: 0.07\n",
            "---Classification Report---\n",
            "\n",
            "   \n",
            "               precision    recall  f1-score   support\n",
            "\n",
            "       not 1       0.99      0.31      0.48     37129\n",
            "           1       0.04      0.91      0.07      1025\n",
            "\n",
            "    accuracy                           0.33     38154\n",
            "   macro avg       0.51      0.61      0.27     38154\n",
            "weighted avg       0.97      0.33      0.46     38154\n",
            "\n",
            "Metric \n",
            " 0.91  0.07  0.04  0.33\n",
            " 0.82\n"
          ]
        },
        {
          "output_type": "display_data",
          "data": {
            "image/png": "[encoded data removed]",
            "text/plain": [
              "<Figure size 432x288 with 1 Axes>"
            ]
          },
          "metadata": {
            "needs_background": "light"
          }
        },
        {
          "output_type": "stream",
          "name": "stdout",
          "text": [
            "no inverse scaled coefficient for lr: [[ 8.60979648  5.57540235  0.91958582 11.8550357  -3.56706082  0.18685637\n",
            "  -1.47664795  1.12588521  5.42786748 -0.61850105  0.79569399 -3.4739576\n",
            "   1.58958653  5.39135055 -0.45381815 -1.28483193]]\n"
          ]
        },
        {
          "output_type": "display_data",
          "data": {
            "image/png": "[encoded data removed]",
            "text/plain": [
              "<Figure size 432x288 with 1 Axes>"
            ]
          },
          "metadata": {
            "needs_background": "light"
          }
        }
      ]
    },
    {
      "cell_type": "markdown",
      "source": [
        "**FITTING K NEAREST NEIGHBOURS**"
      ],
      "metadata": {
        "id": "bymnuRJQ_wBC"
      }
    },
    {
      "cell_type": "code",
      "source": [
        "def knn_fit(X_resampled, y_resampled,X_test,y_test):\n",
        "    knn = KNeighborsClassifier(n_neighbors = 11,p=2,weights='distance')\n",
        "    clf = knn.fit(X_resampled, y_resampled)\n",
        "    clf_predicted = clf.predict(X_test)\n",
        "    ConfusionMatrix_Report(y_test=y_test,y_predicted=clf_predicted)\n",
        "    ROC_No_decision_function(y_test, clf_predicted)"
      ],
      "metadata": {
        "id": "7jaY6VR9z4xQ"
      },
      "execution_count": 243,
      "outputs": []
    },
    {
      "cell_type": "code",
      "source": [
        "knn_fit(X_resampled, y_resampled,X_test,y_test)"
      ],
      "metadata": {
        "colab": {
          "base_uri": "https://localhost:8080/",
          "height": 496
        },
        "id": "eJZoQNwmz7B7",
        "outputId": "c32dfbb6-3485-4a1c-d16c-ae7d69a8de73"
      },
      "execution_count": 244,
      "outputs": [
        {
          "output_type": "stream",
          "name": "stdout",
          "text": [
            "---Confusion Matrix---\n",
            " [[32131  4998]\n",
            " [  309   716]]\n",
            "\n",
            "   Accuracy: 0.86\n",
            "\n",
            "   Precision: 0.13\n",
            "\n",
            "   Recall: 0.70\n",
            "\n",
            "   F1: 0.21\n",
            "---Classification Report---\n",
            "\n",
            "   \n",
            "               precision    recall  f1-score   support\n",
            "\n",
            "       not 1       0.99      0.87      0.92     37129\n",
            "           1       0.13      0.70      0.21      1025\n",
            "\n",
            "    accuracy                           0.86     38154\n",
            "   macro avg       0.56      0.78      0.57     38154\n",
            "weighted avg       0.97      0.86      0.90     38154\n",
            "\n",
            "Metric \n",
            " 0.70  0.21  0.13  0.86\n",
            " 0.78\n"
          ]
        },
        {
          "output_type": "display_data",
          "data": {
            "image/png": "[encoded data removed]",
            "text/plain": [
              "<Figure size 432x288 with 1 Axes>"
            ]
          },
          "metadata": {
            "needs_background": "light"
          }
        }
      ]
    },
    {
      "cell_type": "markdown",
      "source": [
        "**FITTING DECISION TREE**"
      ],
      "metadata": {
        "id": "3Iyh6JsS_2Oa"
      }
    },
    {
      "cell_type": "code",
      "source": [
        "def dt_fit(X_resampled, y_resampled,X_test,y_test):\n",
        "    dt = DecisionTreeClassifier(criterion='gini', max_depth=6)\n",
        "    clf = dt.fit(X_resampled, y_resampled)\n",
        "    clf_predicted = clf.predict(X_test)\n",
        "    y_score = clf.predict_proba(X_test)[:, 1]\n",
        "    ConfusionMatrix_Report(y_test=y_test,y_predicted=clf_predicted)\n",
        "    ROC_decison_function(y_test, y_score)\n",
        "    print(\"feature importance for dt:\",clf.feature_importances_)\n",
        "    feature_importance=clf.feature_importances_\n",
        "    sorted_idx = np.argsort(feature_importance)\n",
        "    pos = np.arange(sorted_idx.shape[0]) + .5\n",
        "    featfig = plt.figure()\n",
        "    featax = featfig.add_subplot(1, 1, 1)\n",
        "    featax.barh(pos, feature_importance[sorted_idx], align='center')\n",
        "    featax.set_yticks(pos)\n",
        "    X_resampled=pd.DataFrame(X_resampled,columns=cols)\n",
        "    featax.set_yticklabels(np.array(X_resampled.columns)[sorted_idx], fontsize=8)\n",
        "    featax.set_xlabel('Relative Feature Importance')\n",
        "    plt.tight_layout()   \n",
        "    plt.show()"
      ],
      "metadata": {
        "id": "xiMF3rNvz-A0"
      },
      "execution_count": 245,
      "outputs": []
    },
    {
      "cell_type": "code",
      "source": [
        "dt_fit(X_resampled, y_resampled,X_test,y_test)"
      ],
      "metadata": {
        "colab": {
          "base_uri": "https://localhost:8080/",
          "height": 564
        },
        "id": "asyQ6Vh10AUc",
        "outputId": "42efd6de-680e-4171-9546-645947d95e97"
      },
      "execution_count": 246,
      "outputs": [
        {
          "output_type": "stream",
          "name": "stdout",
          "text": [
            "---Confusion Matrix---\n",
            " [[23660 13469]\n",
            " [  247   778]]\n",
            "\n",
            "   Accuracy: 0.64\n",
            "\n",
            "   Precision: 0.05\n",
            "\n",
            "   Recall: 0.76\n",
            "\n",
            "   F1: 0.10\n",
            "---Classification Report---\n",
            "\n",
            "   \n",
            "               precision    recall  f1-score   support\n",
            "\n",
            "       not 1       0.99      0.64      0.78     37129\n",
            "           1       0.05      0.76      0.10      1025\n",
            "\n",
            "    accuracy                           0.64     38154\n",
            "   macro avg       0.52      0.70      0.44     38154\n",
            "weighted avg       0.96      0.64      0.76     38154\n",
            "\n",
            "Metric \n",
            " 0.76  0.10  0.05  0.64\n",
            " 0.70\n"
          ]
        },
        {
          "output_type": "display_data",
          "data": {
            "image/png": "[encoded data removed]",
            "text/plain": [
              "<Figure size 432x288 with 1 Axes>"
            ]
          },
          "metadata": {
            "needs_background": "light"
          }
        },
        {
          "output_type": "stream",
          "name": "stdout",
          "text": [
            "feature importance for dt: [0.01881849 0.02339624 0.49603378 0.03738466 0.01849979 0.01105817\n",
            " 0.00657845 0.0052793  0.01526257 0.00722522 0.0094407  0.01297154\n",
            " 0.33408742 0.00396366 0.         0.        ]\n"
          ]
        },
        {
          "output_type": "display_data",
          "data": {
            "image/png": "[encoded data removed]",
            "text/plain": [
              "<Figure size 432x288 with 1 Axes>"
            ]
          },
          "metadata": {
            "needs_background": "light"
          }
        }
      ]
    },
    {
      "cell_type": "markdown",
      "source": [
        "**FITTING RANDOM FOREST**"
      ],
      "metadata": {
        "id": "rT_lzBI8_7fd"
      }
    },
    {
      "cell_type": "code",
      "source": [
        "def forest_fit(X_resampled, y_resampled,X_test,y_test):\n",
        "    forest = RandomForestClassifier(bootstrap= True, max_depth=10, max_features='sqrt', n_estimators=35,n_jobs=-1)\n",
        "    clf = forest.fit(X_resampled, y_resampled)\n",
        "    clf_predicted = clf.predict(X_test)\n",
        "    y_score = clf.predict_proba(X_test)[:, 1]\n",
        "    ConfusionMatrix_Report(y_test=y_test,y_predicted=clf_predicted)\n",
        "    ROC_decison_function(y_test, y_score)"
      ],
      "metadata": {
        "id": "3qu7Ge9S0FO5"
      },
      "execution_count": 247,
      "outputs": []
    },
    {
      "cell_type": "code",
      "source": [
        "forest_fit(X_resampled, y_resampled,X_test,y_test)"
      ],
      "metadata": {
        "colab": {
          "base_uri": "https://localhost:8080/",
          "height": 496
        },
        "id": "IyC7YbjB0HuG",
        "outputId": "fadb56ce-9fc6-403c-e4a6-f82056bcbbde"
      },
      "execution_count": 248,
      "outputs": [
        {
          "output_type": "stream",
          "name": "stdout",
          "text": [
            "---Confusion Matrix---\n",
            " [[21549 15580]\n",
            " [  197   828]]\n",
            "\n",
            "   Accuracy: 0.59\n",
            "\n",
            "   Precision: 0.05\n",
            "\n",
            "   Recall: 0.81\n",
            "\n",
            "   F1: 0.09\n",
            "---Classification Report---\n",
            "\n",
            "   \n",
            "               precision    recall  f1-score   support\n",
            "\n",
            "       not 1       0.99      0.58      0.73     37129\n",
            "           1       0.05      0.81      0.09      1025\n",
            "\n",
            "    accuracy                           0.59     38154\n",
            "   macro avg       0.52      0.69      0.41     38154\n",
            "weighted avg       0.97      0.59      0.71     38154\n",
            "\n",
            "Metric \n",
            " 0.81  0.09  0.05  0.59\n",
            " 0.82\n"
          ]
        },
        {
          "output_type": "display_data",
          "data": {
            "image/png": "[encoded data removed]",
            "text/plain": [
              "<Figure size 432x288 with 1 Axes>"
            ]
          },
          "metadata": {
            "needs_background": "light"
          }
        }
      ]
    },
    {
      "cell_type": "markdown",
      "source": [
        "**FITTING GRADIENT BOOSTING TREE**"
      ],
      "metadata": {
        "id": "cE2bDF1wABzE"
      }
    },
    {
      "cell_type": "code",
      "source": [
        "from sklearn.ensemble import GradientBoostingClassifier\n",
        "clf = GradientBoostingClassifier(learning_rate=0.2, max_depth=3, n_estimators=60).fit(X_resampled, y_resampled)\n",
        "clf_predicted = clf.predict(X_test)\n",
        "y_score = clf.predict_proba(X_test)[:, 1]\n",
        "ConfusionMatrix_Report(y_test=y_test,y_predicted=clf_predicted)\n",
        "ROC_decison_function(y_test, y_score)"
      ],
      "metadata": {
        "colab": {
          "base_uri": "https://localhost:8080/",
          "height": 496
        },
        "id": "1em1Y_xL0KW5",
        "outputId": "8925938f-a4eb-49ee-e90f-5afd011cd3dd"
      },
      "execution_count": 249,
      "outputs": [
        {
          "output_type": "stream",
          "name": "stdout",
          "text": [
            "---Confusion Matrix---\n",
            " [[23123 14006]\n",
            " [  217   808]]\n",
            "\n",
            "   Accuracy: 0.63\n",
            "\n",
            "   Precision: 0.05\n",
            "\n",
            "   Recall: 0.79\n",
            "\n",
            "   F1: 0.10\n",
            "---Classification Report---\n",
            "\n",
            "   \n",
            "               precision    recall  f1-score   support\n",
            "\n",
            "       not 1       0.99      0.62      0.76     37129\n",
            "           1       0.05      0.79      0.10      1025\n",
            "\n",
            "    accuracy                           0.63     38154\n",
            "   macro avg       0.52      0.71      0.43     38154\n",
            "weighted avg       0.97      0.63      0.75     38154\n",
            "\n",
            "Metric \n",
            " 0.79  0.10  0.05  0.63\n",
            " 0.81\n"
          ]
        },
        {
          "output_type": "display_data",
          "data": {
            "image/png": "[encoded data removed]",
            "text/plain": [
              "<Figure size 432x288 with 1 Axes>"
            ]
          },
          "metadata": {
            "needs_background": "light"
          }
        }
      ]
    },
    {
      "cell_type": "code",
      "source": [
        "def feature_importances_(self):\n",
        "    total_sum = np.zeros((self.n_features, ), dtype=np.float64)\n",
        "    for tree in self.estimators_:\n",
        "        total_sum += tree.feature_importances_ \n",
        "    importances = total_sum / len(self.estimators_)\n",
        "    return importances"
      ],
      "metadata": {
        "id": "uAJ5rcDc0Na1"
      },
      "execution_count": 250,
      "outputs": []
    },
    {
      "cell_type": "code",
      "source": [
        "clf = GradientBoostingClassifier(learning_rate=0.2, max_depth=3, n_estimators=60).fit(X_resampled, y_resampled)\n",
        "clf_predicted = clf.predict(X_test)\n",
        "y_score = clf.predict_proba(X_test)[:, 1]\n",
        "importances = clf.feature_importances_\n",
        "\n",
        "indices = np.argsort(importances)[::-1]\n",
        "X_resampled= pd.DataFrame(X_resampled)\n",
        "X_resampled.columns=cols\n",
        "feat_labels=X_resampled.columns\n",
        "for f in range(X_test.shape[1]):\n",
        "    print(\"%2d) %-*s %f\" % (f + 1, 17, \n",
        "                            feat_labels[indices[f]], \n",
        "                            importances[indices[f]]))\n",
        "plt.figure(figsize=(8,8), facecolor='white')\n",
        "plt.title('Feature Importances')\n",
        "plt.bar(range(X_resampled.shape[1]), \n",
        "        importances[indices],\n",
        "        color='dodgerblue', \n",
        "        align='center')\n",
        "\n",
        "plt.xticks(range(X_resampled.shape[1]), \n",
        "           feat_labels[indices], rotation=90)\n",
        "plt.xlim([-1, X_resampled.shape[1]])\n",
        "plt.tight_layout()\n",
        "plt.show()\n",
        "plt.savefig(\"Feature_Important_GB\")"
      ],
      "metadata": {
        "colab": {
          "base_uri": "https://localhost:8080/",
          "height": 343
        },
        "id": "-OSL2iok0RTz",
        "outputId": "85f8a3e9-a6bd-406f-9480-c7c6ceea1320"
      },
      "execution_count": 251,
      "outputs": [
        {
          "output_type": "stream",
          "name": "stdout",
          "text": [
            " 1) BPAssessment      0.456419\n",
            " 2) DMAssessment      0.293025\n",
            " 3) GLU               0.056171\n",
            " 4) DBP               0.030659\n",
            " 5) BMI               0.028314\n",
            " 6) SBP               0.028256\n",
            " 7) AST               0.020684\n",
            " 8) Age               0.018476\n",
            " 9) TCHOL             0.012897\n",
            "10) METS_Risks        0.010457\n",
            "11) WEIGHT            0.010335\n",
            "12) TGS               0.010002\n",
            "13) ALT               0.008747\n",
            "14) LDL               0.007919\n",
            "15) AbdominalCir      0.007363\n",
            "16) DiabetesStatusUsingGlucose 0.000275\n"
          ]
        },
        {
          "output_type": "display_data",
          "data": {
            "image/png": "[encoded data removed]",
            "text/plain": [
              "<Figure size 576x576 with 1 Axes>"
            ]
          },
          "metadata": {}
        },
        {
          "output_type": "display_data",
          "data": {
            "text/plain": [
              "<Figure size 432x288 with 0 Axes>"
            ]
          },
          "metadata": {}
        }
      ]
    },
    {
      "cell_type": "markdown",
      "source": [
        "**FITTING SUPPORT VECTOR MACHINE**"
      ],
      "metadata": {
        "id": "kHI9oLQfAVNI"
      }
    },
    {
      "cell_type": "code",
      "source": [
        "def svm_rbf_fit(X_resampled, y_resampled,X_test,y_test):\n",
        "    svm_rbf = SVC(kernel='rbf', C=10,gamma=1,probability=True)\n",
        "    clf = svm_rbf.fit(X_resampled, y_resampled)\n",
        "    clf_predicted = clf.predict(X_test)\n",
        "    ConfusionMatrix_Report(y_test=y_test,y_predicted=clf_predicted)\n",
        "    y_score = svm_rbf.decision_function(X_test)\n",
        "    ROC_decison_function(y_test, y_score)"
      ],
      "metadata": {
        "id": "PEV0Ye_w0UEw"
      },
      "execution_count": 252,
      "outputs": []
    },
    {
      "cell_type": "code",
      "source": [
        "svm_rbf_fit(X_resampled, y_resampled,X_test,y_test)"
      ],
      "metadata": {
        "colab": {
          "base_uri": "https://localhost:8080/",
          "height": 496
        },
        "id": "usL021nW0V1u",
        "outputId": "1b3c40d0-3d7a-4009-8da6-a2a8aab3883d"
      },
      "execution_count": 253,
      "outputs": [
        {
          "output_type": "stream",
          "name": "stdout",
          "text": [
            "---Confusion Matrix---\n",
            " [[33691  3438]\n",
            " [  329   696]]\n",
            "\n",
            "   Accuracy: 0.90\n",
            "\n",
            "   Precision: 0.17\n",
            "\n",
            "   Recall: 0.68\n",
            "\n",
            "   F1: 0.27\n",
            "---Classification Report---\n",
            "\n",
            "   \n",
            "               precision    recall  f1-score   support\n",
            "\n",
            "       not 1       0.99      0.91      0.95     37129\n",
            "           1       0.17      0.68      0.27      1025\n",
            "\n",
            "    accuracy                           0.90     38154\n",
            "   macro avg       0.58      0.79      0.61     38154\n",
            "weighted avg       0.97      0.90      0.93     38154\n",
            "\n",
            "Metric \n",
            " 0.68  0.27  0.17  0.90\n",
            " 0.83\n"
          ]
        },
        {
          "output_type": "display_data",
          "data": {
            "image/png": "[encoded data removed]",
            "text/plain": [
              "<Figure size 432x288 with 1 Axes>"
            ]
          },
          "metadata": {
            "needs_background": "light"
          }
        }
      ]
    },
    {
      "cell_type": "markdown",
      "source": [
        "# MODEL EVALUATION"
      ],
      "metadata": {
        "id": "srnzLwcVAasR"
      }
    },
    {
      "cell_type": "markdown",
      "source": [
        "**COMBINING ROC CURVE TO MAKE EVALUATIONt**"
      ],
      "metadata": {
        "id": "nMfXYtd6AfbK"
      }
    },
    {
      "cell_type": "code",
      "source": [
        "#lr\n",
        "lr = LogisticRegression(C=1000, max_iter= 600,penalty= 'l2')\n",
        "clf_lr = lr.fit(X_resampled, y_resampled)\n",
        "clf_predicted_lr = clf_lr.predict(X_test)\n",
        "y_score_lr = lr.decision_function(X_test)\n",
        "fpr_lr, tpr_lr, _ = roc_curve(y_test, y_score_lr)\n",
        "roc_auc_lr = auc(fpr_lr, tpr_lr)\n",
        "#dt\n",
        "dt = DecisionTreeClassifier(criterion='gini', max_depth=6)\n",
        "clf_dt = dt.fit(X_resampled, y_resampled)\n",
        "clf_predicted_dt = clf_dt.predict(X_test)\n",
        "y_score_dt = clf_dt.predict_proba(X_test)[:, 1]\n",
        "fpr_dt, tpr_dt, _ = roc_curve(y_test, y_score_dt)\n",
        "roc_auc_dt = auc(fpr_dt, tpr_dt)\n",
        "#rf\n",
        "forest = RandomForestClassifier(bootstrap= True, max_depth=10, max_features='sqrt', n_estimators=35,n_jobs=-1)\n",
        "clf_rf = forest.fit(X_resampled, y_resampled)\n",
        "clf_predicted_rf = clf_rf.predict(X_test)\n",
        "y_score_rf= clf_rf.predict_proba(X_test)[:, 1]\n",
        "fpr_rf, tpr_rf, _ = roc_curve(y_test, y_score_rf)\n",
        "roc_auc_rf = auc(fpr_rf, tpr_rf)\n",
        "# gb\n",
        "clf_gb = GradientBoostingClassifier(learning_rate=0.2, max_depth=3, n_estimators=60).fit(X_resampled, y_resampled)\n",
        "clf_predicted_gb = clf_gb.predict(X_test)\n",
        "y_score_gb = clf_gb.predict_proba(X_test)[:, 1]\n",
        "fpr_gb, tpr_gb, _ = roc_curve(y_test, y_score_gb)\n",
        "roc_auc_gb = auc(fpr_gb, tpr_gb)\n",
        "#svm\n",
        "svm_rbf = SVC(kernel='rbf', C=10,gamma=1,probability=True)\n",
        "clf_svm = svm_rbf.fit(X_resampled, y_resampled)\n",
        "clf_predicted_svm = clf_svm.predict(X_test)\n",
        "y_score_svm = svm_rbf.decision_function(X_test)\n",
        "fpr_svm, tpr_svm, _ = roc_curve(y_test, y_score_svm)\n",
        "roc_auc_svm = auc(fpr_svm, tpr_svm)\n",
        "#knn\n",
        "knn = KNeighborsClassifier(n_neighbors = 11,p=2,weights='distance')\n",
        "clf_knn = knn.fit(X_resampled, y_resampled)\n",
        "clf_predicted_knn = clf_knn.predict(X_test)\n",
        "false_positive_rate_knn,true_positive_rate_knn,thresholds=roc_curve(y_test,clf_predicted_knn)\n",
        "roc_auc_knn=auc(false_positive_rate_knn, true_positive_rate_knn)\n",
        "#nb\n",
        "nb = GaussianNB()\n",
        "clf_nb = nb.fit(X_resampled, y_resampled)\n",
        "clf_predicted_nb = clf_nb.predict(X_test)\n",
        "y_score_nb = clf_nb.predict_proba(X_test)[:, 1]\n",
        "fpr_nb, tpr_nb, _ = roc_curve(y_test, y_score_nb)\n",
        "roc_auc_nb = auc(fpr_nb, tpr_nb)\n",
        "\n",
        "plt.figure(figsize=(10,12))\n",
        "plt.xlim([-0.01, 1.00])\n",
        "plt.ylim([-0.01, 1.01])\n",
        "plt.plot(fpr_lr, tpr_lr, lw=4, color='tomato',linestyle='-',label='(LR AUC = {:0.2f})'.format(roc_auc_lr))\n",
        "plt.plot(fpr_dt, tpr_dt, lw=5,color='mediumpurple',linestyle=':',label='(DT AUC = {:0.2f})'.format(roc_auc_dt))\n",
        "plt.plot(fpr_rf, tpr_rf, lw=5,color='aquamarine',linestyle='-.',label='(RF AUC = {:0.2f})'.format(roc_auc_rf))\n",
        "plt.plot(fpr_gb, tpr_gb, lw=6,color='darkmagenta',linestyle=':',label='(GB AUC = {:0.2f})'.format(roc_auc_gb))\n",
        "plt.plot(fpr_svm, tpr_svm, lw=3,color='yellow',linestyle='-.',label='(SVM AUC = {:0.2f})'.format(roc_auc_svm))\n",
        "plt.plot(false_positive_rate_knn,true_positive_rate_knn, linestyle='-',lw=2,color='lightpink',label='(KNN AUC = {:0.2f})'.format(roc_auc_knn))\n",
        "plt.plot(fpr_nb, tpr_nb, lw=4,color='cornflowerblue',linestyle=':',label='(NB AUC = {:0.2f})'.format(roc_auc_nb))\n",
        "plt.xlabel('False Positive Rate', fontsize=16)\n",
        "plt.ylabel('True Positive Rate', fontsize=16)\n",
        "plt.title('ROC curve ', fontsize=16)\n",
        "plt.legend(loc='right', fontsize=13)\n",
        "plt.plot([0, 1], [0, 1], color='firebrick', lw=3, linestyle='--')\n",
        "plt.axes().set_aspect('equal')\n",
        "plt.show()\n",
        "plt.savefig('AUC_Optimized_1.png')\n"
      ],
      "metadata": {
        "colab": {
          "base_uri": "https://localhost:8080/",
          "height": 71
        },
        "id": "x8NXpnsn0d0c",
        "outputId": "aa6d8829-ea6d-4e2d-a8ac-b7a184158ee4"
      },
      "execution_count": 254,
      "outputs": [
        {
          "output_type": "display_data",
          "data": {
            "image/png": "[encoded data removed]",
            "text/plain": [
              "<Figure size 720x864 with 1 Axes>"
            ]
          },
          "metadata": {
            "needs_background": "light"
          }
        },
        {
          "output_type": "display_data",
          "data": {
            "text/plain": [
              "<Figure size 432x288 with 0 Axes>"
            ]
          },
          "metadata": {}
        }
      ]
    }
  ],
  "metadata": {
    "kernelspec": {
      "display_name": "Python 3",
      "language": "python",
      "name": "python3"
    },
    "language_info": {
      "codemirror_mode": {
        "name": "ipython",
        "version": 3
      },
      "file_extension": ".py",
      "mimetype": "text/x-python",
      "name": "python",
      "nbconvert_exporter": "python",
      "pygments_lexer": "ipython3",
      "version": "3.7.1"
    },
    "colab": {
      "name": "Entire ML Pipeline.ipynb",
      "provenance": []
    }
  },
  "nbformat": 4,
  "nbformat_minor": 0
}