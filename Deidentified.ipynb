{
 "cells": [
  {
   "cell_type": "code",
   "execution_count": 13,
   "metadata": {},
   "outputs": [],
   "source": [
    "import numpy as np\n",
    "import pandas as pd\n",
    "# disable warning message\n",
    "import sys\n",
    "import warnings\n",
    "\n",
    "if not sys.warnoptions:\n",
    "    warnings.simplefilter(\"ignore\")"
   ]
  },
  {
   "cell_type": "code",
   "execution_count": 14,
   "metadata": {},
   "outputs": [],
   "source": [
    "data_2016= pd.read_csv('/Users/jingmeiyang/working_project/2018data/raw_data/Patient/2012-2016_Health_Evals.csv')\n",
    "data_2017= pd.read_csv('/Users/jingmeiyang/working_project/2018data/raw_data/Patient/2017_Health_Evals.csv')\n",
    "data_2018= pd.read_csv('/Users/jingmeiyang/working_project/2018data/raw_data/Patient/2018_Health_Evals (1).csv')"
   ]
  },
  {
   "cell_type": "code",
   "execution_count": 15,
   "metadata": {},
   "outputs": [],
   "source": [
    "data=pd.concat([data_2016, data_2017, data_2018],sort=False)"
   ]
  },
  {
   "cell_type": "code",
   "execution_count": 16,
   "metadata": {},
   "outputs": [],
   "source": [
    "#data.head()"
   ]
  },
  {
   "cell_type": "code",
   "execution_count": 17,
   "metadata": {},
   "outputs": [],
   "source": [
    "df_temp1=data\n",
    "dicts = {}\n",
    "num_keys = range(len(df_temp1[\"PatientID\"].unique()))\n",
    "values =list(df_temp1[\"PatientID\"].unique())\n",
    "for i in num_keys:\n",
    "    #print(values[i])\n",
    "    dicts[i] = values[i]\n",
    "inv_map = {v: k for k, v in dicts.items()}\n",
    "df_temp1[\"PatientID\"]=df_temp1[\"PatientID\"].map(inv_map)"
   ]
  },
  {
   "cell_type": "code",
   "execution_count": 18,
   "metadata": {},
   "outputs": [],
   "source": [
    "#df_temp1.head()"
   ]
  },
  {
   "cell_type": "code",
   "execution_count": 12,
   "metadata": {},
   "outputs": [
    {
     "data": {
      "text/plain": [
       "(451426, 73)"
      ]
     },
     "execution_count": 12,
     "metadata": {},
     "output_type": "execute_result"
    }
   ],
   "source": [
    "df_temp1.shape"
   ]
  },
  {
   "cell_type": "code",
   "execution_count": 11,
   "metadata": {},
   "outputs": [],
   "source": [
    "df_temp1.to_csv(\"CH.csv\",index=False)"
   ]
  }
 ],
 "metadata": {
  "kernelspec": {
   "display_name": "Python 3",
   "language": "python",
   "name": "python3"
  },
  "language_info": {
   "codemirror_mode": {
    "name": "ipython",
    "version": 3
   },
   "file_extension": ".py",
   "mimetype": "text/x-python",
   "name": "python",
   "nbconvert_exporter": "python",
   "pygments_lexer": "ipython3",
   "version": "3.7.1"
  }
 },
 "nbformat": 4,
 "nbformat_minor": 2
}
