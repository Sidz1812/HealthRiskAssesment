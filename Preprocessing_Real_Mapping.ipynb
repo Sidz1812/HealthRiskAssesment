{
 "cells": [
  {
   "cell_type": "code",
   "execution_count": 1,
   "metadata": {},
   "outputs": [],
   "source": [
    "#import library \n",
    "import numpy as np\n",
    "import pandas as pd"
   ]
  },
  {
   "cell_type": "code",
   "execution_count": 2,
   "metadata": {
    "scrolled": true
   },
   "outputs": [
    {
     "name": "stderr",
     "output_type": "stream",
     "text": [
      "/Users/jingmeiyang/anaconda3/lib/python3.7/site-packages/IPython/core/interactiveshell.py:3020: DtypeWarning: Columns (22) have mixed types. Specify dtype option on import or set low_memory=False.\n",
      "  interactivity=interactivity, compiler=compiler, result=result)\n"
     ]
    }
   ],
   "source": [
    "#read dataset 1\n",
    "data_2018= pd.read_csv('~/working_project/2018data/raw_data/deidentified/PID/2018_deidentified.csv')"
   ]
  },
  {
   "cell_type": "code",
   "execution_count": 4,
   "metadata": {},
   "outputs": [
    {
     "name": "stdout",
     "output_type": "stream",
     "text": [
      "NO     127328\n",
      "YES      7692\n",
      "Name: HighRisk, dtype: int64\n",
      "NO     134534\n",
      "YES       486\n",
      "Name: EmergencyReferral, dtype: int64\n"
     ]
    }
   ],
   "source": [
    "#check the lable info\n",
    "print(data_2018['HighRisk'].value_counts())\n",
    "print(data_2018['EmergencyReferral'].value_counts())"
   ]
  },
  {
   "cell_type": "code",
   "execution_count": 5,
   "metadata": {},
   "outputs": [],
   "source": [
    "#read dataset 2\n",
    "data_2017= pd.read_csv('~/working_project/2018data/raw_data/deidentified/PID/2017_deidentified.csv')"
   ]
  },
  {
   "cell_type": "code",
   "execution_count": 6,
   "metadata": {},
   "outputs": [
    {
     "name": "stdout",
     "output_type": "stream",
     "text": [
      "NO     73925\n",
      "YES     2765\n",
      "Name: HighRisk, dtype: int64\n",
      "NO     76585\n",
      "YES      105\n",
      "Name: EmergencyReferral, dtype: int64\n"
     ]
    }
   ],
   "source": [
    "#check the lable info\n",
    "print(data_2017['HighRisk'].value_counts())\n",
    "print(data_2017['EmergencyReferral'].value_counts())"
   ]
  },
  {
   "cell_type": "code",
   "execution_count": 7,
   "metadata": {},
   "outputs": [
    {
     "name": "stderr",
     "output_type": "stream",
     "text": [
      "/Users/jingmeiyang/anaconda3/lib/python3.7/site-packages/IPython/core/interactiveshell.py:3020: DtypeWarning: Columns (22,63,64,65,66,67,68) have mixed types. Specify dtype option on import or set low_memory=False.\n",
      "  interactivity=interactivity, compiler=compiler, result=result)\n"
     ]
    }
   ],
   "source": [
    "#read dataset 3\n",
    "data_2016= pd.read_csv('~/working_project/2018data/raw_data/deidentified/PID/2016_deidentified.csv')"
   ]
  },
  {
   "cell_type": "code",
   "execution_count": 8,
   "metadata": {},
   "outputs": [
    {
     "name": "stdout",
     "output_type": "stream",
     "text": [
      "NO     223987\n",
      "YES     11651\n",
      "Name: HighRisk, dtype: int64\n",
      "NO     235134\n",
      "YES       302\n",
      "Name: EmergencyReferral, dtype: int64\n"
     ]
    }
   ],
   "source": [
    "#check the lable info\n",
    "print(data_2016['HighRisk'].value_counts())\n",
    "print(data_2016['EmergencyReferral'].value_counts())"
   ]
  },
  {
   "cell_type": "code",
   "execution_count": 9,
   "metadata": {},
   "outputs": [
    {
     "name": "stdout",
     "output_type": "stream",
     "text": [
      "(137118, 69)\n",
      "(77149, 69)\n",
      "(237159, 69)\n"
     ]
    }
   ],
   "source": [
    "#check how many rows * columns\n",
    "print(data_2018.shape)\n",
    "print(data_2017.shape)\n",
    "print(data_2016.shape)"
   ]
  },
  {
   "cell_type": "markdown",
   "metadata": {},
   "source": [
    "# Combine the dataset together as a dataframe"
   ]
  },
  {
   "cell_type": "code",
   "execution_count": 10,
   "metadata": {},
   "outputs": [],
   "source": [
    "data=pd.concat([data_2018, data_2017,data_2016],sort=False)"
   ]
  },
  {
   "cell_type": "code",
   "execution_count": 11,
   "metadata": {},
   "outputs": [],
   "source": [
    "#check data whether is correctly combined together\n",
    "#data.head()"
   ]
  },
  {
   "cell_type": "markdown",
   "metadata": {},
   "source": [
    "# Total Number of Records"
   ]
  },
  {
   "cell_type": "code",
   "execution_count": 12,
   "metadata": {},
   "outputs": [
    {
     "data": {
      "text/plain": [
       "(451426, 69)"
      ]
     },
     "execution_count": 12,
     "metadata": {},
     "output_type": "execute_result"
    }
   ],
   "source": [
    "data.shape"
   ]
  },
  {
   "cell_type": "code",
   "execution_count": 13,
   "metadata": {},
   "outputs": [
    {
     "data": {
      "text/plain": [
       "EmergencyReferral    4280\n",
       "HighRisk             4078\n",
       "dtype: int64"
      ]
     },
     "execution_count": 13,
     "metadata": {},
     "output_type": "execute_result"
    }
   ],
   "source": [
    "#remove all the missing value in Highrisk\n",
    "\n",
    "data[['EmergencyReferral','HighRisk']].isnull().sum()"
   ]
  },
  {
   "cell_type": "markdown",
   "metadata": {},
   "source": [
    "# Number of Unique Patient ID"
   ]
  },
  {
   "cell_type": "code",
   "execution_count": 14,
   "metadata": {},
   "outputs": [
    {
     "name": "stdout",
     "output_type": "stream",
     "text": [
      "The number of unique patient is \n"
     ]
    },
    {
     "data": {
      "text/plain": [
       "284668"
      ]
     },
     "execution_count": 14,
     "metadata": {},
     "output_type": "execute_result"
    }
   ],
   "source": [
    "print(\"The number of unique patient is \")\n",
    "len(data[\"PatientID\"].unique())"
   ]
  },
  {
   "cell_type": "code",
   "execution_count": 15,
   "metadata": {},
   "outputs": [
    {
     "name": "stdout",
     "output_type": "stream",
     "text": [
      "0.09947419166564941\n"
     ]
    }
   ],
   "source": [
    "df_temp1=data\n",
    "import time\n",
    "start = time.time()\n",
    "dicts = {}\n",
    "num_keys = range(len(df_temp1[\"PatientID\"].unique()))\n",
    "values =list(df_temp1[\"PatientID\"].unique())\n",
    "for i in num_keys:\n",
    "    #print(values[i])\n",
    "    dicts[i] = values[i]\n",
    "#print(dicts)\n",
    "end = time. time()\n",
    "print(end - start)"
   ]
  },
  {
   "cell_type": "code",
   "execution_count": 18,
   "metadata": {},
   "outputs": [
    {
     "data": {
      "text/html": [
       "<div>\n",
       "<style scoped>\n",
       "    .dataframe tbody tr th:only-of-type {\n",
       "        vertical-align: middle;\n",
       "    }\n",
       "\n",
       "    .dataframe tbody tr th {\n",
       "        vertical-align: top;\n",
       "    }\n",
       "\n",
       "    .dataframe thead th {\n",
       "        text-align: right;\n",
       "    }\n",
       "</style>\n",
       "<table border=\"1\" class=\"dataframe\">\n",
       "  <thead>\n",
       "    <tr style=\"text-align: right;\">\n",
       "      <th></th>\n",
       "      <th>PatientID</th>\n",
       "      <th>AgeGroup</th>\n",
       "      <th>State</th>\n",
       "      <th>Gender</th>\n",
       "      <th>Age</th>\n",
       "      <th>Fasting</th>\n",
       "      <th>GLU</th>\n",
       "      <th>A1c</th>\n",
       "      <th>SBP</th>\n",
       "      <th>DBP</th>\n",
       "      <th>TCHOL</th>\n",
       "      <th>TC:HDL_RATIO</th>\n",
       "      <th>LDL</th>\n",
       "      <th>HDL</th>\n",
       "      <th>TGS</th>\n",
       "      <th>AbdominalCir</th>\n",
       "      <th>HEIGHT</th>\n",
       "      <th>WEIGHT</th>\n",
       "      <th>BMI</th>\n",
       "      <th>ALT</th>\n",
       "    </tr>\n",
       "  </thead>\n",
       "  <tbody>\n",
       "    <tr>\n",
       "      <th>0</th>\n",
       "      <td>22076</td>\n",
       "      <td>60 - 69</td>\n",
       "      <td>TX</td>\n",
       "      <td>F</td>\n",
       "      <td>60</td>\n",
       "      <td>YES</td>\n",
       "      <td>84.0</td>\n",
       "      <td>NaN</td>\n",
       "      <td>117.0</td>\n",
       "      <td>71.0</td>\n",
       "      <td>188.0</td>\n",
       "      <td>2.2</td>\n",
       "      <td>79.0</td>\n",
       "      <td>84.0</td>\n",
       "      <td>124.0</td>\n",
       "      <td>29.0</td>\n",
       "      <td>66.0</td>\n",
       "      <td>145.0</td>\n",
       "      <td>23.8</td>\n",
       "      <td>16.0</td>\n",
       "    </tr>\n",
       "    <tr>\n",
       "      <th>1</th>\n",
       "      <td>22081</td>\n",
       "      <td>50 - 59</td>\n",
       "      <td>TX</td>\n",
       "      <td>F</td>\n",
       "      <td>55</td>\n",
       "      <td>YES</td>\n",
       "      <td>90.0</td>\n",
       "      <td>NaN</td>\n",
       "      <td>100.0</td>\n",
       "      <td>76.0</td>\n",
       "      <td>247.0</td>\n",
       "      <td>3.8</td>\n",
       "      <td>150.0</td>\n",
       "      <td>65.0</td>\n",
       "      <td>157.0</td>\n",
       "      <td>35.0</td>\n",
       "      <td>68.0</td>\n",
       "      <td>147.0</td>\n",
       "      <td>22.3</td>\n",
       "      <td>18.0</td>\n",
       "    </tr>\n",
       "    <tr>\n",
       "      <th>2</th>\n",
       "      <td>24077</td>\n",
       "      <td>40 - 49</td>\n",
       "      <td>TX</td>\n",
       "      <td>F</td>\n",
       "      <td>42</td>\n",
       "      <td>YES</td>\n",
       "      <td>99.0</td>\n",
       "      <td>NaN</td>\n",
       "      <td>130.0</td>\n",
       "      <td>82.0</td>\n",
       "      <td>185.0</td>\n",
       "      <td>NaN</td>\n",
       "      <td>NaN</td>\n",
       "      <td>NaN</td>\n",
       "      <td>48.0</td>\n",
       "      <td>33.0</td>\n",
       "      <td>65.0</td>\n",
       "      <td>142.0</td>\n",
       "      <td>23.6</td>\n",
       "      <td>17.0</td>\n",
       "    </tr>\n",
       "    <tr>\n",
       "      <th>3</th>\n",
       "      <td>26036</td>\n",
       "      <td>40 - 49</td>\n",
       "      <td>TX</td>\n",
       "      <td>F</td>\n",
       "      <td>43</td>\n",
       "      <td>YES</td>\n",
       "      <td>87.0</td>\n",
       "      <td>NaN</td>\n",
       "      <td>112.0</td>\n",
       "      <td>76.0</td>\n",
       "      <td>168.0</td>\n",
       "      <td>2.3</td>\n",
       "      <td>69.0</td>\n",
       "      <td>73.0</td>\n",
       "      <td>128.0</td>\n",
       "      <td>39.5</td>\n",
       "      <td>65.0</td>\n",
       "      <td>195.0</td>\n",
       "      <td>33.0</td>\n",
       "      <td>23.0</td>\n",
       "    </tr>\n",
       "    <tr>\n",
       "      <th>4</th>\n",
       "      <td>26037</td>\n",
       "      <td>18 - 39</td>\n",
       "      <td>TX</td>\n",
       "      <td>M</td>\n",
       "      <td>35</td>\n",
       "      <td>YES</td>\n",
       "      <td>77.0</td>\n",
       "      <td>NaN</td>\n",
       "      <td>124.0</td>\n",
       "      <td>76.0</td>\n",
       "      <td>166.0</td>\n",
       "      <td>2.9</td>\n",
       "      <td>99.0</td>\n",
       "      <td>57.0</td>\n",
       "      <td>46.0</td>\n",
       "      <td>30.5</td>\n",
       "      <td>73.0</td>\n",
       "      <td>158.0</td>\n",
       "      <td>20.8</td>\n",
       "      <td>25.0</td>\n",
       "    </tr>\n",
       "  </tbody>\n",
       "</table>\n",
       "</div>"
      ],
      "text/plain": [
       "   PatientID AgeGroup State Gender  Age Fasting   GLU  A1c    SBP   DBP  \\\n",
       "0      22076  60 - 69    TX      F   60     YES  84.0  NaN  117.0  71.0   \n",
       "1      22081  50 - 59    TX      F   55     YES  90.0  NaN  100.0  76.0   \n",
       "2      24077  40 - 49    TX      F   42     YES  99.0  NaN  130.0  82.0   \n",
       "3      26036  40 - 49    TX      F   43     YES  87.0  NaN  112.0  76.0   \n",
       "4      26037  18 - 39    TX      M   35     YES  77.0  NaN  124.0  76.0   \n",
       "\n",
       "   TCHOL  TC:HDL_RATIO    LDL   HDL    TGS  AbdominalCir  HEIGHT  WEIGHT  \\\n",
       "0  188.0           2.2   79.0  84.0  124.0          29.0    66.0   145.0   \n",
       "1  247.0           3.8  150.0  65.0  157.0          35.0    68.0   147.0   \n",
       "2  185.0           NaN    NaN   NaN   48.0          33.0    65.0   142.0   \n",
       "3  168.0           2.3   69.0  73.0  128.0          39.5    65.0   195.0   \n",
       "4  166.0           2.9   99.0  57.0   46.0          30.5    73.0   158.0   \n",
       "\n",
       "    BMI   ALT  \n",
       "0  23.8  16.0  \n",
       "1  22.3  18.0  \n",
       "2  23.6  17.0  \n",
       "3  33.0  23.0  \n",
       "4  20.8  25.0  "
      ]
     },
     "execution_count": 18,
     "metadata": {},
     "output_type": "execute_result"
    }
   ],
   "source": [
    "# Check the different for PID\n",
    "data.iloc[:5,:20]"
   ]
  },
  {
   "cell_type": "code",
   "execution_count": 19,
   "metadata": {},
   "outputs": [
    {
     "data": {
      "text/html": [
       "<div>\n",
       "<style scoped>\n",
       "    .dataframe tbody tr th:only-of-type {\n",
       "        vertical-align: middle;\n",
       "    }\n",
       "\n",
       "    .dataframe tbody tr th {\n",
       "        vertical-align: top;\n",
       "    }\n",
       "\n",
       "    .dataframe thead th {\n",
       "        text-align: right;\n",
       "    }\n",
       "</style>\n",
       "<table border=\"1\" class=\"dataframe\">\n",
       "  <thead>\n",
       "    <tr style=\"text-align: right;\">\n",
       "      <th></th>\n",
       "      <th>AST</th>\n",
       "      <th>METS_Risks</th>\n",
       "      <th>COTININE</th>\n",
       "      <th>BPAssessment</th>\n",
       "      <th>DyslipidemiaStatus</th>\n",
       "      <th>HDLAssessment</th>\n",
       "      <th>LDLAssessment</th>\n",
       "      <th>TGSAssessment</th>\n",
       "      <th>DMAssessment</th>\n",
       "      <th>DiabetesStatusUsingGlucose</th>\n",
       "      <th>DiabetesStatusUsingA1c</th>\n",
       "      <th>BMIAssessment</th>\n",
       "      <th>AbdominalCircumferenceStatus</th>\n",
       "      <th>PrimaryCareProvider</th>\n",
       "      <th>Smoking</th>\n",
       "      <th>SmokelessTobacco</th>\n",
       "      <th>Activity</th>\n",
       "      <th>Mammography</th>\n",
       "      <th>PapSmear</th>\n",
       "      <th>ClinicalBreastExam</th>\n",
       "    </tr>\n",
       "  </thead>\n",
       "  <tbody>\n",
       "    <tr>\n",
       "      <th>0</th>\n",
       "      <td>29.0</td>\n",
       "      <td>0</td>\n",
       "      <td>NaN</td>\n",
       "      <td>NORMAL</td>\n",
       "      <td>0</td>\n",
       "      <td>VERY GOOD</td>\n",
       "      <td>OPTIMAL</td>\n",
       "      <td>NORMAL</td>\n",
       "      <td>NORMAL</td>\n",
       "      <td>NORMAL</td>\n",
       "      <td>NaN</td>\n",
       "      <td>NORMAL</td>\n",
       "      <td>NORMAL</td>\n",
       "      <td>YES</td>\n",
       "      <td>NEVER</td>\n",
       "      <td>NEVER</td>\n",
       "      <td>YES</td>\n",
       "      <td>YES</td>\n",
       "      <td>YES</td>\n",
       "      <td>YES</td>\n",
       "    </tr>\n",
       "    <tr>\n",
       "      <th>1</th>\n",
       "      <td>19.0</td>\n",
       "      <td>2</td>\n",
       "      <td>NaN</td>\n",
       "      <td>NORMAL</td>\n",
       "      <td>1</td>\n",
       "      <td>VERY GOOD</td>\n",
       "      <td>BORDERLINE HIGH</td>\n",
       "      <td>BORDERLINE HIGH</td>\n",
       "      <td>NORMAL</td>\n",
       "      <td>NORMAL</td>\n",
       "      <td>NaN</td>\n",
       "      <td>NORMAL</td>\n",
       "      <td>HIGH RISK</td>\n",
       "      <td>YES</td>\n",
       "      <td>NEVER</td>\n",
       "      <td>NEVER</td>\n",
       "      <td>NO</td>\n",
       "      <td>YES</td>\n",
       "      <td>YES</td>\n",
       "      <td>YES</td>\n",
       "    </tr>\n",
       "    <tr>\n",
       "      <th>2</th>\n",
       "      <td>23.0</td>\n",
       "      <td>-1</td>\n",
       "      <td>NaN</td>\n",
       "      <td>HYPERTENSION STG1</td>\n",
       "      <td>0</td>\n",
       "      <td>NaN</td>\n",
       "      <td>NaN</td>\n",
       "      <td>NORMAL</td>\n",
       "      <td>NORMAL</td>\n",
       "      <td>NORMAL</td>\n",
       "      <td>NaN</td>\n",
       "      <td>NORMAL</td>\n",
       "      <td>NORMAL</td>\n",
       "      <td>YES</td>\n",
       "      <td>NEVER</td>\n",
       "      <td>NEVER</td>\n",
       "      <td>YES</td>\n",
       "      <td>YES</td>\n",
       "      <td>YES</td>\n",
       "      <td>YES</td>\n",
       "    </tr>\n",
       "    <tr>\n",
       "      <th>3</th>\n",
       "      <td>25.0</td>\n",
       "      <td>1</td>\n",
       "      <td>NaN</td>\n",
       "      <td>NORMAL</td>\n",
       "      <td>0</td>\n",
       "      <td>VERY GOOD</td>\n",
       "      <td>OPTIMAL</td>\n",
       "      <td>NORMAL</td>\n",
       "      <td>NORMAL</td>\n",
       "      <td>NORMAL</td>\n",
       "      <td>NaN</td>\n",
       "      <td>OBESITY</td>\n",
       "      <td>HIGH RISK</td>\n",
       "      <td>YES</td>\n",
       "      <td>NEVER</td>\n",
       "      <td>NEVER</td>\n",
       "      <td>NO</td>\n",
       "      <td>YES</td>\n",
       "      <td>YES</td>\n",
       "      <td>YES</td>\n",
       "    </tr>\n",
       "    <tr>\n",
       "      <th>4</th>\n",
       "      <td>27.0</td>\n",
       "      <td>0</td>\n",
       "      <td>NaN</td>\n",
       "      <td>ELEVATED</td>\n",
       "      <td>0</td>\n",
       "      <td>ACCEPTABLE</td>\n",
       "      <td>OPTIMAL</td>\n",
       "      <td>NORMAL</td>\n",
       "      <td>NORMAL</td>\n",
       "      <td>NORMAL</td>\n",
       "      <td>NaN</td>\n",
       "      <td>NORMAL</td>\n",
       "      <td>NORMAL</td>\n",
       "      <td>YES</td>\n",
       "      <td>NEVER</td>\n",
       "      <td>NEVER</td>\n",
       "      <td>YES</td>\n",
       "      <td>NaN</td>\n",
       "      <td>NaN</td>\n",
       "      <td>NaN</td>\n",
       "    </tr>\n",
       "  </tbody>\n",
       "</table>\n",
       "</div>"
      ],
      "text/plain": [
       "    AST  METS_Risks COTININE       BPAssessment  DyslipidemiaStatus  \\\n",
       "0  29.0           0      NaN             NORMAL                   0   \n",
       "1  19.0           2      NaN             NORMAL                   1   \n",
       "2  23.0          -1      NaN  HYPERTENSION STG1                   0   \n",
       "3  25.0           1      NaN             NORMAL                   0   \n",
       "4  27.0           0      NaN           ELEVATED                   0   \n",
       "\n",
       "  HDLAssessment    LDLAssessment    TGSAssessment DMAssessment  \\\n",
       "0     VERY GOOD          OPTIMAL           NORMAL       NORMAL   \n",
       "1     VERY GOOD  BORDERLINE HIGH  BORDERLINE HIGH       NORMAL   \n",
       "2           NaN              NaN           NORMAL       NORMAL   \n",
       "3     VERY GOOD          OPTIMAL           NORMAL       NORMAL   \n",
       "4    ACCEPTABLE          OPTIMAL           NORMAL       NORMAL   \n",
       "\n",
       "  DiabetesStatusUsingGlucose DiabetesStatusUsingA1c BMIAssessment  \\\n",
       "0                     NORMAL                    NaN        NORMAL   \n",
       "1                     NORMAL                    NaN        NORMAL   \n",
       "2                     NORMAL                    NaN        NORMAL   \n",
       "3                     NORMAL                    NaN       OBESITY   \n",
       "4                     NORMAL                    NaN        NORMAL   \n",
       "\n",
       "  AbdominalCircumferenceStatus PrimaryCareProvider Smoking SmokelessTobacco  \\\n",
       "0                       NORMAL                 YES   NEVER            NEVER   \n",
       "1                    HIGH RISK                 YES   NEVER            NEVER   \n",
       "2                       NORMAL                 YES   NEVER            NEVER   \n",
       "3                    HIGH RISK                 YES   NEVER            NEVER   \n",
       "4                       NORMAL                 YES   NEVER            NEVER   \n",
       "\n",
       "  Activity Mammography PapSmear ClinicalBreastExam  \n",
       "0      YES         YES      YES                YES  \n",
       "1       NO         YES      YES                YES  \n",
       "2      YES         YES      YES                YES  \n",
       "3       NO         YES      YES                YES  \n",
       "4      YES         NaN      NaN                NaN  "
      ]
     },
     "execution_count": 19,
     "metadata": {},
     "output_type": "execute_result"
    }
   ],
   "source": [
    "# Check the different for PID\n",
    "data.iloc[:5,20:40]"
   ]
  },
  {
   "cell_type": "code",
   "execution_count": 21,
   "metadata": {},
   "outputs": [],
   "source": [
    "inv_map = {v: k for k, v in dicts.items()}\n",
    "df_temp1[\"PatientID\"]=df_temp1[\"PatientID\"].map(inv_map)"
   ]
  },
  {
   "cell_type": "code",
   "execution_count": 24,
   "metadata": {},
   "outputs": [
    {
     "data": {
      "text/html": [
       "<div>\n",
       "<style scoped>\n",
       "    .dataframe tbody tr th:only-of-type {\n",
       "        vertical-align: middle;\n",
       "    }\n",
       "\n",
       "    .dataframe tbody tr th {\n",
       "        vertical-align: top;\n",
       "    }\n",
       "\n",
       "    .dataframe thead th {\n",
       "        text-align: right;\n",
       "    }\n",
       "</style>\n",
       "<table border=\"1\" class=\"dataframe\">\n",
       "  <thead>\n",
       "    <tr style=\"text-align: right;\">\n",
       "      <th></th>\n",
       "      <th>PatientID</th>\n",
       "      <th>AgeGroup</th>\n",
       "      <th>State</th>\n",
       "      <th>Gender</th>\n",
       "      <th>Age</th>\n",
       "      <th>Fasting</th>\n",
       "      <th>GLU</th>\n",
       "      <th>A1c</th>\n",
       "      <th>SBP</th>\n",
       "      <th>DBP</th>\n",
       "      <th>...</th>\n",
       "      <th>NewlyAssessedDyslipidemia</th>\n",
       "      <th>NewlyAssessedDiabetes</th>\n",
       "      <th>EmergencyReferral</th>\n",
       "      <th>HighRisk</th>\n",
       "      <th>DiabetesPreventionProgram</th>\n",
       "      <th>COPDProgram</th>\n",
       "      <th>CoronaryArteryDiseaseProgram</th>\n",
       "      <th>DiabetesProgram</th>\n",
       "      <th>HeartFailureProgram</th>\n",
       "      <th>AsthmaProgram</th>\n",
       "    </tr>\n",
       "  </thead>\n",
       "  <tbody>\n",
       "    <tr>\n",
       "      <th>0</th>\n",
       "      <td>0</td>\n",
       "      <td>60 - 69</td>\n",
       "      <td>TX</td>\n",
       "      <td>F</td>\n",
       "      <td>60</td>\n",
       "      <td>YES</td>\n",
       "      <td>84.0</td>\n",
       "      <td>NaN</td>\n",
       "      <td>117.0</td>\n",
       "      <td>71.0</td>\n",
       "      <td>...</td>\n",
       "      <td>0</td>\n",
       "      <td>0</td>\n",
       "      <td>NO</td>\n",
       "      <td>NO</td>\n",
       "      <td>NaN</td>\n",
       "      <td>NaN</td>\n",
       "      <td>NaN</td>\n",
       "      <td>NaN</td>\n",
       "      <td>NaN</td>\n",
       "      <td>NaN</td>\n",
       "    </tr>\n",
       "    <tr>\n",
       "      <th>1</th>\n",
       "      <td>1</td>\n",
       "      <td>50 - 59</td>\n",
       "      <td>TX</td>\n",
       "      <td>F</td>\n",
       "      <td>55</td>\n",
       "      <td>YES</td>\n",
       "      <td>90.0</td>\n",
       "      <td>NaN</td>\n",
       "      <td>100.0</td>\n",
       "      <td>76.0</td>\n",
       "      <td>...</td>\n",
       "      <td>1</td>\n",
       "      <td>0</td>\n",
       "      <td>NO</td>\n",
       "      <td>NO</td>\n",
       "      <td>NaN</td>\n",
       "      <td>NaN</td>\n",
       "      <td>NaN</td>\n",
       "      <td>NaN</td>\n",
       "      <td>NaN</td>\n",
       "      <td>NaN</td>\n",
       "    </tr>\n",
       "    <tr>\n",
       "      <th>2</th>\n",
       "      <td>2</td>\n",
       "      <td>40 - 49</td>\n",
       "      <td>TX</td>\n",
       "      <td>F</td>\n",
       "      <td>42</td>\n",
       "      <td>YES</td>\n",
       "      <td>99.0</td>\n",
       "      <td>NaN</td>\n",
       "      <td>130.0</td>\n",
       "      <td>82.0</td>\n",
       "      <td>...</td>\n",
       "      <td>0</td>\n",
       "      <td>0</td>\n",
       "      <td>NO</td>\n",
       "      <td>NO</td>\n",
       "      <td>NaN</td>\n",
       "      <td>NaN</td>\n",
       "      <td>NaN</td>\n",
       "      <td>NaN</td>\n",
       "      <td>NaN</td>\n",
       "      <td>NaN</td>\n",
       "    </tr>\n",
       "    <tr>\n",
       "      <th>3</th>\n",
       "      <td>3</td>\n",
       "      <td>40 - 49</td>\n",
       "      <td>TX</td>\n",
       "      <td>F</td>\n",
       "      <td>43</td>\n",
       "      <td>YES</td>\n",
       "      <td>87.0</td>\n",
       "      <td>NaN</td>\n",
       "      <td>112.0</td>\n",
       "      <td>76.0</td>\n",
       "      <td>...</td>\n",
       "      <td>0</td>\n",
       "      <td>0</td>\n",
       "      <td>NO</td>\n",
       "      <td>NO</td>\n",
       "      <td>NaN</td>\n",
       "      <td>NaN</td>\n",
       "      <td>NaN</td>\n",
       "      <td>NaN</td>\n",
       "      <td>NaN</td>\n",
       "      <td>NaN</td>\n",
       "    </tr>\n",
       "    <tr>\n",
       "      <th>4</th>\n",
       "      <td>4</td>\n",
       "      <td>18 - 39</td>\n",
       "      <td>TX</td>\n",
       "      <td>M</td>\n",
       "      <td>35</td>\n",
       "      <td>YES</td>\n",
       "      <td>77.0</td>\n",
       "      <td>NaN</td>\n",
       "      <td>124.0</td>\n",
       "      <td>76.0</td>\n",
       "      <td>...</td>\n",
       "      <td>0</td>\n",
       "      <td>0</td>\n",
       "      <td>NO</td>\n",
       "      <td>NO</td>\n",
       "      <td>NaN</td>\n",
       "      <td>NaN</td>\n",
       "      <td>NaN</td>\n",
       "      <td>NaN</td>\n",
       "      <td>NaN</td>\n",
       "      <td>NaN</td>\n",
       "    </tr>\n",
       "  </tbody>\n",
       "</table>\n",
       "<p>5 rows × 69 columns</p>\n",
       "</div>"
      ],
      "text/plain": [
       "   PatientID AgeGroup State Gender  Age Fasting   GLU  A1c    SBP   DBP  \\\n",
       "0          0  60 - 69    TX      F   60     YES  84.0  NaN  117.0  71.0   \n",
       "1          1  50 - 59    TX      F   55     YES  90.0  NaN  100.0  76.0   \n",
       "2          2  40 - 49    TX      F   42     YES  99.0  NaN  130.0  82.0   \n",
       "3          3  40 - 49    TX      F   43     YES  87.0  NaN  112.0  76.0   \n",
       "4          4  18 - 39    TX      M   35     YES  77.0  NaN  124.0  76.0   \n",
       "\n",
       "       ...        NewlyAssessedDyslipidemia  NewlyAssessedDiabetes  \\\n",
       "0      ...                                0                      0   \n",
       "1      ...                                1                      0   \n",
       "2      ...                                0                      0   \n",
       "3      ...                                0                      0   \n",
       "4      ...                                0                      0   \n",
       "\n",
       "   EmergencyReferral  HighRisk  DiabetesPreventionProgram  COPDProgram  \\\n",
       "0                 NO        NO                        NaN          NaN   \n",
       "1                 NO        NO                        NaN          NaN   \n",
       "2                 NO        NO                        NaN          NaN   \n",
       "3                 NO        NO                        NaN          NaN   \n",
       "4                 NO        NO                        NaN          NaN   \n",
       "\n",
       "   CoronaryArteryDiseaseProgram  DiabetesProgram  HeartFailureProgram  \\\n",
       "0                           NaN              NaN                  NaN   \n",
       "1                           NaN              NaN                  NaN   \n",
       "2                           NaN              NaN                  NaN   \n",
       "3                           NaN              NaN                  NaN   \n",
       "4                           NaN              NaN                  NaN   \n",
       "\n",
       "   AsthmaProgram  \n",
       "0            NaN  \n",
       "1            NaN  \n",
       "2            NaN  \n",
       "3            NaN  \n",
       "4            NaN  \n",
       "\n",
       "[5 rows x 69 columns]"
      ]
     },
     "execution_count": 24,
     "metadata": {},
     "output_type": "execute_result"
    }
   ],
   "source": [
    "df_temp1.head()"
   ]
  },
  {
   "cell_type": "markdown",
   "metadata": {},
   "source": [
    "# Check the checkup distribution"
   ]
  },
  {
   "cell_type": "code",
   "execution_count": 30,
   "metadata": {},
   "outputs": [],
   "source": [
    "ct=pd.DataFrame(df_temp1[\"PatientID\"].value_counts())\n",
    "ct.reset_index(level=0, inplace=True)\n",
    "ct.columns=[\"PatientID\",\"Count\"]"
   ]
  },
  {
   "cell_type": "code",
   "execution_count": 31,
   "metadata": {},
   "outputs": [
    {
     "data": {
      "text/html": [
       "<div>\n",
       "<style scoped>\n",
       "    .dataframe tbody tr th:only-of-type {\n",
       "        vertical-align: middle;\n",
       "    }\n",
       "\n",
       "    .dataframe tbody tr th {\n",
       "        vertical-align: top;\n",
       "    }\n",
       "\n",
       "    .dataframe thead th {\n",
       "        text-align: right;\n",
       "    }\n",
       "</style>\n",
       "<table border=\"1\" class=\"dataframe\">\n",
       "  <thead>\n",
       "    <tr style=\"text-align: right;\">\n",
       "      <th></th>\n",
       "      <th>Count</th>\n",
       "    </tr>\n",
       "  </thead>\n",
       "  <tbody>\n",
       "    <tr>\n",
       "      <th>1</th>\n",
       "      <td>195065</td>\n",
       "    </tr>\n",
       "    <tr>\n",
       "      <th>2</th>\n",
       "      <td>47368</td>\n",
       "    </tr>\n",
       "    <tr>\n",
       "      <th>3</th>\n",
       "      <td>20631</td>\n",
       "    </tr>\n",
       "    <tr>\n",
       "      <th>4</th>\n",
       "      <td>13244</td>\n",
       "    </tr>\n",
       "    <tr>\n",
       "      <th>5</th>\n",
       "      <td>4815</td>\n",
       "    </tr>\n",
       "    <tr>\n",
       "      <th>6</th>\n",
       "      <td>2285</td>\n",
       "    </tr>\n",
       "    <tr>\n",
       "      <th>7</th>\n",
       "      <td>1160</td>\n",
       "    </tr>\n",
       "    <tr>\n",
       "      <th>8</th>\n",
       "      <td>74</td>\n",
       "    </tr>\n",
       "    <tr>\n",
       "      <th>9</th>\n",
       "      <td>14</td>\n",
       "    </tr>\n",
       "    <tr>\n",
       "      <th>10</th>\n",
       "      <td>7</td>\n",
       "    </tr>\n",
       "    <tr>\n",
       "      <th>14</th>\n",
       "      <td>2</td>\n",
       "    </tr>\n",
       "    <tr>\n",
       "      <th>11</th>\n",
       "      <td>2</td>\n",
       "    </tr>\n",
       "    <tr>\n",
       "      <th>13</th>\n",
       "      <td>1</td>\n",
       "    </tr>\n",
       "  </tbody>\n",
       "</table>\n",
       "</div>"
      ],
      "text/plain": [
       "     Count\n",
       "1   195065\n",
       "2    47368\n",
       "3    20631\n",
       "4    13244\n",
       "5     4815\n",
       "6     2285\n",
       "7     1160\n",
       "8       74\n",
       "9       14\n",
       "10       7\n",
       "14       2\n",
       "11       2\n",
       "13       1"
      ]
     },
     "execution_count": 31,
     "metadata": {},
     "output_type": "execute_result"
    }
   ],
   "source": [
    "num_checkup=pd.DataFrame(ct[\"Count\"].value_counts())\n",
    "num_checkup"
   ]
  },
  {
   "cell_type": "markdown",
   "metadata": {},
   "source": [
    "# output the checkup distribution"
   ]
  },
  {
   "cell_type": "code",
   "execution_count": 32,
   "metadata": {},
   "outputs": [],
   "source": [
    "num_checkup.to_csv('~/working_project/2018data/raw_data/deidentified/num_checkup_distribution.csv')"
   ]
  },
  {
   "cell_type": "markdown",
   "metadata": {},
   "source": [
    "# output the dataset with fake patient ID"
   ]
  },
  {
   "cell_type": "code",
   "execution_count": 36,
   "metadata": {},
   "outputs": [],
   "source": [
    "df_temp1.to_csv('~/working_project/2018data/raw_data/deidentified/deidentified_pid.csv')"
   ]
  },
  {
   "cell_type": "code",
   "execution_count": 37,
   "metadata": {},
   "outputs": [],
   "source": [
    "data = df_temp1.dropna(axis=0, subset=['EmergencyReferral','HighRisk'])"
   ]
  },
  {
   "cell_type": "markdown",
   "metadata": {},
   "source": [
    "Deidentified.csv is the file which stored the data without patient personal information \n",
    "\n",
    "Remove the missing value in HighRisk column because I am going to build the classification model with Highrisk or EmergencyReferral as lable"
   ]
  },
  {
   "cell_type": "code",
   "execution_count": 38,
   "metadata": {},
   "outputs": [],
   "source": [
    "data.to_csv('~/working_project/2018data/raw_data/deidentified/deidentified.csv')"
   ]
  },
  {
   "cell_type": "markdown",
   "metadata": {},
   "source": [
    "# Map the ordinal data into numerical data:"
   ]
  },
  {
   "cell_type": "markdown",
   "metadata": {},
   "source": [
    "The mapping strategy is that if a feature means high risk, then the feature get high score."
   ]
  },
  {
   "cell_type": "code",
   "execution_count": 39,
   "metadata": {},
   "outputs": [
    {
     "data": {
      "text/plain": [
       "Index(['PatientID', 'AgeGroup', 'State', 'Gender', 'Age', 'Fasting', 'GLU',\n",
       "       'A1c', 'SBP', 'DBP', 'TCHOL', 'TC:HDL_RATIO', 'LDL', 'HDL', 'TGS',\n",
       "       'AbdominalCir', 'HEIGHT', 'WEIGHT', 'BMI', 'ALT', 'AST', 'METS_Risks',\n",
       "       'COTININE', 'BPAssessment', 'DyslipidemiaStatus', 'HDLAssessment',\n",
       "       'LDLAssessment', 'TGSAssessment', 'DMAssessment',\n",
       "       'DiabetesStatusUsingGlucose', 'DiabetesStatusUsingA1c', 'BMIAssessment',\n",
       "       'AbdominalCircumferenceStatus', 'PrimaryCareProvider', 'Smoking',\n",
       "       'SmokelessTobacco', 'Activity', 'Mammography', 'PapSmear',\n",
       "       'ClinicalBreastExam', 'ColorectalExam', 'Alcohol',\n",
       "       'HypertensionHistory', 'DiabetesHistory',\n",
       "       'DiabetesDuringPregnancyHistory', 'CoronaryArteryHistory',\n",
       "       'HighCholesterolHistory', 'DaytimeFatigueHistory', 'SnoringHistory',\n",
       "       'AsthmaHistory', 'HeartFailureHistory', 'KidneyHistory',\n",
       "       'StrokeHistory', 'COPDHistory', 'HeartDiseaseHistory',\n",
       "       'HypertensionMedication', 'DiabetesMedication', 'CholesterolMedication',\n",
       "       'NewlyAssessedHypertension', 'NewlyAssessedDyslipidemia',\n",
       "       'NewlyAssessedDiabetes', 'EmergencyReferral', 'HighRisk',\n",
       "       'DiabetesPreventionProgram', 'COPDProgram',\n",
       "       'CoronaryArteryDiseaseProgram', 'DiabetesProgram',\n",
       "       'HeartFailureProgram', 'AsthmaProgram'],\n",
       "      dtype='object')"
      ]
     },
     "execution_count": 39,
     "metadata": {},
     "output_type": "execute_result"
    }
   ],
   "source": [
    "data.columns"
   ]
  },
  {
   "cell_type": "markdown",
   "metadata": {},
   "source": [
    "# Remove some useless columns for classification"
   ]
  },
  {
   "cell_type": "code",
   "execution_count": 40,
   "metadata": {},
   "outputs": [],
   "source": [
    "data=data.drop(columns=['PatientID','AgeGroup','State','PrimaryCareProvider',\n",
    "                  'DiabetesPreventionProgram', 'COPDProgram',\n",
    "       'CoronaryArteryDiseaseProgram', 'DiabetesProgram',\n",
    "       'HeartFailureProgram', 'AsthmaProgram'])"
   ]
  },
  {
   "cell_type": "code",
   "execution_count": 41,
   "metadata": {},
   "outputs": [
    {
     "data": {
      "text/plain": [
       "Index(['Gender', 'Age', 'Fasting', 'GLU', 'A1c', 'SBP', 'DBP', 'TCHOL',\n",
       "       'TC:HDL_RATIO', 'LDL', 'HDL', 'TGS', 'AbdominalCir', 'HEIGHT', 'WEIGHT',\n",
       "       'BMI', 'ALT', 'AST', 'METS_Risks', 'COTININE', 'BPAssessment',\n",
       "       'DyslipidemiaStatus', 'HDLAssessment', 'LDLAssessment', 'TGSAssessment',\n",
       "       'DMAssessment', 'DiabetesStatusUsingGlucose', 'DiabetesStatusUsingA1c',\n",
       "       'BMIAssessment', 'AbdominalCircumferenceStatus', 'Smoking',\n",
       "       'SmokelessTobacco', 'Activity', 'Mammography', 'PapSmear',\n",
       "       'ClinicalBreastExam', 'ColorectalExam', 'Alcohol',\n",
       "       'HypertensionHistory', 'DiabetesHistory',\n",
       "       'DiabetesDuringPregnancyHistory', 'CoronaryArteryHistory',\n",
       "       'HighCholesterolHistory', 'DaytimeFatigueHistory', 'SnoringHistory',\n",
       "       'AsthmaHistory', 'HeartFailureHistory', 'KidneyHistory',\n",
       "       'StrokeHistory', 'COPDHistory', 'HeartDiseaseHistory',\n",
       "       'HypertensionMedication', 'DiabetesMedication', 'CholesterolMedication',\n",
       "       'NewlyAssessedHypertension', 'NewlyAssessedDyslipidemia',\n",
       "       'NewlyAssessedDiabetes', 'EmergencyReferral', 'HighRisk'],\n",
       "      dtype='object')"
      ]
     },
     "execution_count": 41,
     "metadata": {},
     "output_type": "execute_result"
    }
   ],
   "source": [
    "data.columns"
   ]
  },
  {
   "cell_type": "markdown",
   "metadata": {},
   "source": [
    "# Fasting"
   ]
  },
  {
   "cell_type": "code",
   "execution_count": 42,
   "metadata": {},
   "outputs": [],
   "source": [
    "# Because if the patient did not fast before the test, the result is not reliable.\n",
    "# Strategy: Remove all rows with the not fasting value instead of mapping it into 1 or 0\n",
    "#data[\"Fasting\"]=data[\"Fasting\"].map({'YES':1, 'NO':0})\n",
    "data = data.drop(data[data[\"Fasting\"]=='NO'].index)"
   ]
  },
  {
   "cell_type": "code",
   "execution_count": 43,
   "metadata": {},
   "outputs": [],
   "source": [
    "# remove the missing value in Fasting.\n",
    "data[\"Fasting\"].value_counts()\n",
    "data = data.drop(data[data[\"Fasting\"].isnull()].index)"
   ]
  },
  {
   "cell_type": "code",
   "execution_count": 44,
   "metadata": {},
   "outputs": [
    {
     "name": "stdout",
     "output_type": "stream",
     "text": [
      "0\n"
     ]
    }
   ],
   "source": [
    "print(data[\"Fasting\"].isnull().sum())"
   ]
  },
  {
   "cell_type": "markdown",
   "metadata": {},
   "source": [
    "# Smoking"
   ]
  },
  {
   "cell_type": "code",
   "execution_count": 45,
   "metadata": {},
   "outputs": [],
   "source": [
    "# There is no No option for 'Smoking','SmokelessTobacco'. Those records are anormal.\n",
    "data = data.drop(data[data[\"Smoking\"]=='NO'].index)\n",
    "data = data.drop(data[data['SmokelessTobacco']=='NO'].index)\n",
    "maps={'NEVER':0, 'QUIT':1, 'YES':2}\n",
    "data[\"Smoking\"]=data[\"Smoking\"].map(maps)\n",
    "data['SmokelessTobacco']=data['SmokelessTobacco'].map(maps)"
   ]
  },
  {
   "cell_type": "code",
   "execution_count": 46,
   "metadata": {},
   "outputs": [
    {
     "name": "stdout",
     "output_type": "stream",
     "text": [
      "SmokelessTobacco    214\n",
      "Smoking             161\n",
      "dtype: int64\n"
     ]
    }
   ],
   "source": [
    "print(data[['SmokelessTobacco','Smoking']].isnull().sum())"
   ]
  },
  {
   "cell_type": "markdown",
   "metadata": {},
   "source": [
    "# Activity"
   ]
  },
  {
   "cell_type": "code",
   "execution_count": 47,
   "metadata": {},
   "outputs": [],
   "source": [
    "#There is no No option for 'Activity','Activity'. Those records are anormal. just remove it\n",
    "#Since Activity is required quesiton for patient. There are only about 500 missing values.\n",
    "\n",
    "data = data.drop(data[data[\"Activity\"].isnull()].index)\n",
    "maps={'YES':1, 'NO':0}\n",
    "data[\"Activity\"]=data[\"Activity\"].map(maps)"
   ]
  },
  {
   "cell_type": "code",
   "execution_count": null,
   "outputs": [],
   "source": [],
   "metadata": {
    "collapsed": false,
    "pycharm": {
     "name": "#%%\n"
    }
   }
  },
  {
   "cell_type": "code",
   "execution_count": 48,
   "metadata": {},
   "outputs": [
    {
     "name": "stdout",
     "output_type": "stream",
     "text": [
      "0\n"
     ]
    }
   ],
   "source": [
    "print(data[\"Activity\"].isnull().sum())"
   ]
  },
  {
   "cell_type": "markdown",
   "metadata": {},
   "source": [
    "# Alcohol"
   ]
  },
  {
   "cell_type": "code",
   "execution_count": 49,
   "metadata": {},
   "outputs": [
    {
     "name": "stdout",
     "output_type": "stream",
     "text": [
      "0\n"
     ]
    }
   ],
   "source": [
    "# alcohol -There are only about 500 missing value.\n",
    "data = data.drop(data[data[\"Alcohol\"].isnull()].index)\n",
    "maps={'YES':1, 'NO':0}\n",
    "data[\"Alcohol\"]=data[\"Alcohol\"].map(maps)\n",
    "print(data[\"Alcohol\"].isnull().sum())"
   ]
  },
  {
   "cell_type": "markdown",
   "metadata": {},
   "source": [
    "# HypertensionHistory"
   ]
  },
  {
   "cell_type": "code",
   "execution_count": 50,
   "metadata": {},
   "outputs": [
    {
     "name": "stdout",
     "output_type": "stream",
     "text": [
      "0\n"
     ]
    }
   ],
   "source": [
    "#\"HypertensionHistory\" -There are only about 500 missing values.\n",
    "data = data.drop(data[data[\"HypertensionHistory\"].isnull()].index)\n",
    "data[\"HypertensionHistory\"]=data[\"HypertensionHistory\"].map({'YES':1, 'NO':0})\n",
    "print(data[\"HypertensionHistory\"].isnull().sum())"
   ]
  },
  {
   "cell_type": "markdown",
   "metadata": {},
   "source": [
    "# DiabetesHistory"
   ]
  },
  {
   "cell_type": "code",
   "execution_count": 51,
   "metadata": {},
   "outputs": [
    {
     "name": "stdout",
     "output_type": "stream",
     "text": [
      "0\n"
     ]
    }
   ],
   "source": [
    "#\"DiabetesHistory\"-There are only about 500 missing values.\n",
    "data = data.drop(data[data[\"DiabetesHistory\"].isnull()].index)\n",
    "data[\"DiabetesHistory\"]=data[\"DiabetesHistory\"].map({'YES':1, 'NO':0})\n",
    "print(data[\"DiabetesHistory\"].isnull().sum())"
   ]
  },
  {
   "cell_type": "markdown",
   "metadata": {},
   "source": [
    "# CoronaryArteryHistory"
   ]
  },
  {
   "cell_type": "code",
   "execution_count": 52,
   "metadata": {},
   "outputs": [
    {
     "name": "stdout",
     "output_type": "stream",
     "text": [
      "0\n"
     ]
    }
   ],
   "source": [
    "#'CoronaryArteryHistory'-There are only about 500 missing values.\n",
    "data = data.drop(data[data[\"CoronaryArteryHistory\"].isnull()].index)\n",
    "data[\"CoronaryArteryHistory\"]=data[\"CoronaryArteryHistory\"].map({'YES':1, 'NO':0})\n",
    "print(data[\"CoronaryArteryHistory\"].isnull().sum())"
   ]
  },
  {
   "cell_type": "markdown",
   "metadata": {},
   "source": [
    "# HighCholesterolHistory"
   ]
  },
  {
   "cell_type": "code",
   "execution_count": 53,
   "metadata": {},
   "outputs": [
    {
     "name": "stdout",
     "output_type": "stream",
     "text": [
      "0\n"
     ]
    }
   ],
   "source": [
    "#'HighCholesterolHistory'-There are only about 600 missing values.\n",
    "data = data.drop(data[data['HighCholesterolHistory'].isnull()].index)\n",
    "data['HighCholesterolHistory']=data['HighCholesterolHistory'].map({'YES':1, 'NO':0})\n",
    "print(data['HighCholesterolHistory'].isnull().sum())"
   ]
  },
  {
   "cell_type": "markdown",
   "metadata": {},
   "source": [
    "# DaytimeFatigueHistory KidneyHistory StrokeHistory"
   ]
  },
  {
   "cell_type": "code",
   "execution_count": 54,
   "metadata": {},
   "outputs": [],
   "source": [
    "# Since there are too many missing values in 'DaytimeFatigueHistory'(300K = nan),'KidneyHistory','StrokeHistory'\n",
    "columns_miss = ['DaytimeFatigueHistory','KidneyHistory','StrokeHistory']\n",
    "data=data.drop(columns=columns_miss)"
   ]
  },
  {
   "cell_type": "code",
   "execution_count": 55,
   "metadata": {
    "scrolled": true
   },
   "outputs": [
    {
     "data": {
      "text/plain": [
       "Gender                                 0\n",
       "Age                                    0\n",
       "Fasting                                0\n",
       "GLU                                  165\n",
       "A1c                               243310\n",
       "SBP                                   58\n",
       "DBP                                   58\n",
       "TCHOL                                109\n",
       "TC:HDL_RATIO                        9767\n",
       "LDL                                 8320\n",
       "HDL                                 6967\n",
       "TGS                                  828\n",
       "AbdominalCir                         105\n",
       "HEIGHT                                59\n",
       "WEIGHT                                65\n",
       "BMI                                  658\n",
       "ALT                                 5063\n",
       "AST                                 5312\n",
       "METS_Risks                             0\n",
       "COTININE                          291604\n",
       "BPAssessment                         133\n",
       "DyslipidemiaStatus                     0\n",
       "HDLAssessment                       7021\n",
       "LDLAssessment                       8443\n",
       "TGSAssessment                        843\n",
       "DMAssessment                         366\n",
       "DiabetesStatusUsingGlucose             0\n",
       "DiabetesStatusUsingA1c            243419\n",
       "BMIAssessment                        687\n",
       "AbdominalCircumferenceStatus         120\n",
       "Smoking                               20\n",
       "SmokelessTobacco                      61\n",
       "Activity                               0\n",
       "Mammography                       197905\n",
       "PapSmear                          131936\n",
       "ClinicalBreastExam                133207\n",
       "ColorectalExam                    197556\n",
       "Alcohol                                0\n",
       "HypertensionHistory                    0\n",
       "DiabetesHistory                        0\n",
       "DiabetesDuringPregnancyHistory     87607\n",
       "CoronaryArteryHistory                  0\n",
       "HighCholesterolHistory                 0\n",
       "SnoringHistory                     39462\n",
       "AsthmaHistory                      39454\n",
       "HeartFailureHistory                39416\n",
       "COPDHistory                        39456\n",
       "HeartDiseaseHistory                    0\n",
       "HypertensionMedication             83558\n",
       "DiabetesMedication                151914\n",
       "CholesterolMedication             127761\n",
       "NewlyAssessedHypertension              0\n",
       "NewlyAssessedDyslipidemia              0\n",
       "NewlyAssessedDiabetes                  0\n",
       "EmergencyReferral                      0\n",
       "HighRisk                               0\n",
       "dtype: int64"
      ]
     },
     "execution_count": 55,
     "metadata": {},
     "output_type": "execute_result"
    }
   ],
   "source": [
    "data.isnull().sum()"
   ]
  },
  {
   "cell_type": "markdown",
   "metadata": {},
   "source": [
    "# NewlyAssessedHypertension NewlyAssessedDyslipidemia NewlyAssessedDiabetes"
   ]
  },
  {
   "cell_type": "code",
   "execution_count": 56,
   "metadata": {},
   "outputs": [],
   "source": [
    "# Remove useless columns -NewlyAssessedHypertension,NewlyAssessedDyslipidemia,NewlyAssessedDiabetes\n",
    "columns_newly = ['NewlyAssessedHypertension','NewlyAssessedDyslipidemia','NewlyAssessedDiabetes']\n",
    "data=data.drop(columns=columns_newly)"
   ]
  },
  {
   "cell_type": "code",
   "execution_count": 57,
   "metadata": {},
   "outputs": [
    {
     "data": {
      "text/plain": [
       "Gender                                 0\n",
       "Age                                    0\n",
       "Fasting                                0\n",
       "GLU                                  165\n",
       "A1c                               243310\n",
       "SBP                                   58\n",
       "DBP                                   58\n",
       "TCHOL                                109\n",
       "TC:HDL_RATIO                        9767\n",
       "LDL                                 8320\n",
       "HDL                                 6967\n",
       "TGS                                  828\n",
       "AbdominalCir                         105\n",
       "HEIGHT                                59\n",
       "WEIGHT                                65\n",
       "BMI                                  658\n",
       "ALT                                 5063\n",
       "AST                                 5312\n",
       "METS_Risks                             0\n",
       "COTININE                          291604\n",
       "BPAssessment                         133\n",
       "DyslipidemiaStatus                     0\n",
       "HDLAssessment                       7021\n",
       "LDLAssessment                       8443\n",
       "TGSAssessment                        843\n",
       "DMAssessment                         366\n",
       "DiabetesStatusUsingGlucose             0\n",
       "DiabetesStatusUsingA1c            243419\n",
       "BMIAssessment                        687\n",
       "AbdominalCircumferenceStatus         120\n",
       "Smoking                               20\n",
       "SmokelessTobacco                      61\n",
       "Activity                               0\n",
       "Mammography                       197905\n",
       "PapSmear                          131936\n",
       "ClinicalBreastExam                133207\n",
       "ColorectalExam                    197556\n",
       "Alcohol                                0\n",
       "HypertensionHistory                    0\n",
       "DiabetesHistory                        0\n",
       "DiabetesDuringPregnancyHistory     87607\n",
       "CoronaryArteryHistory                  0\n",
       "HighCholesterolHistory                 0\n",
       "SnoringHistory                     39462\n",
       "AsthmaHistory                      39454\n",
       "HeartFailureHistory                39416\n",
       "COPDHistory                        39456\n",
       "HeartDiseaseHistory                    0\n",
       "HypertensionMedication             83558\n",
       "DiabetesMedication                151914\n",
       "CholesterolMedication             127761\n",
       "EmergencyReferral                      0\n",
       "HighRisk                               0\n",
       "dtype: int64"
      ]
     },
     "execution_count": 57,
     "metadata": {},
     "output_type": "execute_result"
    }
   ],
   "source": [
    "data.isnull().sum()"
   ]
  },
  {
   "cell_type": "markdown",
   "metadata": {},
   "source": [
    "# HeartDiseaseHistory"
   ]
  },
  {
   "cell_type": "code",
   "execution_count": 58,
   "metadata": {},
   "outputs": [
    {
     "name": "stdout",
     "output_type": "stream",
     "text": [
      "0\n"
     ]
    }
   ],
   "source": [
    "#'HeartDiseaseHistory'-485=NAN\n",
    "data = data.drop(data[data['HeartDiseaseHistory']==np.nan].index)\n",
    "data['HeartDiseaseHistory']=data['HeartDiseaseHistory'].map({'YES':1, 'NO':0})\n",
    "print(data['HeartDiseaseHistory'].isnull().sum())"
   ]
  },
  {
   "cell_type": "markdown",
   "metadata": {},
   "source": [
    "# AsthmaHistory"
   ]
  },
  {
   "cell_type": "code",
   "execution_count": 59,
   "metadata": {},
   "outputs": [
    {
     "name": "stdout",
     "output_type": "stream",
     "text": [
      "0\n"
     ]
    }
   ],
   "source": [
    "#'SnoringHistory'-58575 missing since patients may not be able to detect sorning by themself. Remove the column\n",
    "#'AsthmaHistory'-58539 missing since patients are able to detect asthma, heartfailure, and COPDHistory\n",
    "#'HeartFailureHistory'-50K missing \n",
    "#'COPDHistory'-50k missing\n",
    "\n",
    "\n",
    "#df['D'] = np.where((df.A=='blue') & (df.B=='red') & (df.C=='square'), 'succeed')\n",
    "maps={'YES':1, 'NO':0}\n",
    "data['AsthmaHistory']=np.where(data['AsthmaHistory'].isnull(),0,data['AsthmaHistory'].map(maps))\n",
    "print(data['AsthmaHistory'].isnull().sum())"
   ]
  },
  {
   "cell_type": "markdown",
   "metadata": {},
   "source": [
    "# COPDHistory"
   ]
  },
  {
   "cell_type": "code",
   "execution_count": 60,
   "metadata": {},
   "outputs": [
    {
     "name": "stdout",
     "output_type": "stream",
     "text": [
      "0\n"
     ]
    }
   ],
   "source": [
    "data['COPDHistory']=np.where(data['COPDHistory'].isnull(),0,data['COPDHistory'].map(maps))\n",
    "print(data['COPDHistory'].isnull().sum())"
   ]
  },
  {
   "cell_type": "markdown",
   "metadata": {},
   "source": [
    "# SnoringHistory"
   ]
  },
  {
   "cell_type": "code",
   "execution_count": 61,
   "metadata": {},
   "outputs": [],
   "source": [
    "data=data.drop(columns='SnoringHistory')"
   ]
  },
  {
   "cell_type": "markdown",
   "metadata": {},
   "source": [
    "# HeartFailureHistory"
   ]
  },
  {
   "cell_type": "code",
   "execution_count": 62,
   "metadata": {},
   "outputs": [
    {
     "name": "stdout",
     "output_type": "stream",
     "text": [
      "0\n"
     ]
    }
   ],
   "source": [
    "data['HeartFailureHistory']=np.where(data['HeartFailureHistory'].isnull(),0,data['HeartFailureHistory'].map(maps))\n",
    "print(data['HeartFailureHistory'].isnull().sum())"
   ]
  },
  {
   "cell_type": "code",
   "execution_count": 63,
   "metadata": {},
   "outputs": [
    {
     "data": {
      "text/plain": [
       "Gender                                 0\n",
       "Age                                    0\n",
       "Fasting                                0\n",
       "GLU                                  165\n",
       "A1c                               243310\n",
       "SBP                                   58\n",
       "DBP                                   58\n",
       "TCHOL                                109\n",
       "TC:HDL_RATIO                        9767\n",
       "LDL                                 8320\n",
       "HDL                                 6967\n",
       "TGS                                  828\n",
       "AbdominalCir                         105\n",
       "HEIGHT                                59\n",
       "WEIGHT                                65\n",
       "BMI                                  658\n",
       "ALT                                 5063\n",
       "AST                                 5312\n",
       "METS_Risks                             0\n",
       "COTININE                          291604\n",
       "BPAssessment                         133\n",
       "DyslipidemiaStatus                     0\n",
       "HDLAssessment                       7021\n",
       "LDLAssessment                       8443\n",
       "TGSAssessment                        843\n",
       "DMAssessment                         366\n",
       "DiabetesStatusUsingGlucose             0\n",
       "DiabetesStatusUsingA1c            243419\n",
       "BMIAssessment                        687\n",
       "AbdominalCircumferenceStatus         120\n",
       "Smoking                               20\n",
       "SmokelessTobacco                      61\n",
       "Activity                               0\n",
       "Mammography                       197905\n",
       "PapSmear                          131936\n",
       "ClinicalBreastExam                133207\n",
       "ColorectalExam                    197556\n",
       "Alcohol                                0\n",
       "HypertensionHistory                    0\n",
       "DiabetesHistory                        0\n",
       "DiabetesDuringPregnancyHistory     87607\n",
       "CoronaryArteryHistory                  0\n",
       "HighCholesterolHistory                 0\n",
       "AsthmaHistory                          0\n",
       "HeartFailureHistory                    0\n",
       "COPDHistory                            0\n",
       "HeartDiseaseHistory                    0\n",
       "HypertensionMedication             83558\n",
       "DiabetesMedication                151914\n",
       "CholesterolMedication             127761\n",
       "EmergencyReferral                      0\n",
       "HighRisk                               0\n",
       "dtype: int64"
      ]
     },
     "execution_count": 63,
     "metadata": {},
     "output_type": "execute_result"
    }
   ],
   "source": [
    "data.isnull().sum()"
   ]
  },
  {
   "cell_type": "markdown",
   "metadata": {},
   "source": [
    "# HypertensionMedication CholesterolMedication DiabetesMedication"
   ]
  },
  {
   "cell_type": "code",
   "execution_count": 64,
   "metadata": {},
   "outputs": [
    {
     "name": "stdout",
     "output_type": "stream",
     "text": [
      "missing value for HypertensionMedication: is 83558\n",
      "0.0      168428\n",
      "999.0     83558\n",
      "1.0       70031\n",
      "Name: HypertensionMedication, dtype: int64\n",
      "missing value for CholesterolMedication: is 127761\n",
      "0.0      155245\n",
      "999.0    127761\n",
      "1.0       39011\n",
      "Name: CholesterolMedication, dtype: int64\n",
      "missing value for DiabetesMedication: is 151914\n",
      "999.0    151914\n",
      "0.0      151650\n",
      "1.0       18453\n",
      "Name: DiabetesMedication, dtype: int64\n"
     ]
    }
   ],
   "source": [
    "maps={'YES':1, 'NO':0}\n",
    "cols_med=['HypertensionMedication','CholesterolMedication','DiabetesMedication']\n",
    "cols_his=['HypertensionHistory','HighCholesterolHistory','DiabetesHistory']\n",
    "for i in range(3):\n",
    "    print(\"missing value for %s: is %.f\" %(cols_med[i],data[cols_med[i]].isnull().sum()))\n",
    "    #print(data[cols_his[i]].value_counts())\n",
    "    #print(\"missing value for %s: is %.f\" %(cols_his[i],data[cols_his[i]].isnull().sum()))\n",
    "    data[cols_med[i]]=np.where(data[cols_med[i]].isnull(),999,data[cols_med[i]].map(maps))\n",
    "    print(data[cols_med[i]].value_counts())"
   ]
  },
  {
   "cell_type": "markdown",
   "metadata": {},
   "source": [
    "# Strategy to deal with HypertensionMedication CholesterolMedication and DiabetesMedication\n",
    "\n",
    "If the history is No, and the medication is Null, then assign 0.\n",
    "\n",
    "If the history is Yes, and the medication is Yes, the disease is under controlled, then assign 1.\n",
    "\n",
    "If the history is Yes, and the medication is Null or No, the disease is not under controlled, then assign 2.\n"
   ]
  },
  {
   "cell_type": "code",
   "execution_count": 65,
   "metadata": {},
   "outputs": [
    {
     "name": "stdout",
     "output_type": "stream",
     "text": [
      "0.0    236901\n",
      "1.0     70031\n",
      "2.0     15085\n",
      "Name: HypertensionMedication, dtype: int64\n",
      "0.0    224964\n",
      "2.0     58042\n",
      "1.0     39011\n",
      "Name: CholesterolMedication, dtype: int64\n",
      "0.0    296131\n",
      "1.0     18453\n",
      "2.0      7433\n",
      "Name: DiabetesMedication, dtype: int64\n"
     ]
    }
   ],
   "source": [
    "#data[cols_med[i]]=data[cols_med[i]].apply(lambda x: 0 if data[cols_his[i]]==0\n",
    "cols_med=['HypertensionMedication','CholesterolMedication','DiabetesMedication']\n",
    "cols_his=['HypertensionHistory','HighCholesterolHistory','DiabetesHistory']\n",
    "for i in range(3):\n",
    "    data.loc[(data[cols_his[i]]==1) & (data[cols_med[i]]==1), cols_med[i]]=1\n",
    "    data.loc[(data[cols_his[i]]==1) & (data[cols_med[i]]==0), cols_med[i]]=2\n",
    "    data.loc[(data[cols_his[i]]==1) & (data[cols_med[i]]==999), cols_med[i]]=2\n",
    "    data.loc[(data[cols_his[i]]==0) & (data[cols_med[i]]==999), cols_med[i]]=0\n",
    "    print(data[cols_med[i]].value_counts())"
   ]
  },
  {
   "cell_type": "code",
   "execution_count": 66,
   "metadata": {
    "scrolled": false
   },
   "outputs": [
    {
     "data": {
      "text/plain": [
       "Gender                                 0\n",
       "Age                                    0\n",
       "Fasting                                0\n",
       "GLU                                  165\n",
       "A1c                               243310\n",
       "SBP                                   58\n",
       "DBP                                   58\n",
       "TCHOL                                109\n",
       "TC:HDL_RATIO                        9767\n",
       "LDL                                 8320\n",
       "HDL                                 6967\n",
       "TGS                                  828\n",
       "AbdominalCir                         105\n",
       "HEIGHT                                59\n",
       "WEIGHT                                65\n",
       "BMI                                  658\n",
       "ALT                                 5063\n",
       "AST                                 5312\n",
       "METS_Risks                             0\n",
       "COTININE                          291604\n",
       "BPAssessment                         133\n",
       "DyslipidemiaStatus                     0\n",
       "HDLAssessment                       7021\n",
       "LDLAssessment                       8443\n",
       "TGSAssessment                        843\n",
       "DMAssessment                         366\n",
       "DiabetesStatusUsingGlucose             0\n",
       "DiabetesStatusUsingA1c            243419\n",
       "BMIAssessment                        687\n",
       "AbdominalCircumferenceStatus         120\n",
       "Smoking                               20\n",
       "SmokelessTobacco                      61\n",
       "Activity                               0\n",
       "Mammography                       197905\n",
       "PapSmear                          131936\n",
       "ClinicalBreastExam                133207\n",
       "ColorectalExam                    197556\n",
       "Alcohol                                0\n",
       "HypertensionHistory                    0\n",
       "DiabetesHistory                        0\n",
       "DiabetesDuringPregnancyHistory     87607\n",
       "CoronaryArteryHistory                  0\n",
       "HighCholesterolHistory                 0\n",
       "AsthmaHistory                          0\n",
       "HeartFailureHistory                    0\n",
       "COPDHistory                            0\n",
       "HeartDiseaseHistory                    0\n",
       "HypertensionMedication                 0\n",
       "DiabetesMedication                     0\n",
       "CholesterolMedication                  0\n",
       "EmergencyReferral                      0\n",
       "HighRisk                               0\n",
       "dtype: int64"
      ]
     },
     "execution_count": 66,
     "metadata": {},
     "output_type": "execute_result"
    }
   ],
   "source": [
    "data.isnull().sum()"
   ]
  },
  {
   "cell_type": "code",
   "execution_count": 67,
   "metadata": {},
   "outputs": [
    {
     "data": {
      "text/plain": [
       "(322017, 52)"
      ]
     },
     "execution_count": 67,
     "metadata": {},
     "output_type": "execute_result"
    }
   ],
   "source": [
    "data.shape"
   ]
  },
  {
   "cell_type": "markdown",
   "metadata": {},
   "source": [
    "# COTININE"
   ]
  },
  {
   "cell_type": "code",
   "execution_count": 68,
   "metadata": {},
   "outputs": [],
   "source": [
    "# for \"COTININE\"  -291604 missing \n",
    "\n",
    "#data = data.drop(column=COTININE]==\"Invalid\"].index)\n",
    "#data = data.drop(data[data[\"COTININE\"]==\"Signed Waiver\"].index)\n",
    "\n",
    "#data[\"COTININE\"]=data[\"COTININE\"].map({'Negative':0, 'Positive':1})\n",
    "#data[\"COTININE\"].value_counts()\n",
    "data=data.drop(columns=[\"COTININE\"])"
   ]
  },
  {
   "cell_type": "markdown",
   "metadata": {},
   "source": [
    "# Test result :\n",
    "\n",
    "'GLU','SBP', 'DBP', 'TCHOL','TC:HDL_RATIO', 'LDL', 'HDL', 'TGS', 'AbdominalCir', 'HEIGHT', 'WEIGHT','BMI', 'ALT', 'AST'\n",
    "except for 'A1c'\n",
    "\n",
    "Remove all the rows with missing value"
   ]
  },
  {
   "cell_type": "code",
   "execution_count": 69,
   "metadata": {},
   "outputs": [],
   "source": [
    "cols=['GLU', 'SBP', 'DBP', 'TCHOL',\n",
    "       'TC:HDL_RATIO', 'LDL', 'HDL', 'TGS', 'AbdominalCir', 'HEIGHT', 'WEIGHT',\n",
    "       'BMI', 'ALT', 'AST']\n",
    "data = data.dropna(subset=cols)"
   ]
  },
  {
   "cell_type": "code",
   "execution_count": 70,
   "metadata": {},
   "outputs": [
    {
     "data": {
      "text/plain": [
       "(307028, 51)"
      ]
     },
     "execution_count": 70,
     "metadata": {},
     "output_type": "execute_result"
    }
   ],
   "source": [
    "data.shape"
   ]
  },
  {
   "cell_type": "code",
   "execution_count": 71,
   "metadata": {},
   "outputs": [
    {
     "data": {
      "text/plain": [
       "Gender                                 0\n",
       "Age                                    0\n",
       "Fasting                                0\n",
       "GLU                                    0\n",
       "A1c                               231295\n",
       "SBP                                    0\n",
       "DBP                                    0\n",
       "TCHOL                                  0\n",
       "TC:HDL_RATIO                           0\n",
       "LDL                                    0\n",
       "HDL                                    0\n",
       "TGS                                    0\n",
       "AbdominalCir                           0\n",
       "HEIGHT                                 0\n",
       "WEIGHT                                 0\n",
       "BMI                                    0\n",
       "ALT                                    0\n",
       "AST                                    0\n",
       "METS_Risks                             0\n",
       "BPAssessment                          69\n",
       "DyslipidemiaStatus                     0\n",
       "HDLAssessment                         48\n",
       "LDLAssessment                        114\n",
       "TGSAssessment                         14\n",
       "DMAssessment                          42\n",
       "DiabetesStatusUsingGlucose             0\n",
       "DiabetesStatusUsingA1c            231397\n",
       "BMIAssessment                         14\n",
       "AbdominalCircumferenceStatus          15\n",
       "Smoking                               15\n",
       "SmokelessTobacco                      51\n",
       "Activity                               0\n",
       "Mammography                       189271\n",
       "PapSmear                          125272\n",
       "ClinicalBreastExam                126420\n",
       "ColorectalExam                    189422\n",
       "Alcohol                                0\n",
       "HypertensionHistory                    0\n",
       "DiabetesHistory                        0\n",
       "DiabetesDuringPregnancyHistory     84452\n",
       "CoronaryArteryHistory                  0\n",
       "HighCholesterolHistory                 0\n",
       "AsthmaHistory                          0\n",
       "HeartFailureHistory                    0\n",
       "COPDHistory                            0\n",
       "HeartDiseaseHistory                    0\n",
       "HypertensionMedication                 0\n",
       "DiabetesMedication                     0\n",
       "CholesterolMedication                  0\n",
       "EmergencyReferral                      0\n",
       "HighRisk                               0\n",
       "dtype: int64"
      ]
     },
     "execution_count": 71,
     "metadata": {},
     "output_type": "execute_result"
    }
   ],
   "source": [
    "data.isnull().sum()"
   ]
  },
  {
   "cell_type": "markdown",
   "metadata": {},
   "source": [
    "# Assessment:\n",
    "\n",
    "For 'BPAssessment','DyslipidemiaStatus', 'HDLAssessment', 'LDLAssessment', 'TGSAssessment',\n",
    "       'DMAssessment', 'DiabetesStatusUsingGlucose', \n",
    "       'BMIAssessment', 'AbdominalCircumferenceStatus', 'Smoking',\n",
    "       'SmokelessTobacco', 'Activity'\n",
    "       \n",
    "Except for 'DiabetesStatusUsingA1c'\n",
    "\n",
    "Remove the rows with missing value"
   ]
  },
  {
   "cell_type": "code",
   "execution_count": 72,
   "metadata": {},
   "outputs": [],
   "source": [
    "cols=['BPAssessment','DyslipidemiaStatus', 'HDLAssessment', 'LDLAssessment', 'TGSAssessment',\n",
    "       'DMAssessment', 'DiabetesStatusUsingGlucose', 'BMIAssessment', 'AbdominalCircumferenceStatus', 'Smoking',\n",
    "       'SmokelessTobacco', 'Activity']\n",
    "data = data.dropna(subset=cols)"
   ]
  },
  {
   "cell_type": "code",
   "execution_count": 73,
   "metadata": {},
   "outputs": [
    {
     "data": {
      "text/plain": [
       "(306726, 51)"
      ]
     },
     "execution_count": 73,
     "metadata": {},
     "output_type": "execute_result"
    }
   ],
   "source": [
    "data.shape"
   ]
  },
  {
   "cell_type": "code",
   "execution_count": 74,
   "metadata": {},
   "outputs": [
    {
     "data": {
      "text/plain": [
       "Gender                                 0\n",
       "Age                                    0\n",
       "Fasting                                0\n",
       "GLU                                    0\n",
       "A1c                               231123\n",
       "SBP                                    0\n",
       "DBP                                    0\n",
       "TCHOL                                  0\n",
       "TC:HDL_RATIO                           0\n",
       "LDL                                    0\n",
       "HDL                                    0\n",
       "TGS                                    0\n",
       "AbdominalCir                           0\n",
       "HEIGHT                                 0\n",
       "WEIGHT                                 0\n",
       "BMI                                    0\n",
       "ALT                                    0\n",
       "AST                                    0\n",
       "METS_Risks                             0\n",
       "BPAssessment                           0\n",
       "DyslipidemiaStatus                     0\n",
       "HDLAssessment                          0\n",
       "LDLAssessment                          0\n",
       "TGSAssessment                          0\n",
       "DMAssessment                           0\n",
       "DiabetesStatusUsingGlucose             0\n",
       "DiabetesStatusUsingA1c            231218\n",
       "BMIAssessment                          0\n",
       "AbdominalCircumferenceStatus           0\n",
       "Smoking                                0\n",
       "SmokelessTobacco                       0\n",
       "Activity                               0\n",
       "Mammography                       189096\n",
       "PapSmear                          125156\n",
       "ClinicalBreastExam                126303\n",
       "ColorectalExam                    189238\n",
       "Alcohol                                0\n",
       "HypertensionHistory                    0\n",
       "DiabetesHistory                        0\n",
       "DiabetesDuringPregnancyHistory     84345\n",
       "CoronaryArteryHistory                  0\n",
       "HighCholesterolHistory                 0\n",
       "AsthmaHistory                          0\n",
       "HeartFailureHistory                    0\n",
       "COPDHistory                            0\n",
       "HeartDiseaseHistory                    0\n",
       "HypertensionMedication                 0\n",
       "DiabetesMedication                     0\n",
       "CholesterolMedication                  0\n",
       "EmergencyReferral                      0\n",
       "HighRisk                               0\n",
       "dtype: int64"
      ]
     },
     "execution_count": 74,
     "metadata": {},
     "output_type": "execute_result"
    }
   ],
   "source": [
    "data.isnull().sum()"
   ]
  },
  {
   "cell_type": "markdown",
   "metadata": {},
   "source": [
    "# Map the assessment data into numerical value according to the risk level."
   ]
  },
  {
   "cell_type": "code",
   "execution_count": 75,
   "metadata": {},
   "outputs": [],
   "source": [
    "#\"BPAssessment\"\n",
    "data[\"BPAssessment\"]=data[\"BPAssessment\"].map({'CONTROLLED':3, 'NORMAL':0, 'HYPERTENSION STG1':2, 'HYPERTENSION STG2':4, 'ELEVATED':1, 'HYPERTENSIVE CRISIS':5})\n"
   ]
  },
  {
   "cell_type": "code",
   "execution_count": 76,
   "metadata": {},
   "outputs": [],
   "source": [
    "#\"HDLAssessment\"\n",
    "data = data.drop(data[data[\"HDLAssessment\"]=='NOT FASTING'].index)\n",
    "data[\"HDLAssessment\"]=data[\"HDLAssessment\"].map({'VERY GOOD':0, 'ACCEPTABLE':1, 'LOW':2})"
   ]
  },
  {
   "cell_type": "code",
   "execution_count": 77,
   "metadata": {},
   "outputs": [],
   "source": [
    "#\"LDLAssessment\"\n",
    "data = data.drop(data[data[\"LDLAssessment\"]=='NOT FASTING'].index)\n",
    "data[\"LDLAssessment\"]=data[\"LDLAssessment\"].map({'OPTIMAL':0, 'GOOD':1, 'BORDERLINE HIGH':2, 'CONTROLLED':3, 'HIGH':4}) "
   ]
  },
  {
   "cell_type": "code",
   "execution_count": 78,
   "metadata": {},
   "outputs": [],
   "source": [
    "#\"TGSAssessment\"\n",
    "#data = data.drop(data[data[\"TGSAssessment\"]=='NOT FASTING'].index)\n",
    "data[\"TGSAssessment\"]=data[\"TGSAssessment\"].map({'NORMAL':0, 'BORDERLINE HIGH':1, 'HIGH':2, 'VERY HIGH':3}) "
   ]
  },
  {
   "cell_type": "code",
   "execution_count": 79,
   "metadata": {},
   "outputs": [],
   "source": [
    "#\"DMAssessment\",\"DiabetesStatusUsingGlucose\",\"DiabetesStatusUsingA1c\"\n",
    "maps = {'NORMAL':0, 'PRE-DIABETES':2, 'DIABETES':3, 'MANAGED':1}\n",
    "data = data.drop(data[data[\"DiabetesStatusUsingGlucose\"]=='NOT FASTING'].index)\n",
    "data[\"DMAssessment\"]=data[\"DMAssessment\"].map(maps)\n",
    "data[\"DiabetesStatusUsingGlucose\"]=data[\"DiabetesStatusUsingGlucose\"].map(maps)\n",
    "data[\"DiabetesStatusUsingA1c\"]=data[\"DiabetesStatusUsingA1c\"].map(maps)"
   ]
  },
  {
   "cell_type": "code",
   "execution_count": 80,
   "metadata": {},
   "outputs": [],
   "source": [
    "#BMI\n",
    "maps={'EXTREME OBESITY':4, 'NORMAL':0, 'OBESITY':3, 'OVERWEIGHT':2, 'UNDERWEIGHT':1}\n",
    "data[\"BMIAssessment\"]=data[\"BMIAssessment\"].map(maps)"
   ]
  },
  {
   "cell_type": "code",
   "execution_count": 81,
   "metadata": {},
   "outputs": [],
   "source": [
    "#\"AbdominalCircumferenceStatus\"\n",
    "maps={'HIGH RISK':1, 'NORMAL':0}\n",
    "data[\"AbdominalCircumferenceStatus\"]=data[\"AbdominalCircumferenceStatus\"].map(maps)"
   ]
  },
  {
   "cell_type": "code",
   "execution_count": 82,
   "metadata": {},
   "outputs": [
    {
     "data": {
      "text/plain": [
       "0"
      ]
     },
     "execution_count": 82,
     "metadata": {},
     "output_type": "execute_result"
    }
   ],
   "source": [
    "#\"Gender\"\n",
    "maps_G={'F':1,'M':0}\n",
    "data[\"Gender\"]=data[\"Gender\"].map(maps_G)\n",
    "data[\"Gender\"].isnull().sum()"
   ]
  },
  {
   "cell_type": "code",
   "execution_count": 83,
   "metadata": {},
   "outputs": [],
   "source": [
    "#data.head(4)"
   ]
  },
  {
   "cell_type": "markdown",
   "metadata": {},
   "source": [
    "# Create flag according to the risk level"
   ]
  },
  {
   "cell_type": "code",
   "execution_count": 84,
   "metadata": {},
   "outputs": [
    {
     "name": "stdout",
     "output_type": "stream",
     "text": [
      "0.0    294131\n",
      "1.0     12116\n",
      "2.0       417\n",
      "3.0        55\n",
      "Name: Flag_Mix, dtype: int64\n"
     ]
    }
   ],
   "source": [
    "\"\"\"\n",
    "Create a label feature based on the EmergencyReferral and highrisk for the purpose of building multi-classes models\n",
    "\n",
    "strategy: \n",
    "if EmergencyReferral = yes, and the high risk = yes, assig Flag_Mix = 3\n",
    "if EmergencyReferral = yes, and the high risk = no, assign Flag_Mix = 2\n",
    "if EmergencyReferral = no, and the high risk = yes, assign Flag_Mix = 1\n",
    "if EmergencyReferral = no, and the high risk = no, assign Flag_Mix = 0\n",
    "\n",
    "\"\"\"\n",
    "data.loc[(data['EmergencyReferral']=='YES') & (data['HighRisk']=='YES'), 'Flag_Mix']=3\n",
    "data.loc[(data['EmergencyReferral']=='YES') & (data['HighRisk']=='NO'), 'Flag_Mix']=2\n",
    "data.loc[(data['EmergencyReferral']=='NO') & (data['HighRisk']=='YES'), 'Flag_Mix']=1\n",
    "data.loc[(data['EmergencyReferral']=='NO') & (data['HighRisk']=='NO'), 'Flag_Mix']=0\n",
    "print(data['Flag_Mix'].value_counts())"
   ]
  },
  {
   "cell_type": "code",
   "execution_count": 85,
   "metadata": {},
   "outputs": [
    {
     "name": "stdout",
     "output_type": "stream",
     "text": [
      "0.0    306247\n",
      "1.0       472\n",
      "Name: Flag_E, dtype: int64\n"
     ]
    }
   ],
   "source": [
    "\"\"\"\n",
    "Create a label feature based on the EmergencyReferral only for the purpose of building bi-classes models\n",
    "\n",
    "strategy: \n",
    "if EmergencyReferral = yes  assig Flag_E = 1\n",
    "if EmergencyReferral = no, assign Flag_E = 0\n",
    "\"\"\"\n",
    "data.loc[(data['EmergencyReferral']=='YES'), 'Flag_E']=1\n",
    "data.loc[(data['EmergencyReferral']=='NO'), 'Flag_E']=0\n",
    "print(data['Flag_E'].value_counts())"
   ]
  },
  {
   "cell_type": "code",
   "execution_count": 86,
   "metadata": {},
   "outputs": [
    {
     "name": "stdout",
     "output_type": "stream",
     "text": [
      "0.0    294131\n",
      "1.0     12588\n",
      "Name: Flag, dtype: int64\n",
      "0\n"
     ]
    }
   ],
   "source": [
    "\"\"\"\n",
    "Create a label feature based on the EmergencyReferral and highrisk for the purpose of building bi-classes models\n",
    "\n",
    "Strategy: \n",
    "if Emergency Referral = yes, or High Risk = yes, assig Flag = 1\n",
    "if Emergency Referral = yes, and High Risk = no, assign Flag = 0\n",
    "if Emergency Referral = no, and High Risk = yes, assign Flag = 0\n",
    "if Emergency Referral = no, and High Risk = no, assign Flag= 0\n",
    "\n",
    "\n",
    "\"\"\"\n",
    "data.loc[(data['EmergencyReferral']=='YES') | (data['HighRisk']=='YES'), 'Flag']=1\n",
    "data.loc[(data['EmergencyReferral']=='NO') & (data['HighRisk']=='NO'), 'Flag']=0\n",
    "print(data['Flag'].value_counts())\n",
    "print(data['Flag'].isnull().sum())\n",
    "#data=data.drop(columns=['Flag_EH'])"
   ]
  },
  {
   "cell_type": "code",
   "execution_count": 87,
   "metadata": {},
   "outputs": [
    {
     "data": {
      "text/plain": [
       "Gender                                 0\n",
       "Age                                    0\n",
       "Fasting                                0\n",
       "GLU                                    0\n",
       "A1c                               231119\n",
       "SBP                                    0\n",
       "DBP                                    0\n",
       "TCHOL                                  0\n",
       "TC:HDL_RATIO                           0\n",
       "LDL                                    0\n",
       "HDL                                    0\n",
       "TGS                                    0\n",
       "AbdominalCir                           0\n",
       "HEIGHT                                 0\n",
       "WEIGHT                                 0\n",
       "BMI                                    0\n",
       "ALT                                    0\n",
       "AST                                    0\n",
       "METS_Risks                             0\n",
       "BPAssessment                           0\n",
       "DyslipidemiaStatus                     0\n",
       "HDLAssessment                          0\n",
       "LDLAssessment                          0\n",
       "TGSAssessment                          0\n",
       "DMAssessment                           0\n",
       "DiabetesStatusUsingGlucose             0\n",
       "DiabetesStatusUsingA1c            231214\n",
       "BMIAssessment                          0\n",
       "AbdominalCircumferenceStatus      167214\n",
       "Smoking                                0\n",
       "SmokelessTobacco                       0\n",
       "Activity                               0\n",
       "Mammography                       189094\n",
       "PapSmear                          125155\n",
       "ClinicalBreastExam                126302\n",
       "ColorectalExam                    189232\n",
       "Alcohol                                0\n",
       "HypertensionHistory                    0\n",
       "DiabetesHistory                        0\n",
       "DiabetesDuringPregnancyHistory     84344\n",
       "CoronaryArteryHistory                  0\n",
       "HighCholesterolHistory                 0\n",
       "AsthmaHistory                          0\n",
       "HeartFailureHistory                    0\n",
       "COPDHistory                            0\n",
       "HeartDiseaseHistory                    0\n",
       "HypertensionMedication                 0\n",
       "DiabetesMedication                     0\n",
       "CholesterolMedication                  0\n",
       "EmergencyReferral                      0\n",
       "HighRisk                               0\n",
       "Flag_Mix                               0\n",
       "Flag_E                                 0\n",
       "Flag                                   0\n",
       "dtype: int64"
      ]
     },
     "execution_count": 87,
     "metadata": {},
     "output_type": "execute_result"
    }
   ],
   "source": [
    "data.isnull().sum()"
   ]
  },
  {
   "cell_type": "markdown",
   "metadata": {},
   "source": [
    "# Write out the cleaned data into two datasets: \n",
    "\n",
    "1. With the Gender info for further descriptive analysis.\n",
    "\n",
    "2. Remove all gender & age-related features."
   ]
  },
  {
   "cell_type": "code",
   "execution_count": 88,
   "metadata": {},
   "outputs": [],
   "source": [
    "# with ggender & age-related features:\n",
    "data.to_csv('~/working_project/2018data/raw_data/deidentified/cleaned_G.csv',index=False)"
   ]
  },
  {
   "cell_type": "code",
   "execution_count": 89,
   "metadata": {},
   "outputs": [
    {
     "data": {
      "text/plain": [
       "Gender                        0\n",
       "Age                           0\n",
       "GLU                           0\n",
       "SBP                           0\n",
       "DBP                           0\n",
       "TCHOL                         0\n",
       "TC:HDL_RATIO                  0\n",
       "LDL                           0\n",
       "HDL                           0\n",
       "TGS                           0\n",
       "AbdominalCir                  0\n",
       "HEIGHT                        0\n",
       "WEIGHT                        0\n",
       "BMI                           0\n",
       "ALT                           0\n",
       "AST                           0\n",
       "METS_Risks                    0\n",
       "BPAssessment                  0\n",
       "DyslipidemiaStatus            0\n",
       "HDLAssessment                 0\n",
       "LDLAssessment                 0\n",
       "TGSAssessment                 0\n",
       "DMAssessment                  0\n",
       "DiabetesStatusUsingGlucose    0\n",
       "BMIAssessment                 0\n",
       "Smoking                       0\n",
       "SmokelessTobacco              0\n",
       "Activity                      0\n",
       "Alcohol                       0\n",
       "HypertensionHistory           0\n",
       "DiabetesHistory               0\n",
       "CoronaryArteryHistory         0\n",
       "HighCholesterolHistory        0\n",
       "AsthmaHistory                 0\n",
       "HeartFailureHistory           0\n",
       "COPDHistory                   0\n",
       "HeartDiseaseHistory           0\n",
       "HypertensionMedication        0\n",
       "DiabetesMedication            0\n",
       "CholesterolMedication         0\n",
       "EmergencyReferral             0\n",
       "HighRisk                      0\n",
       "Flag_Mix                      0\n",
       "Flag_E                        0\n",
       "Flag                          0\n",
       "dtype: int64"
      ]
     },
     "execution_count": 89,
     "metadata": {},
     "output_type": "execute_result"
    }
   ],
   "source": [
    "# without gender-related features:\n",
    "cols=[\"Fasting\",\"A1c\",\"DiabetesStatusUsingA1c\",\"AbdominalCircumferenceStatus\",\n",
    "      \"Mammography\",\"PapSmear\",\"ClinicalBreastExam\",\"ColorectalExam\",\"DiabetesDuringPregnancyHistory\"]\n",
    "data_cleaned=data.drop(columns=cols)\n",
    "data_cleaned.isnull().sum()"
   ]
  },
  {
   "cell_type": "code",
   "execution_count": 90,
   "metadata": {},
   "outputs": [],
   "source": [
    "data_cleaned.to_csv('~/working_project/2018data/raw_data/deidentified/cleaned.csv',index=False)"
   ]
  },
  {
   "cell_type": "code",
   "execution_count": null,
   "metadata": {},
   "outputs": [],
   "source": []
  }
 ],
 "metadata": {
  "kernelspec": {
   "display_name": "Python 3",
   "language": "python",
   "name": "python3"
  },
  "language_info": {
   "codemirror_mode": {
    "name": "ipython",
    "version": 3
   },
   "file_extension": ".py",
   "mimetype": "text/x-python",
   "name": "python",
   "nbconvert_exporter": "python",
   "pygments_lexer": "ipython3",
   "version": "3.7.1"
  }
 },
 "nbformat": 4,
 "nbformat_minor": 2
}